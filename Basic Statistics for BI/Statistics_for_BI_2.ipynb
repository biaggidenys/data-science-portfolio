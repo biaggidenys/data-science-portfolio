{
  "nbformat": 4,
  "nbformat_minor": 0,
  "metadata": {
    "colab": {
      "provenance": []
    },
    "kernelspec": {
      "name": "python3",
      "display_name": "Python 3"
    },
    "language_info": {
      "name": "python"
    }
  },
  "cells": [
    {
      "cell_type": "markdown",
      "source": [
        "# Teste de Hipótese para a Média (uma variável)\n",
        "\n",
        "### Atividade 1: Crie um dataframe a partir do banco de dados `basedosdados.br_inep_ideb.municipio` disponível em [Ideb](https://basedosdados.org/dataset/br-inep-ideb?bdm_table=municipio). Selecione apenas as colunas `ano`, `sigla_uf`, `taxa_aprovacao`, `nota_saeb_matematica`, `nota_saeb_lingua_portuguesa` e `ideb`."
      ],
      "metadata": {
        "id": "9H7XRk3GlSOe"
      }
    },
    {
      "cell_type": "code",
      "source": [
        "# Importando os dados do Ideb\n",
        "import pandas as pd\n",
        "df = pd.read_csv('ideb.csv')\n",
        "df.head()"
      ],
      "metadata": {
        "id": "-cfY16BHT88h",
        "colab": {
          "base_uri": "https://localhost:8080/",
          "height": 243
        },
        "outputId": "3a878999-3462-4b94-f508-c363b9b064a7"
      },
      "execution_count": null,
      "outputs": [
        {
          "output_type": "execute_result",
          "data": {
            "text/plain": [
              "   Unnamed: 0   ano sigla_uf  id_municipio       rede       ensino  \\\n",
              "0           0  2005       AC       1200054  municipal  fundamental   \n",
              "1           1  2005       AC       1200302  municipal  fundamental   \n",
              "2           2  2005       AC       1200328   estadual  fundamental   \n",
              "3           3  2005       AC       1200328  municipal  fundamental   \n",
              "4           4  2005       AC       1200328    publica  fundamental   \n",
              "\n",
              "   anos_escolares  taxa_aprovacao  indicador_rendimento  nota_saeb_matematica  \\\n",
              "0  iniciais (1-5)            64.1              0.645727                 161.8   \n",
              "1  iniciais (1-5)            53.9              0.561795                 167.8   \n",
              "2  iniciais (1-5)            49.3              0.501470                 151.8   \n",
              "3  iniciais (1-5)            48.8              0.494267                 163.6   \n",
              "4  iniciais (1-5)            48.8              0.497858                 159.0   \n",
              "\n",
              "   nota_saeb_lingua_portuguesa  nota_saeb_media_padronizada  ideb  projecao  \n",
              "0                       150.80                     3.794003   2.4       NaN  \n",
              "1                       165.60                     4.177761   2.3       NaN  \n",
              "2                       149.60                     3.578558   1.8       NaN  \n",
              "3                       155.80                     3.920963   1.9       NaN  \n",
              "4                       153.39                     3.785995   1.9       NaN  "
            ],
            "text/html": [
              "\n",
              "  <div id=\"df-aa6810b0-3bbd-4c8c-a57f-254e3fb02b55\" class=\"colab-df-container\">\n",
              "    <div>\n",
              "<style scoped>\n",
              "    .dataframe tbody tr th:only-of-type {\n",
              "        vertical-align: middle;\n",
              "    }\n",
              "\n",
              "    .dataframe tbody tr th {\n",
              "        vertical-align: top;\n",
              "    }\n",
              "\n",
              "    .dataframe thead th {\n",
              "        text-align: right;\n",
              "    }\n",
              "</style>\n",
              "<table border=\"1\" class=\"dataframe\">\n",
              "  <thead>\n",
              "    <tr style=\"text-align: right;\">\n",
              "      <th></th>\n",
              "      <th>Unnamed: 0</th>\n",
              "      <th>ano</th>\n",
              "      <th>sigla_uf</th>\n",
              "      <th>id_municipio</th>\n",
              "      <th>rede</th>\n",
              "      <th>ensino</th>\n",
              "      <th>anos_escolares</th>\n",
              "      <th>taxa_aprovacao</th>\n",
              "      <th>indicador_rendimento</th>\n",
              "      <th>nota_saeb_matematica</th>\n",
              "      <th>nota_saeb_lingua_portuguesa</th>\n",
              "      <th>nota_saeb_media_padronizada</th>\n",
              "      <th>ideb</th>\n",
              "      <th>projecao</th>\n",
              "    </tr>\n",
              "  </thead>\n",
              "  <tbody>\n",
              "    <tr>\n",
              "      <th>0</th>\n",
              "      <td>0</td>\n",
              "      <td>2005</td>\n",
              "      <td>AC</td>\n",
              "      <td>1200054</td>\n",
              "      <td>municipal</td>\n",
              "      <td>fundamental</td>\n",
              "      <td>iniciais (1-5)</td>\n",
              "      <td>64.1</td>\n",
              "      <td>0.645727</td>\n",
              "      <td>161.8</td>\n",
              "      <td>150.80</td>\n",
              "      <td>3.794003</td>\n",
              "      <td>2.4</td>\n",
              "      <td>NaN</td>\n",
              "    </tr>\n",
              "    <tr>\n",
              "      <th>1</th>\n",
              "      <td>1</td>\n",
              "      <td>2005</td>\n",
              "      <td>AC</td>\n",
              "      <td>1200302</td>\n",
              "      <td>municipal</td>\n",
              "      <td>fundamental</td>\n",
              "      <td>iniciais (1-5)</td>\n",
              "      <td>53.9</td>\n",
              "      <td>0.561795</td>\n",
              "      <td>167.8</td>\n",
              "      <td>165.60</td>\n",
              "      <td>4.177761</td>\n",
              "      <td>2.3</td>\n",
              "      <td>NaN</td>\n",
              "    </tr>\n",
              "    <tr>\n",
              "      <th>2</th>\n",
              "      <td>2</td>\n",
              "      <td>2005</td>\n",
              "      <td>AC</td>\n",
              "      <td>1200328</td>\n",
              "      <td>estadual</td>\n",
              "      <td>fundamental</td>\n",
              "      <td>iniciais (1-5)</td>\n",
              "      <td>49.3</td>\n",
              "      <td>0.501470</td>\n",
              "      <td>151.8</td>\n",
              "      <td>149.60</td>\n",
              "      <td>3.578558</td>\n",
              "      <td>1.8</td>\n",
              "      <td>NaN</td>\n",
              "    </tr>\n",
              "    <tr>\n",
              "      <th>3</th>\n",
              "      <td>3</td>\n",
              "      <td>2005</td>\n",
              "      <td>AC</td>\n",
              "      <td>1200328</td>\n",
              "      <td>municipal</td>\n",
              "      <td>fundamental</td>\n",
              "      <td>iniciais (1-5)</td>\n",
              "      <td>48.8</td>\n",
              "      <td>0.494267</td>\n",
              "      <td>163.6</td>\n",
              "      <td>155.80</td>\n",
              "      <td>3.920963</td>\n",
              "      <td>1.9</td>\n",
              "      <td>NaN</td>\n",
              "    </tr>\n",
              "    <tr>\n",
              "      <th>4</th>\n",
              "      <td>4</td>\n",
              "      <td>2005</td>\n",
              "      <td>AC</td>\n",
              "      <td>1200328</td>\n",
              "      <td>publica</td>\n",
              "      <td>fundamental</td>\n",
              "      <td>iniciais (1-5)</td>\n",
              "      <td>48.8</td>\n",
              "      <td>0.497858</td>\n",
              "      <td>159.0</td>\n",
              "      <td>153.39</td>\n",
              "      <td>3.785995</td>\n",
              "      <td>1.9</td>\n",
              "      <td>NaN</td>\n",
              "    </tr>\n",
              "  </tbody>\n",
              "</table>\n",
              "</div>\n",
              "    <div class=\"colab-df-buttons\">\n",
              "\n",
              "  <div class=\"colab-df-container\">\n",
              "    <button class=\"colab-df-convert\" onclick=\"convertToInteractive('df-aa6810b0-3bbd-4c8c-a57f-254e3fb02b55')\"\n",
              "            title=\"Convert this dataframe to an interactive table.\"\n",
              "            style=\"display:none;\">\n",
              "\n",
              "  <svg xmlns=\"http://www.w3.org/2000/svg\" height=\"24px\" viewBox=\"0 -960 960 960\">\n",
              "    <path d=\"M120-120v-720h720v720H120Zm60-500h600v-160H180v160Zm220 220h160v-160H400v160Zm0 220h160v-160H400v160ZM180-400h160v-160H180v160Zm440 0h160v-160H620v160ZM180-180h160v-160H180v160Zm440 0h160v-160H620v160Z\"/>\n",
              "  </svg>\n",
              "    </button>\n",
              "\n",
              "  <style>\n",
              "    .colab-df-container {\n",
              "      display:flex;\n",
              "      gap: 12px;\n",
              "    }\n",
              "\n",
              "    .colab-df-convert {\n",
              "      background-color: #E8F0FE;\n",
              "      border: none;\n",
              "      border-radius: 50%;\n",
              "      cursor: pointer;\n",
              "      display: none;\n",
              "      fill: #1967D2;\n",
              "      height: 32px;\n",
              "      padding: 0 0 0 0;\n",
              "      width: 32px;\n",
              "    }\n",
              "\n",
              "    .colab-df-convert:hover {\n",
              "      background-color: #E2EBFA;\n",
              "      box-shadow: 0px 1px 2px rgba(60, 64, 67, 0.3), 0px 1px 3px 1px rgba(60, 64, 67, 0.15);\n",
              "      fill: #174EA6;\n",
              "    }\n",
              "\n",
              "    .colab-df-buttons div {\n",
              "      margin-bottom: 4px;\n",
              "    }\n",
              "\n",
              "    [theme=dark] .colab-df-convert {\n",
              "      background-color: #3B4455;\n",
              "      fill: #D2E3FC;\n",
              "    }\n",
              "\n",
              "    [theme=dark] .colab-df-convert:hover {\n",
              "      background-color: #434B5C;\n",
              "      box-shadow: 0px 1px 3px 1px rgba(0, 0, 0, 0.15);\n",
              "      filter: drop-shadow(0px 1px 2px rgba(0, 0, 0, 0.3));\n",
              "      fill: #FFFFFF;\n",
              "    }\n",
              "  </style>\n",
              "\n",
              "    <script>\n",
              "      const buttonEl =\n",
              "        document.querySelector('#df-aa6810b0-3bbd-4c8c-a57f-254e3fb02b55 button.colab-df-convert');\n",
              "      buttonEl.style.display =\n",
              "        google.colab.kernel.accessAllowed ? 'block' : 'none';\n",
              "\n",
              "      async function convertToInteractive(key) {\n",
              "        const element = document.querySelector('#df-aa6810b0-3bbd-4c8c-a57f-254e3fb02b55');\n",
              "        const dataTable =\n",
              "          await google.colab.kernel.invokeFunction('convertToInteractive',\n",
              "                                                    [key], {});\n",
              "        if (!dataTable) return;\n",
              "\n",
              "        const docLinkHtml = 'Like what you see? Visit the ' +\n",
              "          '<a target=\"_blank\" href=https://colab.research.google.com/notebooks/data_table.ipynb>data table notebook</a>'\n",
              "          + ' to learn more about interactive tables.';\n",
              "        element.innerHTML = '';\n",
              "        dataTable['output_type'] = 'display_data';\n",
              "        await google.colab.output.renderOutput(dataTable, element);\n",
              "        const docLink = document.createElement('div');\n",
              "        docLink.innerHTML = docLinkHtml;\n",
              "        element.appendChild(docLink);\n",
              "      }\n",
              "    </script>\n",
              "  </div>\n",
              "\n",
              "\n",
              "<div id=\"df-36dc0cf2-50f3-4a12-a090-72b86891fdbe\">\n",
              "  <button class=\"colab-df-quickchart\" onclick=\"quickchart('df-36dc0cf2-50f3-4a12-a090-72b86891fdbe')\"\n",
              "            title=\"Suggest charts\"\n",
              "            style=\"display:none;\">\n",
              "\n",
              "<svg xmlns=\"http://www.w3.org/2000/svg\" height=\"24px\"viewBox=\"0 0 24 24\"\n",
              "     width=\"24px\">\n",
              "    <g>\n",
              "        <path d=\"M19 3H5c-1.1 0-2 .9-2 2v14c0 1.1.9 2 2 2h14c1.1 0 2-.9 2-2V5c0-1.1-.9-2-2-2zM9 17H7v-7h2v7zm4 0h-2V7h2v10zm4 0h-2v-4h2v4z\"/>\n",
              "    </g>\n",
              "</svg>\n",
              "  </button>\n",
              "\n",
              "<style>\n",
              "  .colab-df-quickchart {\n",
              "      --bg-color: #E8F0FE;\n",
              "      --fill-color: #1967D2;\n",
              "      --hover-bg-color: #E2EBFA;\n",
              "      --hover-fill-color: #174EA6;\n",
              "      --disabled-fill-color: #AAA;\n",
              "      --disabled-bg-color: #DDD;\n",
              "  }\n",
              "\n",
              "  [theme=dark] .colab-df-quickchart {\n",
              "      --bg-color: #3B4455;\n",
              "      --fill-color: #D2E3FC;\n",
              "      --hover-bg-color: #434B5C;\n",
              "      --hover-fill-color: #FFFFFF;\n",
              "      --disabled-bg-color: #3B4455;\n",
              "      --disabled-fill-color: #666;\n",
              "  }\n",
              "\n",
              "  .colab-df-quickchart {\n",
              "    background-color: var(--bg-color);\n",
              "    border: none;\n",
              "    border-radius: 50%;\n",
              "    cursor: pointer;\n",
              "    display: none;\n",
              "    fill: var(--fill-color);\n",
              "    height: 32px;\n",
              "    padding: 0;\n",
              "    width: 32px;\n",
              "  }\n",
              "\n",
              "  .colab-df-quickchart:hover {\n",
              "    background-color: var(--hover-bg-color);\n",
              "    box-shadow: 0 1px 2px rgba(60, 64, 67, 0.3), 0 1px 3px 1px rgba(60, 64, 67, 0.15);\n",
              "    fill: var(--button-hover-fill-color);\n",
              "  }\n",
              "\n",
              "  .colab-df-quickchart-complete:disabled,\n",
              "  .colab-df-quickchart-complete:disabled:hover {\n",
              "    background-color: var(--disabled-bg-color);\n",
              "    fill: var(--disabled-fill-color);\n",
              "    box-shadow: none;\n",
              "  }\n",
              "\n",
              "  .colab-df-spinner {\n",
              "    border: 2px solid var(--fill-color);\n",
              "    border-color: transparent;\n",
              "    border-bottom-color: var(--fill-color);\n",
              "    animation:\n",
              "      spin 1s steps(1) infinite;\n",
              "  }\n",
              "\n",
              "  @keyframes spin {\n",
              "    0% {\n",
              "      border-color: transparent;\n",
              "      border-bottom-color: var(--fill-color);\n",
              "      border-left-color: var(--fill-color);\n",
              "    }\n",
              "    20% {\n",
              "      border-color: transparent;\n",
              "      border-left-color: var(--fill-color);\n",
              "      border-top-color: var(--fill-color);\n",
              "    }\n",
              "    30% {\n",
              "      border-color: transparent;\n",
              "      border-left-color: var(--fill-color);\n",
              "      border-top-color: var(--fill-color);\n",
              "      border-right-color: var(--fill-color);\n",
              "    }\n",
              "    40% {\n",
              "      border-color: transparent;\n",
              "      border-right-color: var(--fill-color);\n",
              "      border-top-color: var(--fill-color);\n",
              "    }\n",
              "    60% {\n",
              "      border-color: transparent;\n",
              "      border-right-color: var(--fill-color);\n",
              "    }\n",
              "    80% {\n",
              "      border-color: transparent;\n",
              "      border-right-color: var(--fill-color);\n",
              "      border-bottom-color: var(--fill-color);\n",
              "    }\n",
              "    90% {\n",
              "      border-color: transparent;\n",
              "      border-bottom-color: var(--fill-color);\n",
              "    }\n",
              "  }\n",
              "</style>\n",
              "\n",
              "  <script>\n",
              "    async function quickchart(key) {\n",
              "      const quickchartButtonEl =\n",
              "        document.querySelector('#' + key + ' button');\n",
              "      quickchartButtonEl.disabled = true;  // To prevent multiple clicks.\n",
              "      quickchartButtonEl.classList.add('colab-df-spinner');\n",
              "      try {\n",
              "        const charts = await google.colab.kernel.invokeFunction(\n",
              "            'suggestCharts', [key], {});\n",
              "      } catch (error) {\n",
              "        console.error('Error during call to suggestCharts:', error);\n",
              "      }\n",
              "      quickchartButtonEl.classList.remove('colab-df-spinner');\n",
              "      quickchartButtonEl.classList.add('colab-df-quickchart-complete');\n",
              "    }\n",
              "    (() => {\n",
              "      let quickchartButtonEl =\n",
              "        document.querySelector('#df-36dc0cf2-50f3-4a12-a090-72b86891fdbe button');\n",
              "      quickchartButtonEl.style.display =\n",
              "        google.colab.kernel.accessAllowed ? 'block' : 'none';\n",
              "    })();\n",
              "  </script>\n",
              "</div>\n",
              "\n",
              "    </div>\n",
              "  </div>\n"
            ],
            "application/vnd.google.colaboratory.intrinsic+json": {
              "type": "dataframe",
              "variable_name": "df"
            }
          },
          "metadata": {},
          "execution_count": 113
        }
      ]
    },
    {
      "cell_type": "code",
      "source": [
        "# Filtrando as colunas que vamos trabalhar\n",
        "df_filter = df[['ano','sigla_uf', 'taxa_aprovacao', 'nota_saeb_matematica', 'nota_saeb_lingua_portuguesa', 'ideb']]\n",
        "df_filter"
      ],
      "metadata": {
        "id": "daQqvK6NWWTW",
        "colab": {
          "base_uri": "https://localhost:8080/",
          "height": 423
        },
        "outputId": "a4fa17af-e1e1-40db-dff8-61acb2d1b23c"
      },
      "execution_count": null,
      "outputs": [
        {
          "output_type": "execute_result",
          "data": {
            "text/plain": [
              "         ano sigla_uf  taxa_aprovacao  nota_saeb_matematica  \\\n",
              "0       2005       AC            64.1                161.80   \n",
              "1       2005       AC            53.9                167.80   \n",
              "2       2005       AC            49.3                151.80   \n",
              "3       2005       AC            48.8                163.60   \n",
              "4       2005       AC            48.8                159.00   \n",
              "...      ...      ...             ...                   ...   \n",
              "130189  2019       SP            97.1                253.44   \n",
              "130190  2019       SP            97.4                246.38   \n",
              "130191  2019       SP            97.4                246.38   \n",
              "130192  2019       SP            99.6                245.08   \n",
              "130193  2019       SP            99.6                245.08   \n",
              "\n",
              "        nota_saeb_lingua_portuguesa  ideb  \n",
              "0                            150.80   2.4  \n",
              "1                            165.60   2.3  \n",
              "2                            149.60   1.8  \n",
              "3                            155.80   1.9  \n",
              "4                            153.39   1.9  \n",
              "...                             ...   ...  \n",
              "130189                       225.44   6.7  \n",
              "130190                       231.63   6.7  \n",
              "130191                       231.63   6.7  \n",
              "130192                       227.11   6.7  \n",
              "130193                       227.11   6.7  \n",
              "\n",
              "[130194 rows x 6 columns]"
            ],
            "text/html": [
              "\n",
              "  <div id=\"df-894a5f03-5c97-45bc-a188-1f2b92704e66\" class=\"colab-df-container\">\n",
              "    <div>\n",
              "<style scoped>\n",
              "    .dataframe tbody tr th:only-of-type {\n",
              "        vertical-align: middle;\n",
              "    }\n",
              "\n",
              "    .dataframe tbody tr th {\n",
              "        vertical-align: top;\n",
              "    }\n",
              "\n",
              "    .dataframe thead th {\n",
              "        text-align: right;\n",
              "    }\n",
              "</style>\n",
              "<table border=\"1\" class=\"dataframe\">\n",
              "  <thead>\n",
              "    <tr style=\"text-align: right;\">\n",
              "      <th></th>\n",
              "      <th>ano</th>\n",
              "      <th>sigla_uf</th>\n",
              "      <th>taxa_aprovacao</th>\n",
              "      <th>nota_saeb_matematica</th>\n",
              "      <th>nota_saeb_lingua_portuguesa</th>\n",
              "      <th>ideb</th>\n",
              "    </tr>\n",
              "  </thead>\n",
              "  <tbody>\n",
              "    <tr>\n",
              "      <th>0</th>\n",
              "      <td>2005</td>\n",
              "      <td>AC</td>\n",
              "      <td>64.1</td>\n",
              "      <td>161.80</td>\n",
              "      <td>150.80</td>\n",
              "      <td>2.4</td>\n",
              "    </tr>\n",
              "    <tr>\n",
              "      <th>1</th>\n",
              "      <td>2005</td>\n",
              "      <td>AC</td>\n",
              "      <td>53.9</td>\n",
              "      <td>167.80</td>\n",
              "      <td>165.60</td>\n",
              "      <td>2.3</td>\n",
              "    </tr>\n",
              "    <tr>\n",
              "      <th>2</th>\n",
              "      <td>2005</td>\n",
              "      <td>AC</td>\n",
              "      <td>49.3</td>\n",
              "      <td>151.80</td>\n",
              "      <td>149.60</td>\n",
              "      <td>1.8</td>\n",
              "    </tr>\n",
              "    <tr>\n",
              "      <th>3</th>\n",
              "      <td>2005</td>\n",
              "      <td>AC</td>\n",
              "      <td>48.8</td>\n",
              "      <td>163.60</td>\n",
              "      <td>155.80</td>\n",
              "      <td>1.9</td>\n",
              "    </tr>\n",
              "    <tr>\n",
              "      <th>4</th>\n",
              "      <td>2005</td>\n",
              "      <td>AC</td>\n",
              "      <td>48.8</td>\n",
              "      <td>159.00</td>\n",
              "      <td>153.39</td>\n",
              "      <td>1.9</td>\n",
              "    </tr>\n",
              "    <tr>\n",
              "      <th>...</th>\n",
              "      <td>...</td>\n",
              "      <td>...</td>\n",
              "      <td>...</td>\n",
              "      <td>...</td>\n",
              "      <td>...</td>\n",
              "      <td>...</td>\n",
              "    </tr>\n",
              "    <tr>\n",
              "      <th>130189</th>\n",
              "      <td>2019</td>\n",
              "      <td>SP</td>\n",
              "      <td>97.1</td>\n",
              "      <td>253.44</td>\n",
              "      <td>225.44</td>\n",
              "      <td>6.7</td>\n",
              "    </tr>\n",
              "    <tr>\n",
              "      <th>130190</th>\n",
              "      <td>2019</td>\n",
              "      <td>SP</td>\n",
              "      <td>97.4</td>\n",
              "      <td>246.38</td>\n",
              "      <td>231.63</td>\n",
              "      <td>6.7</td>\n",
              "    </tr>\n",
              "    <tr>\n",
              "      <th>130191</th>\n",
              "      <td>2019</td>\n",
              "      <td>SP</td>\n",
              "      <td>97.4</td>\n",
              "      <td>246.38</td>\n",
              "      <td>231.63</td>\n",
              "      <td>6.7</td>\n",
              "    </tr>\n",
              "    <tr>\n",
              "      <th>130192</th>\n",
              "      <td>2019</td>\n",
              "      <td>SP</td>\n",
              "      <td>99.6</td>\n",
              "      <td>245.08</td>\n",
              "      <td>227.11</td>\n",
              "      <td>6.7</td>\n",
              "    </tr>\n",
              "    <tr>\n",
              "      <th>130193</th>\n",
              "      <td>2019</td>\n",
              "      <td>SP</td>\n",
              "      <td>99.6</td>\n",
              "      <td>245.08</td>\n",
              "      <td>227.11</td>\n",
              "      <td>6.7</td>\n",
              "    </tr>\n",
              "  </tbody>\n",
              "</table>\n",
              "<p>130194 rows × 6 columns</p>\n",
              "</div>\n",
              "    <div class=\"colab-df-buttons\">\n",
              "\n",
              "  <div class=\"colab-df-container\">\n",
              "    <button class=\"colab-df-convert\" onclick=\"convertToInteractive('df-894a5f03-5c97-45bc-a188-1f2b92704e66')\"\n",
              "            title=\"Convert this dataframe to an interactive table.\"\n",
              "            style=\"display:none;\">\n",
              "\n",
              "  <svg xmlns=\"http://www.w3.org/2000/svg\" height=\"24px\" viewBox=\"0 -960 960 960\">\n",
              "    <path d=\"M120-120v-720h720v720H120Zm60-500h600v-160H180v160Zm220 220h160v-160H400v160Zm0 220h160v-160H400v160ZM180-400h160v-160H180v160Zm440 0h160v-160H620v160ZM180-180h160v-160H180v160Zm440 0h160v-160H620v160Z\"/>\n",
              "  </svg>\n",
              "    </button>\n",
              "\n",
              "  <style>\n",
              "    .colab-df-container {\n",
              "      display:flex;\n",
              "      gap: 12px;\n",
              "    }\n",
              "\n",
              "    .colab-df-convert {\n",
              "      background-color: #E8F0FE;\n",
              "      border: none;\n",
              "      border-radius: 50%;\n",
              "      cursor: pointer;\n",
              "      display: none;\n",
              "      fill: #1967D2;\n",
              "      height: 32px;\n",
              "      padding: 0 0 0 0;\n",
              "      width: 32px;\n",
              "    }\n",
              "\n",
              "    .colab-df-convert:hover {\n",
              "      background-color: #E2EBFA;\n",
              "      box-shadow: 0px 1px 2px rgba(60, 64, 67, 0.3), 0px 1px 3px 1px rgba(60, 64, 67, 0.15);\n",
              "      fill: #174EA6;\n",
              "    }\n",
              "\n",
              "    .colab-df-buttons div {\n",
              "      margin-bottom: 4px;\n",
              "    }\n",
              "\n",
              "    [theme=dark] .colab-df-convert {\n",
              "      background-color: #3B4455;\n",
              "      fill: #D2E3FC;\n",
              "    }\n",
              "\n",
              "    [theme=dark] .colab-df-convert:hover {\n",
              "      background-color: #434B5C;\n",
              "      box-shadow: 0px 1px 3px 1px rgba(0, 0, 0, 0.15);\n",
              "      filter: drop-shadow(0px 1px 2px rgba(0, 0, 0, 0.3));\n",
              "      fill: #FFFFFF;\n",
              "    }\n",
              "  </style>\n",
              "\n",
              "    <script>\n",
              "      const buttonEl =\n",
              "        document.querySelector('#df-894a5f03-5c97-45bc-a188-1f2b92704e66 button.colab-df-convert');\n",
              "      buttonEl.style.display =\n",
              "        google.colab.kernel.accessAllowed ? 'block' : 'none';\n",
              "\n",
              "      async function convertToInteractive(key) {\n",
              "        const element = document.querySelector('#df-894a5f03-5c97-45bc-a188-1f2b92704e66');\n",
              "        const dataTable =\n",
              "          await google.colab.kernel.invokeFunction('convertToInteractive',\n",
              "                                                    [key], {});\n",
              "        if (!dataTable) return;\n",
              "\n",
              "        const docLinkHtml = 'Like what you see? Visit the ' +\n",
              "          '<a target=\"_blank\" href=https://colab.research.google.com/notebooks/data_table.ipynb>data table notebook</a>'\n",
              "          + ' to learn more about interactive tables.';\n",
              "        element.innerHTML = '';\n",
              "        dataTable['output_type'] = 'display_data';\n",
              "        await google.colab.output.renderOutput(dataTable, element);\n",
              "        const docLink = document.createElement('div');\n",
              "        docLink.innerHTML = docLinkHtml;\n",
              "        element.appendChild(docLink);\n",
              "      }\n",
              "    </script>\n",
              "  </div>\n",
              "\n",
              "\n",
              "<div id=\"df-581fb2fb-15f2-4087-a59c-96d165431417\">\n",
              "  <button class=\"colab-df-quickchart\" onclick=\"quickchart('df-581fb2fb-15f2-4087-a59c-96d165431417')\"\n",
              "            title=\"Suggest charts\"\n",
              "            style=\"display:none;\">\n",
              "\n",
              "<svg xmlns=\"http://www.w3.org/2000/svg\" height=\"24px\"viewBox=\"0 0 24 24\"\n",
              "     width=\"24px\">\n",
              "    <g>\n",
              "        <path d=\"M19 3H5c-1.1 0-2 .9-2 2v14c0 1.1.9 2 2 2h14c1.1 0 2-.9 2-2V5c0-1.1-.9-2-2-2zM9 17H7v-7h2v7zm4 0h-2V7h2v10zm4 0h-2v-4h2v4z\"/>\n",
              "    </g>\n",
              "</svg>\n",
              "  </button>\n",
              "\n",
              "<style>\n",
              "  .colab-df-quickchart {\n",
              "      --bg-color: #E8F0FE;\n",
              "      --fill-color: #1967D2;\n",
              "      --hover-bg-color: #E2EBFA;\n",
              "      --hover-fill-color: #174EA6;\n",
              "      --disabled-fill-color: #AAA;\n",
              "      --disabled-bg-color: #DDD;\n",
              "  }\n",
              "\n",
              "  [theme=dark] .colab-df-quickchart {\n",
              "      --bg-color: #3B4455;\n",
              "      --fill-color: #D2E3FC;\n",
              "      --hover-bg-color: #434B5C;\n",
              "      --hover-fill-color: #FFFFFF;\n",
              "      --disabled-bg-color: #3B4455;\n",
              "      --disabled-fill-color: #666;\n",
              "  }\n",
              "\n",
              "  .colab-df-quickchart {\n",
              "    background-color: var(--bg-color);\n",
              "    border: none;\n",
              "    border-radius: 50%;\n",
              "    cursor: pointer;\n",
              "    display: none;\n",
              "    fill: var(--fill-color);\n",
              "    height: 32px;\n",
              "    padding: 0;\n",
              "    width: 32px;\n",
              "  }\n",
              "\n",
              "  .colab-df-quickchart:hover {\n",
              "    background-color: var(--hover-bg-color);\n",
              "    box-shadow: 0 1px 2px rgba(60, 64, 67, 0.3), 0 1px 3px 1px rgba(60, 64, 67, 0.15);\n",
              "    fill: var(--button-hover-fill-color);\n",
              "  }\n",
              "\n",
              "  .colab-df-quickchart-complete:disabled,\n",
              "  .colab-df-quickchart-complete:disabled:hover {\n",
              "    background-color: var(--disabled-bg-color);\n",
              "    fill: var(--disabled-fill-color);\n",
              "    box-shadow: none;\n",
              "  }\n",
              "\n",
              "  .colab-df-spinner {\n",
              "    border: 2px solid var(--fill-color);\n",
              "    border-color: transparent;\n",
              "    border-bottom-color: var(--fill-color);\n",
              "    animation:\n",
              "      spin 1s steps(1) infinite;\n",
              "  }\n",
              "\n",
              "  @keyframes spin {\n",
              "    0% {\n",
              "      border-color: transparent;\n",
              "      border-bottom-color: var(--fill-color);\n",
              "      border-left-color: var(--fill-color);\n",
              "    }\n",
              "    20% {\n",
              "      border-color: transparent;\n",
              "      border-left-color: var(--fill-color);\n",
              "      border-top-color: var(--fill-color);\n",
              "    }\n",
              "    30% {\n",
              "      border-color: transparent;\n",
              "      border-left-color: var(--fill-color);\n",
              "      border-top-color: var(--fill-color);\n",
              "      border-right-color: var(--fill-color);\n",
              "    }\n",
              "    40% {\n",
              "      border-color: transparent;\n",
              "      border-right-color: var(--fill-color);\n",
              "      border-top-color: var(--fill-color);\n",
              "    }\n",
              "    60% {\n",
              "      border-color: transparent;\n",
              "      border-right-color: var(--fill-color);\n",
              "    }\n",
              "    80% {\n",
              "      border-color: transparent;\n",
              "      border-right-color: var(--fill-color);\n",
              "      border-bottom-color: var(--fill-color);\n",
              "    }\n",
              "    90% {\n",
              "      border-color: transparent;\n",
              "      border-bottom-color: var(--fill-color);\n",
              "    }\n",
              "  }\n",
              "</style>\n",
              "\n",
              "  <script>\n",
              "    async function quickchart(key) {\n",
              "      const quickchartButtonEl =\n",
              "        document.querySelector('#' + key + ' button');\n",
              "      quickchartButtonEl.disabled = true;  // To prevent multiple clicks.\n",
              "      quickchartButtonEl.classList.add('colab-df-spinner');\n",
              "      try {\n",
              "        const charts = await google.colab.kernel.invokeFunction(\n",
              "            'suggestCharts', [key], {});\n",
              "      } catch (error) {\n",
              "        console.error('Error during call to suggestCharts:', error);\n",
              "      }\n",
              "      quickchartButtonEl.classList.remove('colab-df-spinner');\n",
              "      quickchartButtonEl.classList.add('colab-df-quickchart-complete');\n",
              "    }\n",
              "    (() => {\n",
              "      let quickchartButtonEl =\n",
              "        document.querySelector('#df-581fb2fb-15f2-4087-a59c-96d165431417 button');\n",
              "      quickchartButtonEl.style.display =\n",
              "        google.colab.kernel.accessAllowed ? 'block' : 'none';\n",
              "    })();\n",
              "  </script>\n",
              "</div>\n",
              "\n",
              "  <div id=\"id_716b240b-543d-4d2f-972f-3e42e3be7d87\">\n",
              "    <style>\n",
              "      .colab-df-generate {\n",
              "        background-color: #E8F0FE;\n",
              "        border: none;\n",
              "        border-radius: 50%;\n",
              "        cursor: pointer;\n",
              "        display: none;\n",
              "        fill: #1967D2;\n",
              "        height: 32px;\n",
              "        padding: 0 0 0 0;\n",
              "        width: 32px;\n",
              "      }\n",
              "\n",
              "      .colab-df-generate:hover {\n",
              "        background-color: #E2EBFA;\n",
              "        box-shadow: 0px 1px 2px rgba(60, 64, 67, 0.3), 0px 1px 3px 1px rgba(60, 64, 67, 0.15);\n",
              "        fill: #174EA6;\n",
              "      }\n",
              "\n",
              "      [theme=dark] .colab-df-generate {\n",
              "        background-color: #3B4455;\n",
              "        fill: #D2E3FC;\n",
              "      }\n",
              "\n",
              "      [theme=dark] .colab-df-generate:hover {\n",
              "        background-color: #434B5C;\n",
              "        box-shadow: 0px 1px 3px 1px rgba(0, 0, 0, 0.15);\n",
              "        filter: drop-shadow(0px 1px 2px rgba(0, 0, 0, 0.3));\n",
              "        fill: #FFFFFF;\n",
              "      }\n",
              "    </style>\n",
              "    <button class=\"colab-df-generate\" onclick=\"generateWithVariable('df_filter')\"\n",
              "            title=\"Generate code using this dataframe.\"\n",
              "            style=\"display:none;\">\n",
              "\n",
              "  <svg xmlns=\"http://www.w3.org/2000/svg\" height=\"24px\"viewBox=\"0 0 24 24\"\n",
              "       width=\"24px\">\n",
              "    <path d=\"M7,19H8.4L18.45,9,17,7.55,7,17.6ZM5,21V16.75L18.45,3.32a2,2,0,0,1,2.83,0l1.4,1.43a1.91,1.91,0,0,1,.58,1.4,1.91,1.91,0,0,1-.58,1.4L9.25,21ZM18.45,9,17,7.55Zm-12,3A5.31,5.31,0,0,0,4.9,8.1,5.31,5.31,0,0,0,1,6.5,5.31,5.31,0,0,0,4.9,4.9,5.31,5.31,0,0,0,6.5,1,5.31,5.31,0,0,0,8.1,4.9,5.31,5.31,0,0,0,12,6.5,5.46,5.46,0,0,0,6.5,12Z\"/>\n",
              "  </svg>\n",
              "    </button>\n",
              "    <script>\n",
              "      (() => {\n",
              "      const buttonEl =\n",
              "        document.querySelector('#id_716b240b-543d-4d2f-972f-3e42e3be7d87 button.colab-df-generate');\n",
              "      buttonEl.style.display =\n",
              "        google.colab.kernel.accessAllowed ? 'block' : 'none';\n",
              "\n",
              "      buttonEl.onclick = () => {\n",
              "        google.colab.notebook.generateWithVariable('df_filter');\n",
              "      }\n",
              "      })();\n",
              "    </script>\n",
              "  </div>\n",
              "\n",
              "    </div>\n",
              "  </div>\n"
            ],
            "application/vnd.google.colaboratory.intrinsic+json": {
              "type": "dataframe",
              "variable_name": "df_filter"
            }
          },
          "metadata": {},
          "execution_count": 114
        }
      ]
    },
    {
      "cell_type": "markdown",
      "source": [
        "### Atividade 2: Verifique quantas linhas e colunas possui esse dataframe. Veja também se há dados faltantes."
      ],
      "metadata": {
        "id": "xsEP0uQwUib_"
      }
    },
    {
      "cell_type": "code",
      "source": [
        "# Verificando o número de linhas e colunas\n",
        "print(f'O dataframe possui {df_filter.shape[0]} linhas e {df_filter.shape[1]} colunas.')"
      ],
      "metadata": {
        "id": "Hbfcm2eZT86g",
        "colab": {
          "base_uri": "https://localhost:8080/"
        },
        "outputId": "749746ce-f6a8-4ee3-d2ed-213e83fdf25b"
      },
      "execution_count": null,
      "outputs": [
        {
          "output_type": "stream",
          "name": "stdout",
          "text": [
            "O dataframe possui 130194 linhas e 6 colunas.\n"
          ]
        }
      ]
    },
    {
      "cell_type": "code",
      "source": [
        "# Verificando se há dados faltantes\n",
        "print(f'Existem {df_filter.isnull().sum().sum()} dados faltantes no dataframe.')"
      ],
      "metadata": {
        "id": "wdJdcto_XoB6",
        "colab": {
          "base_uri": "https://localhost:8080/"
        },
        "outputId": "98433621-5c8b-4f08-89c0-c6720644cdfa"
      },
      "execution_count": null,
      "outputs": [
        {
          "output_type": "stream",
          "name": "stdout",
          "text": [
            "Existem 140259 dados faltantes no dataframe.\n"
          ]
        }
      ]
    },
    {
      "cell_type": "markdown",
      "source": [
        "### Atividade 3: Teste a hipótese de a média da taxa de aprovação para o ano de 2005 ser igual a 78. Considere um nível de confiança de 95%.\n",
        "\n",
        "Descreva, sucintamente, o resultado do teste de hipótese. Não esqueça de incluir as estatísticas encontradas.\n",
        "\n",
        "Dica: crie um DataFrame somente com os valores do ano e da variável de interesse.\n"
      ],
      "metadata": {
        "id": "9lzeAO8TUxgE"
      }
    },
    {
      "cell_type": "markdown",
      "source": [
        "**Resposta:** Neste caso temos um teste unicaudal com as hipóteses nula e alternativa dadas por:\n",
        "\n",
        "H0:μ=78\n",
        "\n",
        "Ha:μ≠10"
      ],
      "metadata": {
        "id": "y5cvOOuZHLOp"
      }
    },
    {
      "cell_type": "code",
      "source": [
        "# Criando um dataframe para trabalhar com o ano de interesse e removendo valores ausentes\n",
        "df_filter_2005 = df_filter[df_filter['ano'] == 2005]['taxa_aprovacao']"
      ],
      "metadata": {
        "id": "2UPIXZHpjZSk"
      },
      "execution_count": null,
      "outputs": []
    },
    {
      "cell_type": "code",
      "source": [
        "# Removendo valores ausentes\n",
        "df_filter_2005 = df_filter_2005.dropna()"
      ],
      "metadata": {
        "id": "-g25E5T4yofO"
      },
      "execution_count": null,
      "outputs": []
    },
    {
      "cell_type": "code",
      "source": [
        "from scipy.stats import ttest_1samp\n",
        "\n",
        "# Teste da hipótese\n",
        "ttest_1samp(a=df_filter_2005, popmean=78, alternative='two-sided')"
      ],
      "metadata": {
        "id": "R9FM2kK-T82a",
        "colab": {
          "base_uri": "https://localhost:8080/"
        },
        "outputId": "48b86ef5-1235-4725-ece3-b7f7b889b28a"
      },
      "execution_count": null,
      "outputs": [
        {
          "output_type": "execute_result",
          "data": {
            "text/plain": [
              "TtestResult(statistic=20.890080427394643, pvalue=3.1469508067020596e-95, df=12082)"
            ]
          },
          "metadata": {},
          "execution_count": 119
        }
      ]
    },
    {
      "cell_type": "markdown",
      "source": [
        "**Resposta:** Como o valor de p é menor que 0,05 podemos afirmar com 95% de confiança que a média da taxa de aprovação de 2005 é diferente de 78."
      ],
      "metadata": {
        "id": "Nzc9-opslDvB"
      }
    },
    {
      "cell_type": "markdown",
      "source": [
        "# Teste de Hipótese para a Média (duas variáveis independentes)\n",
        "\n",
        "Agora vamos aplicar um teste de hipótese para a média de duas populações independentes usando dados reais. Desejamos saber se a média para ambas é a mesma."
      ],
      "metadata": {
        "id": "J_zjF2d0HUsv"
      }
    },
    {
      "cell_type": "markdown",
      "source": [
        "### Atividade 4: Teste a hipótese de a média do IDEB para os estados do Rio Grande do Sul e do Ceará, no ano de 2019, serem iguais. Considere um nível de confiança de 95%\n",
        "\n",
        "Dica: Primeiro crie um dataframe auxiliar contendo apenas os dados referentes a 2019. Depois selecione dois conjunto de valores de IDEB, um apenas para o estado do Rio Grande do Sul e outro apenas para o estado do Ceará."
      ],
      "metadata": {
        "id": "WMLStXqvHhsW"
      }
    },
    {
      "cell_type": "markdown",
      "source": [
        "**Resposta**\n",
        "Nesse caso vamos trabalhar com as hipóteses:\n",
        "\n",
        "H0:Média do IDEB igual para os estados do Rio Grande do Sul e Ceará.\n",
        "\n",
        "Ha:Média do IDEB é diferente para os estados do Rio Grande do Sul e Ceará.\n",
        "\n"
      ],
      "metadata": {
        "id": "vs2z3JS1NtKG"
      }
    },
    {
      "cell_type": "code",
      "source": [
        "from scipy.stats import ttest_ind\n",
        "\n",
        "# criando um dataframe para trabalhar com o ano de interesse\n",
        "df_filter_2019 = df_filter[df_filter['ano'] == 2019]\n",
        "\n",
        "# Removendo as linhas com valores ausentes\n",
        "df_filter_2019 = df_filter_2019.dropna(subset=['ideb'])\n",
        "\n",
        "# Calculando o valor t e o p-valor.\n",
        "ttest_ind(df_filter_2019['ideb'][df_filter_2019['sigla_uf'] == 'RS'],\n",
        "          df_filter_2019['ideb'][df_filter_2019['sigla_uf'] == 'CE'])\n"
      ],
      "metadata": {
        "id": "lNMs3qOQHVtZ",
        "colab": {
          "base_uri": "https://localhost:8080/"
        },
        "outputId": "2a91715c-4049-439f-e846-9c5e82172acc"
      },
      "execution_count": null,
      "outputs": [
        {
          "output_type": "execute_result",
          "data": {
            "text/plain": [
              "TtestResult(statistic=-4.3200508719663135, pvalue=1.6632800256873896e-05, df=1488.0)"
            ]
          },
          "metadata": {},
          "execution_count": 120
        }
      ]
    },
    {
      "cell_type": "markdown",
      "source": [
        "**Resposta:** Como o p-valor é menor que 0.05, podemos rejeitar a hipótese nula, isto é, podemos afirmar com 95% de confiança que a média do IDEB do Rio Grande do Sul e de Ceará não são iguais."
      ],
      "metadata": {
        "id": "j8v3NYQ6Mm7Z"
      }
    },
    {
      "cell_type": "markdown",
      "source": [
        "### Atividade 5: Com base no resultado do teste anterior, faça um boxplot que lhe ajude a entender melhor os resultados obtidos. Isto é, compare o boxplot do IDEB dos dois estados."
      ],
      "metadata": {
        "id": "8uxllG0pIBeA"
      }
    },
    {
      "cell_type": "code",
      "source": [
        "import seaborn as sns\n",
        "\n",
        "#Filtrando os dados dos dois estados RS e CE\n",
        "df_RS = df_filter_2019[df_filter_2019['sigla_uf'] == 'RS']\n",
        "df_CE = df_filter_2019[df_filter_2019['sigla_uf'] == 'CE']\n",
        "\n",
        "#Agrupando os dados e plotando\n",
        "df_final = pd.concat([df_RS, df_CE])\n",
        "sns.boxplot(x=df_final['sigla_uf'], y=df_final['ideb']);"
      ],
      "metadata": {
        "id": "k0rj4wdnHWhy",
        "colab": {
          "base_uri": "https://localhost:8080/",
          "height": 450
        },
        "outputId": "feeec494-7a74-48eb-d243-8c841e795782"
      },
      "execution_count": null,
      "outputs": [
        {
          "output_type": "display_data",
          "data": {
            "text/plain": [
              "<Figure size 640x480 with 1 Axes>"
            ],
            "image/png": "[encoded data removed]"
          },
          "metadata": {}
        }
      ]
    },
    {
      "cell_type": "code",
      "source": [
        "#Plotando um histograma para ajudar na interpretação dos dados\n",
        "sns.histplot(df_filter_2019[df_filter_2019['sigla_uf'] == 'RS']['ideb'], stat='frequency', color='blue', label='RS')\n",
        "sns.histplot(df_filter_2019[df_filter_2019['sigla_uf'] == 'CE']['ideb'], stat='frequency', color='red', label='CE')"
      ],
      "metadata": {
        "colab": {
          "base_uri": "https://localhost:8080/",
          "height": 466
        },
        "id": "RW1NPJMtnYoQ",
        "outputId": "0b71189c-313a-47c8-9bef-9417af6cbed7"
      },
      "execution_count": null,
      "outputs": [
        {
          "output_type": "execute_result",
          "data": {
            "text/plain": [
              "<Axes: xlabel='ideb', ylabel='Frequency'>"
            ]
          },
          "metadata": {},
          "execution_count": 122
        },
        {
          "output_type": "display_data",
          "data": {
            "text/plain": [
              "<Figure size 640x480 with 1 Axes>"
            ],
            "image/png": "[encoded data removed]"
          },
          "metadata": {}
        }
      ]
    },
    {
      "cell_type": "markdown",
      "source": [
        "**Resposta:** No bloxpot aparece diferença da média entre os dois estados, mas não fica muito claro somente com análise visual. Com o histograma percebemos que RS possui uma maior simetria nos dados e a sua média parece ser maior que no CE. Fica claro então que está correto rejeitar a hipótese nula."
      ],
      "metadata": {
        "id": "8j2v5VMWp4RG"
      }
    },
    {
      "cell_type": "markdown",
      "source": [
        "### Atividade 6: Teste a hipótese de a média do IDEB para os anos de 2005 e 2019 serem iguais. Considere um nível de confiança de 95%\n",
        "\n",
        "Dica: Crie dois dataframes auxiliares e selecione 300 linhas de cada um apenas (sem conter valores faltantes) para realizar o teste."
      ],
      "metadata": {
        "id": "VTgadqJqIUWt"
      }
    },
    {
      "cell_type": "markdown",
      "source": [
        "**Hipóteses:**\n",
        "\n",
        "H0:Média do IDEB igual para os anos de 2005 e 2019.\n",
        "\n",
        "Ha:Média do IDEB é diferente para os anos de 2005 e 2019."
      ],
      "metadata": {
        "id": "IdEWFISyTh6t"
      }
    },
    {
      "cell_type": "code",
      "source": [
        "import pandas as pd\n",
        "from scipy.stats import ttest_rel\n",
        "\n",
        "# Suponha que você tenha um DataFrame chamado df com as colunas 'ano' e 'ideb'\n",
        "\n",
        "# Criando dois DataFrames auxiliares para os anos de 2005 e 2019\n",
        "df_2005 = df_filter[df_filter['ano'] == 2005]\n",
        "df_2019 = df_filter[df_filter['ano'] == 2019]\n",
        "\n",
        "# Selecionando as primeiras 300 linhas de cada DataFrame sem valores ausentes\n",
        "df_2005_sample = df_2005.dropna().iloc[:300]\n",
        "df_2019_sample = df_2019.dropna().iloc[:300]\n",
        "\n",
        "# Selecionando apenas a coluna 'ideb' para o teste\n",
        "ideb_2005 = df_2005_sample['ideb']\n",
        "ideb_2019 = df_2019_sample['ideb']\n",
        "\n",
        "# Realizando o teste de hipótese (teste t relacionado)\n",
        "ttest_rel(ideb_2005, ideb_2019)"
      ],
      "metadata": {
        "id": "MDqP4xvRIPOt",
        "colab": {
          "base_uri": "https://localhost:8080/"
        },
        "outputId": "0d5f40e7-e8f0-42e5-e701-7ffd1b1a72e0"
      },
      "execution_count": null,
      "outputs": [
        {
          "output_type": "execute_result",
          "data": {
            "text/plain": [
              "TtestResult(statistic=-163.87518962388705, pvalue=8.329734374233758e-295, df=299)"
            ]
          },
          "metadata": {},
          "execution_count": 123
        }
      ]
    },
    {
      "cell_type": "markdown",
      "source": [
        "Resposta: Como o p-valor é menor que 0.05, podemos rejeitar a hipótese nula, isto é, podemos afirmar com 95% de confiança que a média do IDEB dos anos 2005 e 2019 não são iguais.\n"
      ],
      "metadata": {
        "id": "GwnXof_IT41t"
      }
    },
    {
      "cell_type": "markdown",
      "source": [
        "### Atividade 7: Com base no resultado do teste anterior, faça um boxplot que lhe ajude a entender melhor os resultados obtidos. Isto é, compare o boxplot do IDEB para os dois anos."
      ],
      "metadata": {
        "id": "NtEjca_OIc4w"
      }
    },
    {
      "cell_type": "code",
      "source": [
        "df_final = pd.concat([df_2005, df_2019])\n",
        "sns.boxplot(x=df_final['ano'], y=df_final['ideb']);"
      ],
      "metadata": {
        "id": "2k4C6scGIPKF",
        "colab": {
          "base_uri": "https://localhost:8080/",
          "height": 449
        },
        "outputId": "a0367cbe-4546-420b-bdbc-6bb2c8baa457"
      },
      "execution_count": null,
      "outputs": [
        {
          "output_type": "display_data",
          "data": {
            "text/plain": [
              "<Figure size 640x480 with 1 Axes>"
            ],
            "image/png": "[encoded data removed]"
          },
          "metadata": {}
        }
      ]
    },
    {
      "cell_type": "markdown",
      "source": [
        "**Resposta:** No boxplot fica visualmente muito evidente a diferença de média do Ideb entre os anos 2005 e 2019."
      ],
      "metadata": {
        "id": "hixIfEHDYJfg"
      }
    },
    {
      "cell_type": "markdown",
      "source": [
        "# Análise de Variância (ANOVA) One-Way\n",
        "\n",
        "### Atividade 8: Vamos comparar a média do IDEB para os três estados da região sul, em 2019, para ver se estas médias podem ser consideradas iguais. Considere um nível de confiança de 95%.\n",
        "\n",
        "Dica: Crie três dataframes auxiliares, um para cada estado."
      ],
      "metadata": {
        "id": "u7Zs62g3mY4E"
      }
    },
    {
      "cell_type": "code",
      "source": [
        "# Criando três DataFrames auxiliares para os estados da região Sul em 2019\n",
        "df_PR_2019 = df[(df['sigla_uf'] == 'PR') & (df['ano'] == 2019)]\n",
        "df_RS_2019 = df[(df['sigla_uf'] == 'RS') & (df['ano'] == 2019)]\n",
        "df_SC_2019 = df[(df['sigla_uf'] == 'SC') & (df['ano'] == 2019)]"
      ],
      "metadata": {
        "id": "GUb-Ng3flRY7"
      },
      "execution_count": null,
      "outputs": []
    },
    {
      "cell_type": "code",
      "source": [
        "# Removendo valores ausentes\n",
        "df_PR_2019 = df_PR_2019.dropna()\n",
        "df_RS_2019 = df_RS_2019.dropna()\n",
        "df_SC_2019 = df_SC_2019.dropna()"
      ],
      "metadata": {
        "id": "eRd7X5Gx2XGL"
      },
      "execution_count": null,
      "outputs": []
    },
    {
      "cell_type": "code",
      "source": [
        "import pandas as pd\n",
        "from scipy.stats import f_oneway\n",
        "\n",
        "# Realizando o teste ANOVA para comparar as médias dos três estados\n",
        "f_oneway(df_PR_2019['ideb'], df_RS_2019['ideb'], df_SC_2019['ideb'])"
      ],
      "metadata": {
        "id": "JjFxaMVQVqwz",
        "colab": {
          "base_uri": "https://localhost:8080/"
        },
        "outputId": "6ad3d90f-0c47-424d-c156-ec8a585b05e4"
      },
      "execution_count": null,
      "outputs": [
        {
          "output_type": "execute_result",
          "data": {
            "text/plain": [
              "F_onewayResult(statistic=28.626795411241318, pvalue=5.050379312310251e-13)"
            ]
          },
          "metadata": {},
          "execution_count": 127
        }
      ]
    },
    {
      "cell_type": "markdown",
      "source": [
        "Resposta: como o valor de p é menos que 0,05, podemos afirmar com 95% de confiança que a média dos 3 estados é diferente."
      ],
      "metadata": {
        "id": "KAjTb2Gk3MPC"
      }
    },
    {
      "cell_type": "markdown",
      "source": [
        "### Atividade 9: Faça um boxplot para entender melhor o que está acontecendo com os valores do IDEB para os três estados."
      ],
      "metadata": {
        "id": "5fLIsXvgV5Z9"
      }
    },
    {
      "cell_type": "code",
      "source": [
        "df_final = pd.concat([df_PR_2019, df_SC_2019, df_RS_2019])\n",
        "\n",
        "sns.boxplot(x=df_final['sigla_uf'], y=df_final['ideb']);"
      ],
      "metadata": {
        "id": "XOUnpMm6Vqsm",
        "colab": {
          "base_uri": "https://localhost:8080/",
          "height": 452
        },
        "outputId": "cf530274-9609-4bae-829e-506742937288"
      },
      "execution_count": null,
      "outputs": [
        {
          "output_type": "display_data",
          "data": {
            "text/plain": [
              "<Figure size 640x480 with 1 Axes>"
            ],
            "image/png": "[encoded data removed]"
          },
          "metadata": {}
        }
      ]
    },
    {
      "cell_type": "code",
      "source": [
        "#Plotando um histograma para ajudar na interpretação dos dados\n",
        "sns.histplot(df_PR_2019['ideb'], stat='frequency', color='blue', label='PR')\n",
        "sns.histplot(df_SC_2019['ideb'], stat='frequency', color='red', label='SC')\n",
        "sns.histplot(df_RS_2019['ideb'], stat='frequency', color='green', label='RS')"
      ],
      "metadata": {
        "colab": {
          "base_uri": "https://localhost:8080/",
          "height": 466
        },
        "id": "u_d1oH-m3hMJ",
        "outputId": "6191d8a7-4c5f-460b-a081-415ae4a8cff4"
      },
      "execution_count": null,
      "outputs": [
        {
          "output_type": "execute_result",
          "data": {
            "text/plain": [
              "<Axes: xlabel='ideb', ylabel='Frequency'>"
            ]
          },
          "metadata": {},
          "execution_count": 129
        },
        {
          "output_type": "display_data",
          "data": {
            "text/plain": [
              "<Figure size 640x480 with 1 Axes>"
            ],
            "image/png": "[encoded data removed]"
          },
          "metadata": {}
        }
      ]
    },
    {
      "cell_type": "markdown",
      "source": [
        "**Resposta:** Analisando o bloxpot e o histograma percebemos que existe diferenças nos dados do IDEB entre os 3 estados. Percebemos que PR possuí valores mais altos e SC os valores mais baixos. Além disso PR e RS tem uma distribuição mais simétrica."
      ],
      "metadata": {
        "id": "nNNqYrRf5MW9"
      }
    },
    {
      "cell_type": "markdown",
      "source": [
        "### Atividade 10: Faça um teste Post-hoc para verificar se de fato é o estado de Santa Catarina tem média diferente dos demais estados."
      ],
      "metadata": {
        "id": "YY9W9g4YWAwO"
      }
    },
    {
      "cell_type": "markdown",
      "source": [],
      "metadata": {
        "id": "6gRCJVxgfRak"
      }
    },
    {
      "cell_type": "code",
      "source": [
        "from statsmodels.stats.multicomp import pairwise_tukeyhsd\n",
        "\n",
        "print(pairwise_tukeyhsd(endog = df_final['ideb'],\n",
        "                  groups = df_final['sigla_uf'],\n",
        "                  alpha = 0.05)\n",
        ")"
      ],
      "metadata": {
        "id": "UEyFBLZMVqrG",
        "colab": {
          "base_uri": "https://localhost:8080/"
        },
        "outputId": "6f4ef879-4019-414b-89a0-76d31d532afd"
      },
      "execution_count": null,
      "outputs": [
        {
          "output_type": "stream",
          "name": "stdout",
          "text": [
            "Multiple Comparison of Means - Tukey HSD, FWER=0.05 \n",
            "====================================================\n",
            "group1 group2 meandiff p-adj   lower   upper  reject\n",
            "----------------------------------------------------\n",
            "    PR     RS  -0.2336    0.0 -0.3064 -0.1608   True\n",
            "    PR     SC  -0.1114 0.0039 -0.1929   -0.03   True\n",
            "    RS     SC   0.1222 0.0005  0.0462  0.1982   True\n",
            "----------------------------------------------------\n"
          ]
        }
      ]
    },
    {
      "cell_type": "markdown",
      "source": [
        "**Resposta:** Observando o quadro acima podemos ver que os 3 estados apresentam diferença signicativa quando comparados. Isso pode ser observado na coluna reject, pois essa coluna diz se devemos ou não rejeitar a hipótese nula ( H0 : não há diferença entre os grupos)."
      ],
      "metadata": {
        "id": "dqM-520TeegN"
      }
    }
  ]
}