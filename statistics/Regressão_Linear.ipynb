{
  "cells": [
    {
      "cell_type": "markdown",
      "metadata": {
        "id": "ucNsxyVp05Ah"
      },
      "source": [
        "# Regressão Linear"
      ]
    },
    {
      "cell_type": "markdown",
      "metadata": {
        "id": "v1AIODqU05Aq"
      },
      "source": [
        "Vamos utilizar 2 Datasets diferentes, porém ambos datasets voltados para preços de imóveis.\n",
        "\n",
        "O primeiro conjunto de dados pode ser encontrado originalmente no [kaggle](https://www.kaggle.com/datasets/gunhee/koreahousedata). Porém os dados que usaremos foram já alterados para facilitar as nossas análises. Este dataset será usado desde a atividade 1 até a ativade 8.\n",
        "\n",
        "O segundo conjunto de dados é bem famoso para quem começa na área de Machine Learning, o Californa Housing, um conjunto de dados que apresenta algumas caracteristicas sobre os preços dos apartementos na California, um pouco sobre ele também pode ser lido no [Kaggle](https://www.kaggle.com/datasets/harrywang/housing)"
      ]
    },
    {
      "cell_type": "markdown",
      "metadata": {
        "id": "mCtQu82oNqOK"
      },
      "source": [
        "Para baixar o **Primeiro dataset**, pode utilizar o seguinte Link: [Dataset Apartamentos](https://docs.google.com/spreadsheets/d/1wwGqVAd9V5_3R46_AHcCwXrA8K_CDeXO/edit?usp=drive_link&ouid=100426007660566789550&rtpof=true&sd=true)"
      ]
    },
    {
      "cell_type": "markdown",
      "metadata": {
        "id": "XLXxmGAJtwG-"
      },
      "source": [
        "# Regressão Linear Simples\n",
        "\n",
        "## 1: Importe os dados e verifique se há dados faltantes."
      ]
    },
    {
      "cell_type": "code",
      "execution_count": null,
      "metadata": {
        "id": "_FZHpdVhoCeH"
      },
      "outputs": [],
      "source": [
        "# Importar pacotes\n",
        "import pandas as pd\n",
        "import numpy as np"
      ]
    },
    {
      "cell_type": "code",
      "execution_count": null,
      "metadata": {
        "id": "DJ2q7L1kqtYF",
        "colab": {
          "base_uri": "https://localhost:8080/"
        },
        "outputId": "2be35d52-ba52-4ef7-fe71-b2efd4d7f0dc"
      },
      "outputs": [
        {
          "output_type": "stream",
          "name": "stdout",
          "text": [
            "Mounted at /content/drive\n"
          ]
        }
      ],
      "source": [
        "# Google Drive\n",
        "\n",
        "from google.colab import drive\n",
        "drive.mount('/content/drive')"
      ]
    },
    {
      "cell_type": "code",
      "execution_count": null,
      "metadata": {
        "id": "boeW8HaCUvyt",
        "colab": {
          "base_uri": "https://localhost:8080/",
          "height": 226
        },
        "outputId": "9683322e-5346-4c1b-dfc0-2994e30b1161"
      },
      "outputs": [
        {
          "output_type": "execute_result",
          "data": {
            "text/plain": [
              "     preco  ano_construcao  ano_Venda          m2  andar tipo_Aquecimento  \\\n",
              "0   849552            2006       2007   75.623042      3       individual   \n",
              "1   307962            1985       2007   54.534061      8       individual   \n",
              "2   292032            1985       2007   54.534061      6       individual   \n",
              "3  2283180            2006       2007  191.008568      8       individual   \n",
              "4  1327428            1993       2007  163.602183      3       individual   \n",
              "\n",
              "  tempo_ate_onibus tempo_ate_metro  qtde_elevadores  \\\n",
              "0       5min~10min     10min~15min                0   \n",
              "1           0~5min      5min~10min                2   \n",
              "2           0~5min      5min~10min                2   \n",
              "3           0~5min          0-5min               11   \n",
              "4           0~5min     15min~20min               20   \n",
              "\n",
              "   qtde_escritorios_publicos_perto  qtde_hospitais_perto  \\\n",
              "0                                2                     1   \n",
              "1                                5                     1   \n",
              "2                                5                     1   \n",
              "3                                1                     1   \n",
              "4                                6                     2   \n",
              "\n",
              "   qtde_lojas_departamento_perto  qtde_shoppings_perto  \\\n",
              "0                              1                     1   \n",
              "1                              2                     1   \n",
              "2                              2                     1   \n",
              "3                              0                     1   \n",
              "4                              0                     1   \n",
              "\n",
              "   qtde_estacionamentos_perto  qtde_escolas_fundamental1_perto  \\\n",
              "0                           0                                3   \n",
              "1                           1                                2   \n",
              "2                           1                                2   \n",
              "3                           0                                2   \n",
              "4                           0                                4   \n",
              "\n",
              "   qtde_escolas_fundamental2_perto  qtde_escolas_medio_perto  \\\n",
              "0                                2                         2   \n",
              "1                                1                         1   \n",
              "2                                1                         1   \n",
              "3                                2                         1   \n",
              "4                                3                         5   \n",
              "\n",
              "   qtde_universidades_perto  \n",
              "0                         2  \n",
              "1                         0  \n",
              "2                         0  \n",
              "3                         2  \n",
              "4                         5  "
            ],
            "text/html": [
              "\n",
              "  <div id=\"df-05967e61-4f09-42b4-a0de-8b06684760a1\" class=\"colab-df-container\">\n",
              "    <div>\n",
              "<style scoped>\n",
              "    .dataframe tbody tr th:only-of-type {\n",
              "        vertical-align: middle;\n",
              "    }\n",
              "\n",
              "    .dataframe tbody tr th {\n",
              "        vertical-align: top;\n",
              "    }\n",
              "\n",
              "    .dataframe thead th {\n",
              "        text-align: right;\n",
              "    }\n",
              "</style>\n",
              "<table border=\"1\" class=\"dataframe\">\n",
              "  <thead>\n",
              "    <tr style=\"text-align: right;\">\n",
              "      <th></th>\n",
              "      <th>preco</th>\n",
              "      <th>ano_construcao</th>\n",
              "      <th>ano_Venda</th>\n",
              "      <th>m2</th>\n",
              "      <th>andar</th>\n",
              "      <th>tipo_Aquecimento</th>\n",
              "      <th>tempo_ate_onibus</th>\n",
              "      <th>tempo_ate_metro</th>\n",
              "      <th>qtde_elevadores</th>\n",
              "      <th>qtde_escritorios_publicos_perto</th>\n",
              "      <th>qtde_hospitais_perto</th>\n",
              "      <th>qtde_lojas_departamento_perto</th>\n",
              "      <th>qtde_shoppings_perto</th>\n",
              "      <th>qtde_estacionamentos_perto</th>\n",
              "      <th>qtde_escolas_fundamental1_perto</th>\n",
              "      <th>qtde_escolas_fundamental2_perto</th>\n",
              "      <th>qtde_escolas_medio_perto</th>\n",
              "      <th>qtde_universidades_perto</th>\n",
              "    </tr>\n",
              "  </thead>\n",
              "  <tbody>\n",
              "    <tr>\n",
              "      <th>0</th>\n",
              "      <td>849552</td>\n",
              "      <td>2006</td>\n",
              "      <td>2007</td>\n",
              "      <td>75.623042</td>\n",
              "      <td>3</td>\n",
              "      <td>individual</td>\n",
              "      <td>5min~10min</td>\n",
              "      <td>10min~15min</td>\n",
              "      <td>0</td>\n",
              "      <td>2</td>\n",
              "      <td>1</td>\n",
              "      <td>1</td>\n",
              "      <td>1</td>\n",
              "      <td>0</td>\n",
              "      <td>3</td>\n",
              "      <td>2</td>\n",
              "      <td>2</td>\n",
              "      <td>2</td>\n",
              "    </tr>\n",
              "    <tr>\n",
              "      <th>1</th>\n",
              "      <td>307962</td>\n",
              "      <td>1985</td>\n",
              "      <td>2007</td>\n",
              "      <td>54.534061</td>\n",
              "      <td>8</td>\n",
              "      <td>individual</td>\n",
              "      <td>0~5min</td>\n",
              "      <td>5min~10min</td>\n",
              "      <td>2</td>\n",
              "      <td>5</td>\n",
              "      <td>1</td>\n",
              "      <td>2</td>\n",
              "      <td>1</td>\n",
              "      <td>1</td>\n",
              "      <td>2</td>\n",
              "      <td>1</td>\n",
              "      <td>1</td>\n",
              "      <td>0</td>\n",
              "    </tr>\n",
              "    <tr>\n",
              "      <th>2</th>\n",
              "      <td>292032</td>\n",
              "      <td>1985</td>\n",
              "      <td>2007</td>\n",
              "      <td>54.534061</td>\n",
              "      <td>6</td>\n",
              "      <td>individual</td>\n",
              "      <td>0~5min</td>\n",
              "      <td>5min~10min</td>\n",
              "      <td>2</td>\n",
              "      <td>5</td>\n",
              "      <td>1</td>\n",
              "      <td>2</td>\n",
              "      <td>1</td>\n",
              "      <td>1</td>\n",
              "      <td>2</td>\n",
              "      <td>1</td>\n",
              "      <td>1</td>\n",
              "      <td>0</td>\n",
              "    </tr>\n",
              "    <tr>\n",
              "      <th>3</th>\n",
              "      <td>2283180</td>\n",
              "      <td>2006</td>\n",
              "      <td>2007</td>\n",
              "      <td>191.008568</td>\n",
              "      <td>8</td>\n",
              "      <td>individual</td>\n",
              "      <td>0~5min</td>\n",
              "      <td>0-5min</td>\n",
              "      <td>11</td>\n",
              "      <td>1</td>\n",
              "      <td>1</td>\n",
              "      <td>0</td>\n",
              "      <td>1</td>\n",
              "      <td>0</td>\n",
              "      <td>2</td>\n",
              "      <td>2</td>\n",
              "      <td>1</td>\n",
              "      <td>2</td>\n",
              "    </tr>\n",
              "    <tr>\n",
              "      <th>4</th>\n",
              "      <td>1327428</td>\n",
              "      <td>1993</td>\n",
              "      <td>2007</td>\n",
              "      <td>163.602183</td>\n",
              "      <td>3</td>\n",
              "      <td>individual</td>\n",
              "      <td>0~5min</td>\n",
              "      <td>15min~20min</td>\n",
              "      <td>20</td>\n",
              "      <td>6</td>\n",
              "      <td>2</td>\n",
              "      <td>0</td>\n",
              "      <td>1</td>\n",
              "      <td>0</td>\n",
              "      <td>4</td>\n",
              "      <td>3</td>\n",
              "      <td>5</td>\n",
              "      <td>5</td>\n",
              "    </tr>\n",
              "  </tbody>\n",
              "</table>\n",
              "</div>\n",
              "    <div class=\"colab-df-buttons\">\n",
              "\n",
              "  <div class=\"colab-df-container\">\n",
              "    <button class=\"colab-df-convert\" onclick=\"convertToInteractive('df-05967e61-4f09-42b4-a0de-8b06684760a1')\"\n",
              "            title=\"Convert this dataframe to an interactive table.\"\n",
              "            style=\"display:none;\">\n",
              "\n",
              "  <svg xmlns=\"http://www.w3.org/2000/svg\" height=\"24px\" viewBox=\"0 -960 960 960\">\n",
              "    <path d=\"M120-120v-720h720v720H120Zm60-500h600v-160H180v160Zm220 220h160v-160H400v160Zm0 220h160v-160H400v160ZM180-400h160v-160H180v160Zm440 0h160v-160H620v160ZM180-180h160v-160H180v160Zm440 0h160v-160H620v160Z\"/>\n",
              "  </svg>\n",
              "    </button>\n",
              "\n",
              "  <style>\n",
              "    .colab-df-container {\n",
              "      display:flex;\n",
              "      gap: 12px;\n",
              "    }\n",
              "\n",
              "    .colab-df-convert {\n",
              "      background-color: #E8F0FE;\n",
              "      border: none;\n",
              "      border-radius: 50%;\n",
              "      cursor: pointer;\n",
              "      display: none;\n",
              "      fill: #1967D2;\n",
              "      height: 32px;\n",
              "      padding: 0 0 0 0;\n",
              "      width: 32px;\n",
              "    }\n",
              "\n",
              "    .colab-df-convert:hover {\n",
              "      background-color: #E2EBFA;\n",
              "      box-shadow: 0px 1px 2px rgba(60, 64, 67, 0.3), 0px 1px 3px 1px rgba(60, 64, 67, 0.15);\n",
              "      fill: #174EA6;\n",
              "    }\n",
              "\n",
              "    .colab-df-buttons div {\n",
              "      margin-bottom: 4px;\n",
              "    }\n",
              "\n",
              "    [theme=dark] .colab-df-convert {\n",
              "      background-color: #3B4455;\n",
              "      fill: #D2E3FC;\n",
              "    }\n",
              "\n",
              "    [theme=dark] .colab-df-convert:hover {\n",
              "      background-color: #434B5C;\n",
              "      box-shadow: 0px 1px 3px 1px rgba(0, 0, 0, 0.15);\n",
              "      filter: drop-shadow(0px 1px 2px rgba(0, 0, 0, 0.3));\n",
              "      fill: #FFFFFF;\n",
              "    }\n",
              "  </style>\n",
              "\n",
              "    <script>\n",
              "      const buttonEl =\n",
              "        document.querySelector('#df-05967e61-4f09-42b4-a0de-8b06684760a1 button.colab-df-convert');\n",
              "      buttonEl.style.display =\n",
              "        google.colab.kernel.accessAllowed ? 'block' : 'none';\n",
              "\n",
              "      async function convertToInteractive(key) {\n",
              "        const element = document.querySelector('#df-05967e61-4f09-42b4-a0de-8b06684760a1');\n",
              "        const dataTable =\n",
              "          await google.colab.kernel.invokeFunction('convertToInteractive',\n",
              "                                                    [key], {});\n",
              "        if (!dataTable) return;\n",
              "\n",
              "        const docLinkHtml = 'Like what you see? Visit the ' +\n",
              "          '<a target=\"_blank\" href=https://colab.research.google.com/notebooks/data_table.ipynb>data table notebook</a>'\n",
              "          + ' to learn more about interactive tables.';\n",
              "        element.innerHTML = '';\n",
              "        dataTable['output_type'] = 'display_data';\n",
              "        await google.colab.output.renderOutput(dataTable, element);\n",
              "        const docLink = document.createElement('div');\n",
              "        docLink.innerHTML = docLinkHtml;\n",
              "        element.appendChild(docLink);\n",
              "      }\n",
              "    </script>\n",
              "  </div>\n",
              "\n",
              "\n",
              "<div id=\"df-e340198e-b8b5-493f-a2b3-aa2d414f204e\">\n",
              "  <button class=\"colab-df-quickchart\" onclick=\"quickchart('df-e340198e-b8b5-493f-a2b3-aa2d414f204e')\"\n",
              "            title=\"Suggest charts\"\n",
              "            style=\"display:none;\">\n",
              "\n",
              "<svg xmlns=\"http://www.w3.org/2000/svg\" height=\"24px\"viewBox=\"0 0 24 24\"\n",
              "     width=\"24px\">\n",
              "    <g>\n",
              "        <path d=\"M19 3H5c-1.1 0-2 .9-2 2v14c0 1.1.9 2 2 2h14c1.1 0 2-.9 2-2V5c0-1.1-.9-2-2-2zM9 17H7v-7h2v7zm4 0h-2V7h2v10zm4 0h-2v-4h2v4z\"/>\n",
              "    </g>\n",
              "</svg>\n",
              "  </button>\n",
              "\n",
              "<style>\n",
              "  .colab-df-quickchart {\n",
              "      --bg-color: #E8F0FE;\n",
              "      --fill-color: #1967D2;\n",
              "      --hover-bg-color: #E2EBFA;\n",
              "      --hover-fill-color: #174EA6;\n",
              "      --disabled-fill-color: #AAA;\n",
              "      --disabled-bg-color: #DDD;\n",
              "  }\n",
              "\n",
              "  [theme=dark] .colab-df-quickchart {\n",
              "      --bg-color: #3B4455;\n",
              "      --fill-color: #D2E3FC;\n",
              "      --hover-bg-color: #434B5C;\n",
              "      --hover-fill-color: #FFFFFF;\n",
              "      --disabled-bg-color: #3B4455;\n",
              "      --disabled-fill-color: #666;\n",
              "  }\n",
              "\n",
              "  .colab-df-quickchart {\n",
              "    background-color: var(--bg-color);\n",
              "    border: none;\n",
              "    border-radius: 50%;\n",
              "    cursor: pointer;\n",
              "    display: none;\n",
              "    fill: var(--fill-color);\n",
              "    height: 32px;\n",
              "    padding: 0;\n",
              "    width: 32px;\n",
              "  }\n",
              "\n",
              "  .colab-df-quickchart:hover {\n",
              "    background-color: var(--hover-bg-color);\n",
              "    box-shadow: 0 1px 2px rgba(60, 64, 67, 0.3), 0 1px 3px 1px rgba(60, 64, 67, 0.15);\n",
              "    fill: var(--button-hover-fill-color);\n",
              "  }\n",
              "\n",
              "  .colab-df-quickchart-complete:disabled,\n",
              "  .colab-df-quickchart-complete:disabled:hover {\n",
              "    background-color: var(--disabled-bg-color);\n",
              "    fill: var(--disabled-fill-color);\n",
              "    box-shadow: none;\n",
              "  }\n",
              "\n",
              "  .colab-df-spinner {\n",
              "    border: 2px solid var(--fill-color);\n",
              "    border-color: transparent;\n",
              "    border-bottom-color: var(--fill-color);\n",
              "    animation:\n",
              "      spin 1s steps(1) infinite;\n",
              "  }\n",
              "\n",
              "  @keyframes spin {\n",
              "    0% {\n",
              "      border-color: transparent;\n",
              "      border-bottom-color: var(--fill-color);\n",
              "      border-left-color: var(--fill-color);\n",
              "    }\n",
              "    20% {\n",
              "      border-color: transparent;\n",
              "      border-left-color: var(--fill-color);\n",
              "      border-top-color: var(--fill-color);\n",
              "    }\n",
              "    30% {\n",
              "      border-color: transparent;\n",
              "      border-left-color: var(--fill-color);\n",
              "      border-top-color: var(--fill-color);\n",
              "      border-right-color: var(--fill-color);\n",
              "    }\n",
              "    40% {\n",
              "      border-color: transparent;\n",
              "      border-right-color: var(--fill-color);\n",
              "      border-top-color: var(--fill-color);\n",
              "    }\n",
              "    60% {\n",
              "      border-color: transparent;\n",
              "      border-right-color: var(--fill-color);\n",
              "    }\n",
              "    80% {\n",
              "      border-color: transparent;\n",
              "      border-right-color: var(--fill-color);\n",
              "      border-bottom-color: var(--fill-color);\n",
              "    }\n",
              "    90% {\n",
              "      border-color: transparent;\n",
              "      border-bottom-color: var(--fill-color);\n",
              "    }\n",
              "  }\n",
              "</style>\n",
              "\n",
              "  <script>\n",
              "    async function quickchart(key) {\n",
              "      const quickchartButtonEl =\n",
              "        document.querySelector('#' + key + ' button');\n",
              "      quickchartButtonEl.disabled = true;  // To prevent multiple clicks.\n",
              "      quickchartButtonEl.classList.add('colab-df-spinner');\n",
              "      try {\n",
              "        const charts = await google.colab.kernel.invokeFunction(\n",
              "            'suggestCharts', [key], {});\n",
              "      } catch (error) {\n",
              "        console.error('Error during call to suggestCharts:', error);\n",
              "      }\n",
              "      quickchartButtonEl.classList.remove('colab-df-spinner');\n",
              "      quickchartButtonEl.classList.add('colab-df-quickchart-complete');\n",
              "    }\n",
              "    (() => {\n",
              "      let quickchartButtonEl =\n",
              "        document.querySelector('#df-e340198e-b8b5-493f-a2b3-aa2d414f204e button');\n",
              "      quickchartButtonEl.style.display =\n",
              "        google.colab.kernel.accessAllowed ? 'block' : 'none';\n",
              "    })();\n",
              "  </script>\n",
              "</div>\n",
              "\n",
              "    </div>\n",
              "  </div>\n"
            ],
            "application/vnd.google.colaboratory.intrinsic+json": {
              "type": "dataframe",
              "variable_name": "df",
              "summary": "{\n  \"name\": \"df\",\n  \"rows\": 5891,\n  \"fields\": [\n    {\n      \"column\": \"preco\",\n      \"properties\": {\n        \"dtype\": \"number\",\n        \"std\": 638305,\n        \"min\": 196458,\n        \"max\": 3515040,\n        \"num_unique_values\": 949,\n        \"samples\": [\n          2389380,\n          1340706,\n          1213272\n        ],\n        \"semantic_type\": \"\",\n        \"description\": \"\"\n      }\n    },\n    {\n      \"column\": \"ano_construcao\",\n      \"properties\": {\n        \"dtype\": \"number\",\n        \"std\": 8,\n        \"min\": 1978,\n        \"max\": 2015,\n        \"num_unique_values\": 16,\n        \"samples\": [\n          2006,\n          1985,\n          2007\n        ],\n        \"semantic_type\": \"\",\n        \"description\": \"\"\n      }\n    },\n    {\n      \"column\": \"ano_Venda\",\n      \"properties\": {\n        \"dtype\": \"number\",\n        \"std\": 2,\n        \"min\": 2007,\n        \"max\": 2017,\n        \"num_unique_values\": 11,\n        \"samples\": [\n          2012,\n          2007,\n          2016\n        ],\n        \"semantic_type\": \"\",\n        \"description\": \"\"\n      }\n    },\n    {\n      \"column\": \"m2\",\n      \"properties\": {\n        \"dtype\": \"number\",\n        \"std\": 35.53205767338231,\n        \"min\": 12.541905,\n        \"max\": 217.114311,\n        \"num_unique_values\": 92,\n        \"samples\": [\n          106.745547,\n          157.00607,\n          108.417801\n        ],\n        \"semantic_type\": \"\",\n        \"description\": \"\"\n      }\n    },\n    {\n      \"column\": \"andar\",\n      \"properties\": {\n        \"dtype\": \"number\",\n        \"std\": 7,\n        \"min\": 1,\n        \"max\": 43,\n        \"num_unique_values\": 43,\n        \"samples\": [\n          33,\n          22,\n          25\n        ],\n        \"semantic_type\": \"\",\n        \"description\": \"\"\n      }\n    },\n    {\n      \"column\": \"tipo_Aquecimento\",\n      \"properties\": {\n        \"dtype\": \"category\",\n        \"num_unique_values\": 2,\n        \"samples\": [\n          \"central\",\n          \"individual\"\n        ],\n        \"semantic_type\": \"\",\n        \"description\": \"\"\n      }\n    },\n    {\n      \"column\": \"tempo_ate_onibus\",\n      \"properties\": {\n        \"dtype\": \"category\",\n        \"num_unique_values\": 3,\n        \"samples\": [\n          \"5min~10min\",\n          \"0~5min\"\n        ],\n        \"semantic_type\": \"\",\n        \"description\": \"\"\n      }\n    },\n    {\n      \"column\": \"tempo_ate_metro\",\n      \"properties\": {\n        \"dtype\": \"category\",\n        \"num_unique_values\": 5,\n        \"samples\": [\n          \"5min~10min\",\n          \"no_bus_stop_nearby\"\n        ],\n        \"semantic_type\": \"\",\n        \"description\": \"\"\n      }\n    },\n    {\n      \"column\": \"qtde_elevadores\",\n      \"properties\": {\n        \"dtype\": \"number\",\n        \"std\": 7,\n        \"min\": 0,\n        \"max\": 27,\n        \"num_unique_values\": 13,\n        \"samples\": [\n          12,\n          5\n        ],\n        \"semantic_type\": \"\",\n        \"description\": \"\"\n      }\n    },\n    {\n      \"column\": \"qtde_escritorios_publicos_perto\",\n      \"properties\": {\n        \"dtype\": \"number\",\n        \"std\": 1,\n        \"min\": 0,\n        \"max\": 7,\n        \"num_unique_values\": 8,\n        \"samples\": [\n          5,\n          3\n        ],\n        \"semantic_type\": \"\",\n        \"description\": \"\"\n      }\n    },\n    {\n      \"column\": \"qtde_hospitais_perto\",\n      \"properties\": {\n        \"dtype\": \"number\",\n        \"std\": 0,\n        \"min\": 0,\n        \"max\": 2,\n        \"num_unique_values\": 3,\n        \"samples\": [\n          1,\n          2\n        ],\n        \"semantic_type\": \"\",\n        \"description\": \"\"\n      }\n    },\n    {\n      \"column\": \"qtde_lojas_departamento_perto\",\n      \"properties\": {\n        \"dtype\": \"number\",\n        \"std\": 0,\n        \"min\": 0,\n        \"max\": 2,\n        \"num_unique_values\": 3,\n        \"samples\": [\n          1,\n          2\n        ],\n        \"semantic_type\": \"\",\n        \"description\": \"\"\n      }\n    },\n    {\n      \"column\": \"qtde_shoppings_perto\",\n      \"properties\": {\n        \"dtype\": \"number\",\n        \"std\": 0,\n        \"min\": 0,\n        \"max\": 2,\n        \"num_unique_values\": 3,\n        \"samples\": [\n          1,\n          0\n        ],\n        \"semantic_type\": \"\",\n        \"description\": \"\"\n      }\n    },\n    {\n      \"column\": \"qtde_estacionamentos_perto\",\n      \"properties\": {\n        \"dtype\": \"number\",\n        \"std\": 0,\n        \"min\": 0,\n        \"max\": 2,\n        \"num_unique_values\": 3,\n        \"samples\": [\n          0,\n          1\n        ],\n        \"semantic_type\": \"\",\n        \"description\": \"\"\n      }\n    },\n    {\n      \"column\": \"qtde_escolas_fundamental1_perto\",\n      \"properties\": {\n        \"dtype\": \"number\",\n        \"std\": 0,\n        \"min\": 0,\n        \"max\": 6,\n        \"num_unique_values\": 5,\n        \"samples\": [\n          2,\n          0\n        ],\n        \"semantic_type\": \"\",\n        \"description\": \"\"\n      }\n    },\n    {\n      \"column\": \"qtde_escolas_fundamental2_perto\",\n      \"properties\": {\n        \"dtype\": \"number\",\n        \"std\": 1,\n        \"min\": 0,\n        \"max\": 4,\n        \"num_unique_values\": 5,\n        \"samples\": [\n          1,\n          4\n        ],\n        \"semantic_type\": \"\",\n        \"description\": \"\"\n      }\n    },\n    {\n      \"column\": \"qtde_escolas_medio_perto\",\n      \"properties\": {\n        \"dtype\": \"number\",\n        \"std\": 1,\n        \"min\": 0,\n        \"max\": 5,\n        \"num_unique_values\": 6,\n        \"samples\": [\n          2,\n          1\n        ],\n        \"semantic_type\": \"\",\n        \"description\": \"\"\n      }\n    },\n    {\n      \"column\": \"qtde_universidades_perto\",\n      \"properties\": {\n        \"dtype\": \"number\",\n        \"std\": 1,\n        \"min\": 0,\n        \"max\": 5,\n        \"num_unique_values\": 6,\n        \"samples\": [\n          2,\n          0\n        ],\n        \"semantic_type\": \"\",\n        \"description\": \"\"\n      }\n    }\n  ]\n}"
            }
          },
          "metadata": {},
          "execution_count": 3
        }
      ],
      "source": [
        "# Importar dados\n",
        "\n",
        "df = pd.read_excel('/content/drive/MyDrive/Colab Notebooks/dataset_precos_apartamentos.xlsx')\n",
        "df.head()"
      ]
    },
    {
      "cell_type": "code",
      "source": [
        "# Verificar Nulos\n",
        "pd.isna(df).sum()"
      ],
      "metadata": {
        "colab": {
          "base_uri": "https://localhost:8080/"
        },
        "id": "mDjbhSMh4qQV",
        "outputId": "c4fbc308-625e-4876-e7fb-9b68948dcda6"
      },
      "execution_count": null,
      "outputs": [
        {
          "output_type": "execute_result",
          "data": {
            "text/plain": [
              "preco                              0\n",
              "ano_construcao                     0\n",
              "ano_Venda                          0\n",
              "m2                                 0\n",
              "andar                              0\n",
              "tipo_Aquecimento                   0\n",
              "tempo_ate_onibus                   0\n",
              "tempo_ate_metro                    0\n",
              "qtde_elevadores                    0\n",
              "qtde_escritorios_publicos_perto    0\n",
              "qtde_hospitais_perto               0\n",
              "qtde_lojas_departamento_perto      0\n",
              "qtde_shoppings_perto               0\n",
              "qtde_estacionamentos_perto         0\n",
              "qtde_escolas_fundamental1_perto    0\n",
              "qtde_escolas_fundamental2_perto    0\n",
              "qtde_escolas_medio_perto           0\n",
              "qtde_universidades_perto           0\n",
              "dtype: int64"
            ]
          },
          "metadata": {},
          "execution_count": 4
        }
      ]
    },
    {
      "cell_type": "markdown",
      "metadata": {
        "id": "0w7txBL-wAmA"
      },
      "source": [
        "## 2: Selecione apenas as variáveis `preco` e `m2`, aplique o logaritmo natural na variável `m2` e verifique a correlação entre as variáveis."
      ]
    },
    {
      "cell_type": "code",
      "execution_count": null,
      "metadata": {
        "id": "0-S8z6nQwRnp",
        "colab": {
          "base_uri": "https://localhost:8080/",
          "height": 206
        },
        "outputId": "85ddfebc-d32d-4aaf-d28b-370428de8f36"
      },
      "outputs": [
        {
          "output_type": "execute_result",
          "data": {
            "text/plain": [
              "     preco          m2\n",
              "0   849552   75.623042\n",
              "1   307962   54.534061\n",
              "2   292032   54.534061\n",
              "3  2283180  191.008568\n",
              "4  1327428  163.602183"
            ],
            "text/html": [
              "\n",
              "  <div id=\"df-a4fadb96-105f-422a-9519-21ebb93695a3\" class=\"colab-df-container\">\n",
              "    <div>\n",
              "<style scoped>\n",
              "    .dataframe tbody tr th:only-of-type {\n",
              "        vertical-align: middle;\n",
              "    }\n",
              "\n",
              "    .dataframe tbody tr th {\n",
              "        vertical-align: top;\n",
              "    }\n",
              "\n",
              "    .dataframe thead th {\n",
              "        text-align: right;\n",
              "    }\n",
              "</style>\n",
              "<table border=\"1\" class=\"dataframe\">\n",
              "  <thead>\n",
              "    <tr style=\"text-align: right;\">\n",
              "      <th></th>\n",
              "      <th>preco</th>\n",
              "      <th>m2</th>\n",
              "    </tr>\n",
              "  </thead>\n",
              "  <tbody>\n",
              "    <tr>\n",
              "      <th>0</th>\n",
              "      <td>849552</td>\n",
              "      <td>75.623042</td>\n",
              "    </tr>\n",
              "    <tr>\n",
              "      <th>1</th>\n",
              "      <td>307962</td>\n",
              "      <td>54.534061</td>\n",
              "    </tr>\n",
              "    <tr>\n",
              "      <th>2</th>\n",
              "      <td>292032</td>\n",
              "      <td>54.534061</td>\n",
              "    </tr>\n",
              "    <tr>\n",
              "      <th>3</th>\n",
              "      <td>2283180</td>\n",
              "      <td>191.008568</td>\n",
              "    </tr>\n",
              "    <tr>\n",
              "      <th>4</th>\n",
              "      <td>1327428</td>\n",
              "      <td>163.602183</td>\n",
              "    </tr>\n",
              "  </tbody>\n",
              "</table>\n",
              "</div>\n",
              "    <div class=\"colab-df-buttons\">\n",
              "\n",
              "  <div class=\"colab-df-container\">\n",
              "    <button class=\"colab-df-convert\" onclick=\"convertToInteractive('df-a4fadb96-105f-422a-9519-21ebb93695a3')\"\n",
              "            title=\"Convert this dataframe to an interactive table.\"\n",
              "            style=\"display:none;\">\n",
              "\n",
              "  <svg xmlns=\"http://www.w3.org/2000/svg\" height=\"24px\" viewBox=\"0 -960 960 960\">\n",
              "    <path d=\"M120-120v-720h720v720H120Zm60-500h600v-160H180v160Zm220 220h160v-160H400v160Zm0 220h160v-160H400v160ZM180-400h160v-160H180v160Zm440 0h160v-160H620v160ZM180-180h160v-160H180v160Zm440 0h160v-160H620v160Z\"/>\n",
              "  </svg>\n",
              "    </button>\n",
              "\n",
              "  <style>\n",
              "    .colab-df-container {\n",
              "      display:flex;\n",
              "      gap: 12px;\n",
              "    }\n",
              "\n",
              "    .colab-df-convert {\n",
              "      background-color: #E8F0FE;\n",
              "      border: none;\n",
              "      border-radius: 50%;\n",
              "      cursor: pointer;\n",
              "      display: none;\n",
              "      fill: #1967D2;\n",
              "      height: 32px;\n",
              "      padding: 0 0 0 0;\n",
              "      width: 32px;\n",
              "    }\n",
              "\n",
              "    .colab-df-convert:hover {\n",
              "      background-color: #E2EBFA;\n",
              "      box-shadow: 0px 1px 2px rgba(60, 64, 67, 0.3), 0px 1px 3px 1px rgba(60, 64, 67, 0.15);\n",
              "      fill: #174EA6;\n",
              "    }\n",
              "\n",
              "    .colab-df-buttons div {\n",
              "      margin-bottom: 4px;\n",
              "    }\n",
              "\n",
              "    [theme=dark] .colab-df-convert {\n",
              "      background-color: #3B4455;\n",
              "      fill: #D2E3FC;\n",
              "    }\n",
              "\n",
              "    [theme=dark] .colab-df-convert:hover {\n",
              "      background-color: #434B5C;\n",
              "      box-shadow: 0px 1px 3px 1px rgba(0, 0, 0, 0.15);\n",
              "      filter: drop-shadow(0px 1px 2px rgba(0, 0, 0, 0.3));\n",
              "      fill: #FFFFFF;\n",
              "    }\n",
              "  </style>\n",
              "\n",
              "    <script>\n",
              "      const buttonEl =\n",
              "        document.querySelector('#df-a4fadb96-105f-422a-9519-21ebb93695a3 button.colab-df-convert');\n",
              "      buttonEl.style.display =\n",
              "        google.colab.kernel.accessAllowed ? 'block' : 'none';\n",
              "\n",
              "      async function convertToInteractive(key) {\n",
              "        const element = document.querySelector('#df-a4fadb96-105f-422a-9519-21ebb93695a3');\n",
              "        const dataTable =\n",
              "          await google.colab.kernel.invokeFunction('convertToInteractive',\n",
              "                                                    [key], {});\n",
              "        if (!dataTable) return;\n",
              "\n",
              "        const docLinkHtml = 'Like what you see? Visit the ' +\n",
              "          '<a target=\"_blank\" href=https://colab.research.google.com/notebooks/data_table.ipynb>data table notebook</a>'\n",
              "          + ' to learn more about interactive tables.';\n",
              "        element.innerHTML = '';\n",
              "        dataTable['output_type'] = 'display_data';\n",
              "        await google.colab.output.renderOutput(dataTable, element);\n",
              "        const docLink = document.createElement('div');\n",
              "        docLink.innerHTML = docLinkHtml;\n",
              "        element.appendChild(docLink);\n",
              "      }\n",
              "    </script>\n",
              "  </div>\n",
              "\n",
              "\n",
              "<div id=\"df-81edd267-dc16-4375-aab7-acc8e3f96084\">\n",
              "  <button class=\"colab-df-quickchart\" onclick=\"quickchart('df-81edd267-dc16-4375-aab7-acc8e3f96084')\"\n",
              "            title=\"Suggest charts\"\n",
              "            style=\"display:none;\">\n",
              "\n",
              "<svg xmlns=\"http://www.w3.org/2000/svg\" height=\"24px\"viewBox=\"0 0 24 24\"\n",
              "     width=\"24px\">\n",
              "    <g>\n",
              "        <path d=\"M19 3H5c-1.1 0-2 .9-2 2v14c0 1.1.9 2 2 2h14c1.1 0 2-.9 2-2V5c0-1.1-.9-2-2-2zM9 17H7v-7h2v7zm4 0h-2V7h2v10zm4 0h-2v-4h2v4z\"/>\n",
              "    </g>\n",
              "</svg>\n",
              "  </button>\n",
              "\n",
              "<style>\n",
              "  .colab-df-quickchart {\n",
              "      --bg-color: #E8F0FE;\n",
              "      --fill-color: #1967D2;\n",
              "      --hover-bg-color: #E2EBFA;\n",
              "      --hover-fill-color: #174EA6;\n",
              "      --disabled-fill-color: #AAA;\n",
              "      --disabled-bg-color: #DDD;\n",
              "  }\n",
              "\n",
              "  [theme=dark] .colab-df-quickchart {\n",
              "      --bg-color: #3B4455;\n",
              "      --fill-color: #D2E3FC;\n",
              "      --hover-bg-color: #434B5C;\n",
              "      --hover-fill-color: #FFFFFF;\n",
              "      --disabled-bg-color: #3B4455;\n",
              "      --disabled-fill-color: #666;\n",
              "  }\n",
              "\n",
              "  .colab-df-quickchart {\n",
              "    background-color: var(--bg-color);\n",
              "    border: none;\n",
              "    border-radius: 50%;\n",
              "    cursor: pointer;\n",
              "    display: none;\n",
              "    fill: var(--fill-color);\n",
              "    height: 32px;\n",
              "    padding: 0;\n",
              "    width: 32px;\n",
              "  }\n",
              "\n",
              "  .colab-df-quickchart:hover {\n",
              "    background-color: var(--hover-bg-color);\n",
              "    box-shadow: 0 1px 2px rgba(60, 64, 67, 0.3), 0 1px 3px 1px rgba(60, 64, 67, 0.15);\n",
              "    fill: var(--button-hover-fill-color);\n",
              "  }\n",
              "\n",
              "  .colab-df-quickchart-complete:disabled,\n",
              "  .colab-df-quickchart-complete:disabled:hover {\n",
              "    background-color: var(--disabled-bg-color);\n",
              "    fill: var(--disabled-fill-color);\n",
              "    box-shadow: none;\n",
              "  }\n",
              "\n",
              "  .colab-df-spinner {\n",
              "    border: 2px solid var(--fill-color);\n",
              "    border-color: transparent;\n",
              "    border-bottom-color: var(--fill-color);\n",
              "    animation:\n",
              "      spin 1s steps(1) infinite;\n",
              "  }\n",
              "\n",
              "  @keyframes spin {\n",
              "    0% {\n",
              "      border-color: transparent;\n",
              "      border-bottom-color: var(--fill-color);\n",
              "      border-left-color: var(--fill-color);\n",
              "    }\n",
              "    20% {\n",
              "      border-color: transparent;\n",
              "      border-left-color: var(--fill-color);\n",
              "      border-top-color: var(--fill-color);\n",
              "    }\n",
              "    30% {\n",
              "      border-color: transparent;\n",
              "      border-left-color: var(--fill-color);\n",
              "      border-top-color: var(--fill-color);\n",
              "      border-right-color: var(--fill-color);\n",
              "    }\n",
              "    40% {\n",
              "      border-color: transparent;\n",
              "      border-right-color: var(--fill-color);\n",
              "      border-top-color: var(--fill-color);\n",
              "    }\n",
              "    60% {\n",
              "      border-color: transparent;\n",
              "      border-right-color: var(--fill-color);\n",
              "    }\n",
              "    80% {\n",
              "      border-color: transparent;\n",
              "      border-right-color: var(--fill-color);\n",
              "      border-bottom-color: var(--fill-color);\n",
              "    }\n",
              "    90% {\n",
              "      border-color: transparent;\n",
              "      border-bottom-color: var(--fill-color);\n",
              "    }\n",
              "  }\n",
              "</style>\n",
              "\n",
              "  <script>\n",
              "    async function quickchart(key) {\n",
              "      const quickchartButtonEl =\n",
              "        document.querySelector('#' + key + ' button');\n",
              "      quickchartButtonEl.disabled = true;  // To prevent multiple clicks.\n",
              "      quickchartButtonEl.classList.add('colab-df-spinner');\n",
              "      try {\n",
              "        const charts = await google.colab.kernel.invokeFunction(\n",
              "            'suggestCharts', [key], {});\n",
              "      } catch (error) {\n",
              "        console.error('Error during call to suggestCharts:', error);\n",
              "      }\n",
              "      quickchartButtonEl.classList.remove('colab-df-spinner');\n",
              "      quickchartButtonEl.classList.add('colab-df-quickchart-complete');\n",
              "    }\n",
              "    (() => {\n",
              "      let quickchartButtonEl =\n",
              "        document.querySelector('#df-81edd267-dc16-4375-aab7-acc8e3f96084 button');\n",
              "      quickchartButtonEl.style.display =\n",
              "        google.colab.kernel.accessAllowed ? 'block' : 'none';\n",
              "    })();\n",
              "  </script>\n",
              "</div>\n",
              "\n",
              "    </div>\n",
              "  </div>\n"
            ],
            "application/vnd.google.colaboratory.intrinsic+json": {
              "type": "dataframe",
              "variable_name": "df_filtro",
              "summary": "{\n  \"name\": \"df_filtro\",\n  \"rows\": 5891,\n  \"fields\": [\n    {\n      \"column\": \"preco\",\n      \"properties\": {\n        \"dtype\": \"number\",\n        \"std\": 638305,\n        \"min\": 196458,\n        \"max\": 3515040,\n        \"num_unique_values\": 949,\n        \"samples\": [\n          2389380,\n          1340706,\n          1213272\n        ],\n        \"semantic_type\": \"\",\n        \"description\": \"\"\n      }\n    },\n    {\n      \"column\": \"m2\",\n      \"properties\": {\n        \"dtype\": \"number\",\n        \"std\": 35.53205767338231,\n        \"min\": 12.541905,\n        \"max\": 217.114311,\n        \"num_unique_values\": 92,\n        \"samples\": [\n          106.745547,\n          157.00607,\n          108.417801\n        ],\n        \"semantic_type\": \"\",\n        \"description\": \"\"\n      }\n    }\n  ]\n}"
            }
          },
          "metadata": {},
          "execution_count": 7
        }
      ],
      "source": [
        "# Selecionando variáveis preco e m2\n",
        "\n",
        "df_filtro = df[['preco','m2']]\n",
        "df_filtro.head()"
      ]
    },
    {
      "cell_type": "code",
      "execution_count": null,
      "metadata": {
        "id": "MA6b2JMXNWsg",
        "colab": {
          "base_uri": "https://localhost:8080/",
          "height": 206
        },
        "outputId": "5247e369-e41a-463f-f43f-ae8ae1b12267"
      },
      "outputs": [
        {
          "output_type": "execute_result",
          "data": {
            "text/plain": [
              "     preco        m2\n",
              "0   849552  4.325761\n",
              "1   307962  3.998825\n",
              "2   292032  3.998825\n",
              "3  2283180  5.252318\n",
              "4  1327428  5.097438"
            ],
            "text/html": [
              "\n",
              "  <div id=\"df-daac29ff-1f92-4914-abde-daecb97dc4a5\" class=\"colab-df-container\">\n",
              "    <div>\n",
              "<style scoped>\n",
              "    .dataframe tbody tr th:only-of-type {\n",
              "        vertical-align: middle;\n",
              "    }\n",
              "\n",
              "    .dataframe tbody tr th {\n",
              "        vertical-align: top;\n",
              "    }\n",
              "\n",
              "    .dataframe thead th {\n",
              "        text-align: right;\n",
              "    }\n",
              "</style>\n",
              "<table border=\"1\" class=\"dataframe\">\n",
              "  <thead>\n",
              "    <tr style=\"text-align: right;\">\n",
              "      <th></th>\n",
              "      <th>preco</th>\n",
              "      <th>m2</th>\n",
              "    </tr>\n",
              "  </thead>\n",
              "  <tbody>\n",
              "    <tr>\n",
              "      <th>0</th>\n",
              "      <td>849552</td>\n",
              "      <td>4.325761</td>\n",
              "    </tr>\n",
              "    <tr>\n",
              "      <th>1</th>\n",
              "      <td>307962</td>\n",
              "      <td>3.998825</td>\n",
              "    </tr>\n",
              "    <tr>\n",
              "      <th>2</th>\n",
              "      <td>292032</td>\n",
              "      <td>3.998825</td>\n",
              "    </tr>\n",
              "    <tr>\n",
              "      <th>3</th>\n",
              "      <td>2283180</td>\n",
              "      <td>5.252318</td>\n",
              "    </tr>\n",
              "    <tr>\n",
              "      <th>4</th>\n",
              "      <td>1327428</td>\n",
              "      <td>5.097438</td>\n",
              "    </tr>\n",
              "  </tbody>\n",
              "</table>\n",
              "</div>\n",
              "    <div class=\"colab-df-buttons\">\n",
              "\n",
              "  <div class=\"colab-df-container\">\n",
              "    <button class=\"colab-df-convert\" onclick=\"convertToInteractive('df-daac29ff-1f92-4914-abde-daecb97dc4a5')\"\n",
              "            title=\"Convert this dataframe to an interactive table.\"\n",
              "            style=\"display:none;\">\n",
              "\n",
              "  <svg xmlns=\"http://www.w3.org/2000/svg\" height=\"24px\" viewBox=\"0 -960 960 960\">\n",
              "    <path d=\"M120-120v-720h720v720H120Zm60-500h600v-160H180v160Zm220 220h160v-160H400v160Zm0 220h160v-160H400v160ZM180-400h160v-160H180v160Zm440 0h160v-160H620v160ZM180-180h160v-160H180v160Zm440 0h160v-160H620v160Z\"/>\n",
              "  </svg>\n",
              "    </button>\n",
              "\n",
              "  <style>\n",
              "    .colab-df-container {\n",
              "      display:flex;\n",
              "      gap: 12px;\n",
              "    }\n",
              "\n",
              "    .colab-df-convert {\n",
              "      background-color: #E8F0FE;\n",
              "      border: none;\n",
              "      border-radius: 50%;\n",
              "      cursor: pointer;\n",
              "      display: none;\n",
              "      fill: #1967D2;\n",
              "      height: 32px;\n",
              "      padding: 0 0 0 0;\n",
              "      width: 32px;\n",
              "    }\n",
              "\n",
              "    .colab-df-convert:hover {\n",
              "      background-color: #E2EBFA;\n",
              "      box-shadow: 0px 1px 2px rgba(60, 64, 67, 0.3), 0px 1px 3px 1px rgba(60, 64, 67, 0.15);\n",
              "      fill: #174EA6;\n",
              "    }\n",
              "\n",
              "    .colab-df-buttons div {\n",
              "      margin-bottom: 4px;\n",
              "    }\n",
              "\n",
              "    [theme=dark] .colab-df-convert {\n",
              "      background-color: #3B4455;\n",
              "      fill: #D2E3FC;\n",
              "    }\n",
              "\n",
              "    [theme=dark] .colab-df-convert:hover {\n",
              "      background-color: #434B5C;\n",
              "      box-shadow: 0px 1px 3px 1px rgba(0, 0, 0, 0.15);\n",
              "      filter: drop-shadow(0px 1px 2px rgba(0, 0, 0, 0.3));\n",
              "      fill: #FFFFFF;\n",
              "    }\n",
              "  </style>\n",
              "\n",
              "    <script>\n",
              "      const buttonEl =\n",
              "        document.querySelector('#df-daac29ff-1f92-4914-abde-daecb97dc4a5 button.colab-df-convert');\n",
              "      buttonEl.style.display =\n",
              "        google.colab.kernel.accessAllowed ? 'block' : 'none';\n",
              "\n",
              "      async function convertToInteractive(key) {\n",
              "        const element = document.querySelector('#df-daac29ff-1f92-4914-abde-daecb97dc4a5');\n",
              "        const dataTable =\n",
              "          await google.colab.kernel.invokeFunction('convertToInteractive',\n",
              "                                                    [key], {});\n",
              "        if (!dataTable) return;\n",
              "\n",
              "        const docLinkHtml = 'Like what you see? Visit the ' +\n",
              "          '<a target=\"_blank\" href=https://colab.research.google.com/notebooks/data_table.ipynb>data table notebook</a>'\n",
              "          + ' to learn more about interactive tables.';\n",
              "        element.innerHTML = '';\n",
              "        dataTable['output_type'] = 'display_data';\n",
              "        await google.colab.output.renderOutput(dataTable, element);\n",
              "        const docLink = document.createElement('div');\n",
              "        docLink.innerHTML = docLinkHtml;\n",
              "        element.appendChild(docLink);\n",
              "      }\n",
              "    </script>\n",
              "  </div>\n",
              "\n",
              "\n",
              "<div id=\"df-184ccd7d-7175-4409-bc65-9d49ac90c82b\">\n",
              "  <button class=\"colab-df-quickchart\" onclick=\"quickchart('df-184ccd7d-7175-4409-bc65-9d49ac90c82b')\"\n",
              "            title=\"Suggest charts\"\n",
              "            style=\"display:none;\">\n",
              "\n",
              "<svg xmlns=\"http://www.w3.org/2000/svg\" height=\"24px\"viewBox=\"0 0 24 24\"\n",
              "     width=\"24px\">\n",
              "    <g>\n",
              "        <path d=\"M19 3H5c-1.1 0-2 .9-2 2v14c0 1.1.9 2 2 2h14c1.1 0 2-.9 2-2V5c0-1.1-.9-2-2-2zM9 17H7v-7h2v7zm4 0h-2V7h2v10zm4 0h-2v-4h2v4z\"/>\n",
              "    </g>\n",
              "</svg>\n",
              "  </button>\n",
              "\n",
              "<style>\n",
              "  .colab-df-quickchart {\n",
              "      --bg-color: #E8F0FE;\n",
              "      --fill-color: #1967D2;\n",
              "      --hover-bg-color: #E2EBFA;\n",
              "      --hover-fill-color: #174EA6;\n",
              "      --disabled-fill-color: #AAA;\n",
              "      --disabled-bg-color: #DDD;\n",
              "  }\n",
              "\n",
              "  [theme=dark] .colab-df-quickchart {\n",
              "      --bg-color: #3B4455;\n",
              "      --fill-color: #D2E3FC;\n",
              "      --hover-bg-color: #434B5C;\n",
              "      --hover-fill-color: #FFFFFF;\n",
              "      --disabled-bg-color: #3B4455;\n",
              "      --disabled-fill-color: #666;\n",
              "  }\n",
              "\n",
              "  .colab-df-quickchart {\n",
              "    background-color: var(--bg-color);\n",
              "    border: none;\n",
              "    border-radius: 50%;\n",
              "    cursor: pointer;\n",
              "    display: none;\n",
              "    fill: var(--fill-color);\n",
              "    height: 32px;\n",
              "    padding: 0;\n",
              "    width: 32px;\n",
              "  }\n",
              "\n",
              "  .colab-df-quickchart:hover {\n",
              "    background-color: var(--hover-bg-color);\n",
              "    box-shadow: 0 1px 2px rgba(60, 64, 67, 0.3), 0 1px 3px 1px rgba(60, 64, 67, 0.15);\n",
              "    fill: var(--button-hover-fill-color);\n",
              "  }\n",
              "\n",
              "  .colab-df-quickchart-complete:disabled,\n",
              "  .colab-df-quickchart-complete:disabled:hover {\n",
              "    background-color: var(--disabled-bg-color);\n",
              "    fill: var(--disabled-fill-color);\n",
              "    box-shadow: none;\n",
              "  }\n",
              "\n",
              "  .colab-df-spinner {\n",
              "    border: 2px solid var(--fill-color);\n",
              "    border-color: transparent;\n",
              "    border-bottom-color: var(--fill-color);\n",
              "    animation:\n",
              "      spin 1s steps(1) infinite;\n",
              "  }\n",
              "\n",
              "  @keyframes spin {\n",
              "    0% {\n",
              "      border-color: transparent;\n",
              "      border-bottom-color: var(--fill-color);\n",
              "      border-left-color: var(--fill-color);\n",
              "    }\n",
              "    20% {\n",
              "      border-color: transparent;\n",
              "      border-left-color: var(--fill-color);\n",
              "      border-top-color: var(--fill-color);\n",
              "    }\n",
              "    30% {\n",
              "      border-color: transparent;\n",
              "      border-left-color: var(--fill-color);\n",
              "      border-top-color: var(--fill-color);\n",
              "      border-right-color: var(--fill-color);\n",
              "    }\n",
              "    40% {\n",
              "      border-color: transparent;\n",
              "      border-right-color: var(--fill-color);\n",
              "      border-top-color: var(--fill-color);\n",
              "    }\n",
              "    60% {\n",
              "      border-color: transparent;\n",
              "      border-right-color: var(--fill-color);\n",
              "    }\n",
              "    80% {\n",
              "      border-color: transparent;\n",
              "      border-right-color: var(--fill-color);\n",
              "      border-bottom-color: var(--fill-color);\n",
              "    }\n",
              "    90% {\n",
              "      border-color: transparent;\n",
              "      border-bottom-color: var(--fill-color);\n",
              "    }\n",
              "  }\n",
              "</style>\n",
              "\n",
              "  <script>\n",
              "    async function quickchart(key) {\n",
              "      const quickchartButtonEl =\n",
              "        document.querySelector('#' + key + ' button');\n",
              "      quickchartButtonEl.disabled = true;  // To prevent multiple clicks.\n",
              "      quickchartButtonEl.classList.add('colab-df-spinner');\n",
              "      try {\n",
              "        const charts = await google.colab.kernel.invokeFunction(\n",
              "            'suggestCharts', [key], {});\n",
              "      } catch (error) {\n",
              "        console.error('Error during call to suggestCharts:', error);\n",
              "      }\n",
              "      quickchartButtonEl.classList.remove('colab-df-spinner');\n",
              "      quickchartButtonEl.classList.add('colab-df-quickchart-complete');\n",
              "    }\n",
              "    (() => {\n",
              "      let quickchartButtonEl =\n",
              "        document.querySelector('#df-184ccd7d-7175-4409-bc65-9d49ac90c82b button');\n",
              "      quickchartButtonEl.style.display =\n",
              "        google.colab.kernel.accessAllowed ? 'block' : 'none';\n",
              "    })();\n",
              "  </script>\n",
              "</div>\n",
              "\n",
              "    </div>\n",
              "  </div>\n"
            ],
            "application/vnd.google.colaboratory.intrinsic+json": {
              "type": "dataframe",
              "variable_name": "df_filtro",
              "summary": "{\n  \"name\": \"df_filtro\",\n  \"rows\": 5891,\n  \"fields\": [\n    {\n      \"column\": \"preco\",\n      \"properties\": {\n        \"dtype\": \"number\",\n        \"std\": 638305,\n        \"min\": 196458,\n        \"max\": 3515040,\n        \"num_unique_values\": 949,\n        \"samples\": [\n          2389380,\n          1340706,\n          1213272\n        ],\n        \"semantic_type\": \"\",\n        \"description\": \"\"\n      }\n    },\n    {\n      \"column\": \"m2\",\n      \"properties\": {\n        \"dtype\": \"number\",\n        \"std\": 0.42247040422903376,\n        \"min\": 2.5290754375426285,\n        \"max\": 5.380423993643057,\n        \"num_unique_values\": 92,\n        \"samples\": [\n          4.670447936952955,\n          5.056284467021318,\n          4.685992291390755\n        ],\n        \"semantic_type\": \"\",\n        \"description\": \"\"\n      }\n    }\n  ]\n}"
            }
          },
          "metadata": {},
          "execution_count": 8
        }
      ],
      "source": [
        "# Selecionando variáveis preco e m2 e criar uma cópia do dataframe\n",
        "df_filtro = df[['preco', 'm2']].copy()\n",
        "\n",
        "# Aplicar logaritmo natural na variável m2 e substituir os valores\n",
        "df_filtro.loc[:, 'm2'] = np.log(df_filtro['m2'])\n",
        "\n",
        "df_filtro.head()"
      ]
    },
    {
      "cell_type": "code",
      "execution_count": null,
      "metadata": {
        "id": "Il-OushrNEQM",
        "colab": {
          "base_uri": "https://localhost:8080/"
        },
        "outputId": "ea0403cb-e511-4b6a-a3ec-343b0ebf6103"
      },
      "outputs": [
        {
          "output_type": "stream",
          "name": "stdout",
          "text": [
            "          preco        m2\n",
            "preco  1.000000  0.706048\n",
            "m2     0.706048  1.000000\n"
          ]
        }
      ],
      "source": [
        "# Calculando a correlação entre as variáveis 'preco' e 'm2'\n",
        "correlacao = df_filtro[['preco', 'm2']].corr()\n",
        "\n",
        "# Exibindo a correlação\n",
        "print(correlacao)"
      ]
    },
    {
      "cell_type": "markdown",
      "metadata": {
        "id": "_H6juqPrLTTq"
      },
      "source": [
        "## 3: Crie um modelo de regressão linear simples e encontre os coeficientes do modelo."
      ]
    },
    {
      "cell_type": "code",
      "execution_count": null,
      "metadata": {
        "id": "hO6cQFNioCcl"
      },
      "outputs": [],
      "source": [
        "# Importar statsmodels\n",
        "import statsmodels.api as sm"
      ]
    },
    {
      "cell_type": "code",
      "execution_count": null,
      "metadata": {
        "id": "Eo2w7S54r-Ai",
        "colab": {
          "base_uri": "https://localhost:8080/"
        },
        "outputId": "8e19f11a-73dd-4ecc-9aea-cd62382a4b3a"
      },
      "outputs": [
        {
          "output_type": "stream",
          "name": "stdout",
          "text": [
            "                            OLS Regression Results                            \n",
            "==============================================================================\n",
            "Dep. Variable:                  preco   R-squared:                       0.499\n",
            "Model:                            OLS   Adj. R-squared:                  0.498\n",
            "Method:                 Least Squares   F-statistic:                     5854.\n",
            "Date:                Thu, 20 Jun 2024   Prob (F-statistic):               0.00\n",
            "Time:                        23:11:09   Log-Likelihood:                -85068.\n",
            "No. Observations:                5891   AIC:                         1.701e+05\n",
            "Df Residuals:                    5889   BIC:                         1.702e+05\n",
            "Df Model:                           1                                         \n",
            "Covariance Type:            nonrobust                                         \n",
            "==============================================================================\n",
            "                 coef    std err          t      P>|t|      [0.025      0.975]\n",
            "------------------------------------------------------------------------------\n",
            "const       -3.37e+06   6.17e+04    -54.642      0.000   -3.49e+06   -3.25e+06\n",
            "m2          1.067e+06   1.39e+04     76.511      0.000    1.04e+06    1.09e+06\n",
            "==============================================================================\n",
            "Omnibus:                      150.092   Durbin-Watson:                   0.743\n",
            "Prob(Omnibus):                  0.000   Jarque-Bera (JB):              153.123\n",
            "Skew:                           0.373   Prob(JB):                     5.62e-34\n",
            "Kurtosis:                       2.739   Cond. No.                         48.7\n",
            "==============================================================================\n",
            "\n",
            "Notes:\n",
            "[1] Standard Errors assume that the covariance matrix of the errors is correctly specified.\n"
          ]
        }
      ],
      "source": [
        "# Separar as variáveis X e y\n",
        "\n",
        "X = df_filtro['m2']\n",
        "y = df_filtro['preco']\n",
        "\n",
        "# Adicionar termo constante\n",
        "\n",
        "X = sm.add_constant(X)\n",
        "\n",
        "# Estimar o modelo de regressão linear\n",
        "\n",
        "modelo1 = sm.OLS(y, X).fit()\n",
        "\n",
        "# Estatísticas do modelo\n",
        "\n",
        "print(modelo1.summary())"
      ]
    },
    {
      "cell_type": "code",
      "source": [
        "modelo1.params"
      ],
      "metadata": {
        "colab": {
          "base_uri": "https://localhost:8080/"
        },
        "id": "R3eIdFOj64Ip",
        "outputId": "064ef44e-79ec-48ff-9774-d5dc6ff8d4d4"
      },
      "execution_count": null,
      "outputs": [
        {
          "output_type": "execute_result",
          "data": {
            "text/plain": [
              "const   -3.370460e+06\n",
              "m2       1.066759e+06\n",
              "dtype: float64"
            ]
          },
          "metadata": {},
          "execution_count": 12
        }
      ]
    },
    {
      "cell_type": "code",
      "source": [
        "# Prever valores de X\n",
        "y_pred1 = modelo1.predict(X)\n",
        "\n",
        "# Calcular os resíduos\n",
        "res1 = y - y_pred1"
      ],
      "metadata": {
        "id": "pM-OmwXh6625"
      },
      "execution_count": null,
      "outputs": []
    },
    {
      "cell_type": "markdown",
      "metadata": {
        "id": "n9are8ehMDJl"
      },
      "source": [
        "## 4: Verifique os pressupostos da regressão linear."
      ]
    },
    {
      "cell_type": "markdown",
      "metadata": {
        "id": "98VVXB_-vy_7"
      },
      "source": [
        "Linearidade"
      ]
    },
    {
      "cell_type": "code",
      "execution_count": null,
      "metadata": {
        "id": "NDAe-65gv0_r"
      },
      "outputs": [],
      "source": [
        "import seaborn as sns"
      ]
    },
    {
      "cell_type": "code",
      "source": [
        "# Gráfico de dispersão\n",
        "sns.scatterplot(data=df_filtro, y='preco', x='m2');\n",
        "sns.lineplot(x=df_filtro['m2'], y=y_pred1, color='red');"
      ],
      "metadata": {
        "colab": {
          "base_uri": "https://localhost:8080/",
          "height": 465
        },
        "id": "I5LsOBDV7JWS",
        "outputId": "e3065bb7-3456-479b-ec3a-852c09d9966c"
      },
      "execution_count": null,
      "outputs": [
        {
          "output_type": "display_data",
          "data": {
            "text/plain": [
              "<Figure size 640x480 with 1 Axes>"
            ],
            "image/png": "[encoded data removed]"
          },
          "metadata": {}
        }
      ]
    },
    {
      "cell_type": "markdown",
      "metadata": {
        "id": "WtkZeNJ68CAY"
      },
      "source": [
        "Homocedasticidade\n",
        "\n",
        "Vamos checar a homocedasticidade com um teste de hipótese: Goldfeld Quandt. Este teste pode ser realizado importando-se a função `statsmodels.stats.api.het_goldfeldquandt()`.\n",
        "\n",
        "Neste teste, a hipótese nula é de que há homocedasticidade."
      ]
    },
    {
      "cell_type": "code",
      "execution_count": null,
      "metadata": {
        "id": "WM8AkHaOy2rQ",
        "colab": {
          "base_uri": "https://localhost:8080/"
        },
        "outputId": "ef8c92af-eb3a-4f72-e58a-8dd316a109f4"
      },
      "outputs": [
        {
          "output_type": "execute_result",
          "data": {
            "text/plain": [
              "3.4232536086860795e-22"
            ]
          },
          "metadata": {},
          "execution_count": 16
        }
      ],
      "source": [
        "from statsmodels.stats.api import het_goldfeldquandt\n",
        "\n",
        "stat, p_valor, _ = het_goldfeldquandt(res1, X)\n",
        "p_valor"
      ]
    },
    {
      "cell_type": "markdown",
      "source": [
        "**Resposta:** Como o ***p-valor é muito próximo de zero***, indica que a hipótese nula pode ser rejeitada e que a variância dos resíduos não é constante."
      ],
      "metadata": {
        "id": "WwAZSJQx7mSm"
      }
    },
    {
      "cell_type": "markdown",
      "metadata": {
        "id": "iRQGANwz8FMw"
      },
      "source": [
        "Normalidade dos Resíduos\n",
        "\n",
        "Vamos checar a normalidadde dos resíduos usando o teste de hipóteses de Shapiro-Wilk. Neste caso, a hipótese nula é que a amostra segue distribuição normal. Podemos realizar este teste importando a função `scipy.stats.shapiro()`."
      ]
    },
    {
      "cell_type": "code",
      "execution_count": null,
      "metadata": {
        "id": "0tzcAmvw4DWg",
        "colab": {
          "base_uri": "https://localhost:8080/"
        },
        "outputId": "63ad4d19-0532-4a73-ee2f-225743335bc5"
      },
      "outputs": [
        {
          "output_type": "stream",
          "name": "stderr",
          "text": [
            "/usr/local/lib/python3.10/dist-packages/scipy/stats/_morestats.py:1882: UserWarning: p-value may not be accurate for N > 5000.\n",
            "  warnings.warn(\"p-value may not be accurate for N > 5000.\")\n"
          ]
        },
        {
          "output_type": "execute_result",
          "data": {
            "text/plain": [
              "7.838917594454599e-26"
            ]
          },
          "metadata": {},
          "execution_count": 17
        }
      ],
      "source": [
        "from scipy.stats import shapiro\n",
        "\n",
        "stat, p_valor = shapiro(res1)\n",
        "p_valor"
      ]
    },
    {
      "cell_type": "markdown",
      "source": [
        "**Resposta:** p-valor menor que 0.05, podemos rejeitar a hipótese nula. Temos evidência de que os resíduos não seguem uma distribuição normal."
      ],
      "metadata": {
        "id": "Jyhn2uDb8XcI"
      }
    },
    {
      "cell_type": "markdown",
      "metadata": {
        "id": "v1OgQlgz8Ix9"
      },
      "source": [
        "Autocorrelação dos Resíduos\n",
        "\n",
        "Para checar se há autocorrelação entre os resíduos vamos usar o teste de hipótese de Durbin Watson. Ele pode ser importado do `statsmodels` com a sintaxe `statsmodels.stats.stattolls.durbin_watons()`."
      ]
    },
    {
      "cell_type": "code",
      "execution_count": null,
      "metadata": {
        "id": "Ew5rKJ9y64-0",
        "colab": {
          "base_uri": "https://localhost:8080/"
        },
        "outputId": "f6a7557a-ede6-40db-bf15-af6600d4dba6"
      },
      "outputs": [
        {
          "output_type": "execute_result",
          "data": {
            "text/plain": [
              "0.7433704819691179"
            ]
          },
          "metadata": {},
          "execution_count": 18
        }
      ],
      "source": [
        "from statsmodels.stats.stattools import durbin_watson\n",
        "\n",
        "durbin_watson(res1)"
      ]
    },
    {
      "cell_type": "markdown",
      "metadata": {
        "id": "9IcMU2g32eke"
      },
      "source": [
        "Para decidirmor se há ou não autocorrelação dos resíduos, devemos observar o valor do teste. Valores entre 1.5 e 2.5 indicam que não há autocorrelação, valores fora dessa faixa indicam que há autocorrelação.\n",
        "\n",
        "**Resposta:** Podemos observar que o valor está entre 0 e 1, indicando que há autocorrelação."
      ]
    },
    {
      "cell_type": "markdown",
      "metadata": {
        "id": "vueVPgKiyj9O"
      },
      "source": [
        "Multicolinearidade\n",
        "\n"
      ]
    },
    {
      "cell_type": "markdown",
      "source": [
        "**Resposta:** Não é preciso checar a multicolinearidade, pois só temos uma variável preditora."
      ],
      "metadata": {
        "id": "vsgrafr09R0j"
      }
    },
    {
      "cell_type": "markdown",
      "metadata": {
        "id": "lBkwAWg-omOk"
      },
      "source": [
        "# Regressão Linear Múltipla\n",
        "\n",
        "## 5: Crie um modelo de regressão linear múltipla.\n",
        "\n",
        "Para facilitar o trabalho, vamos deixar um pré processamento pronto."
      ]
    },
    {
      "cell_type": "code",
      "execution_count": null,
      "metadata": {
        "colab": {
          "base_uri": "https://localhost:8080/",
          "height": 226
        },
        "id": "wpKZbiPT8iBm",
        "outputId": "4f86b054-ac16-48b7-c2c9-3f6fb1e494e1"
      },
      "outputs": [
        {
          "output_type": "execute_result",
          "data": {
            "text/plain": [
              "     preco  ano_construcao  ano_Venda          m2  andar tipo_Aquecimento  \\\n",
              "0   849552            2006       2007   75.623042      3       individual   \n",
              "1   307962            1985       2007   54.534061      8       individual   \n",
              "2   292032            1985       2007   54.534061      6       individual   \n",
              "3  2283180            2006       2007  191.008568      8       individual   \n",
              "4  1327428            1993       2007  163.602183      3       individual   \n",
              "\n",
              "  tempo_ate_onibus tempo_ate_metro  qtde_elevadores  \\\n",
              "0       5min~10min     10min~15min                0   \n",
              "1           0~5min      5min~10min                2   \n",
              "2           0~5min      5min~10min                2   \n",
              "3           0~5min          0-5min               11   \n",
              "4           0~5min     15min~20min               20   \n",
              "\n",
              "   qtde_escritorios_publicos_perto  qtde_hospitais_perto  \\\n",
              "0                                2                     1   \n",
              "1                                5                     1   \n",
              "2                                5                     1   \n",
              "3                                1                     1   \n",
              "4                                6                     2   \n",
              "\n",
              "   qtde_lojas_departamento_perto  qtde_shoppings_perto  \\\n",
              "0                              1                     1   \n",
              "1                              2                     1   \n",
              "2                              2                     1   \n",
              "3                              0                     1   \n",
              "4                              0                     1   \n",
              "\n",
              "   qtde_estacionamentos_perto  qtde_escolas_fundamental1_perto  \\\n",
              "0                           0                                3   \n",
              "1                           1                                2   \n",
              "2                           1                                2   \n",
              "3                           0                                2   \n",
              "4                           0                                4   \n",
              "\n",
              "   qtde_escolas_fundamental2_perto  qtde_escolas_medio_perto  \\\n",
              "0                                2                         2   \n",
              "1                                1                         1   \n",
              "2                                1                         1   \n",
              "3                                2                         1   \n",
              "4                                3                         5   \n",
              "\n",
              "   qtde_universidades_perto  \n",
              "0                         2  \n",
              "1                         0  \n",
              "2                         0  \n",
              "3                         2  \n",
              "4                         5  "
            ],
            "text/html": [
              "\n",
              "  <div id=\"df-7935deb4-fb71-4688-8feb-9ab0c3c3d9e5\" class=\"colab-df-container\">\n",
              "    <div>\n",
              "<style scoped>\n",
              "    .dataframe tbody tr th:only-of-type {\n",
              "        vertical-align: middle;\n",
              "    }\n",
              "\n",
              "    .dataframe tbody tr th {\n",
              "        vertical-align: top;\n",
              "    }\n",
              "\n",
              "    .dataframe thead th {\n",
              "        text-align: right;\n",
              "    }\n",
              "</style>\n",
              "<table border=\"1\" class=\"dataframe\">\n",
              "  <thead>\n",
              "    <tr style=\"text-align: right;\">\n",
              "      <th></th>\n",
              "      <th>preco</th>\n",
              "      <th>ano_construcao</th>\n",
              "      <th>ano_Venda</th>\n",
              "      <th>m2</th>\n",
              "      <th>andar</th>\n",
              "      <th>tipo_Aquecimento</th>\n",
              "      <th>tempo_ate_onibus</th>\n",
              "      <th>tempo_ate_metro</th>\n",
              "      <th>qtde_elevadores</th>\n",
              "      <th>qtde_escritorios_publicos_perto</th>\n",
              "      <th>qtde_hospitais_perto</th>\n",
              "      <th>qtde_lojas_departamento_perto</th>\n",
              "      <th>qtde_shoppings_perto</th>\n",
              "      <th>qtde_estacionamentos_perto</th>\n",
              "      <th>qtde_escolas_fundamental1_perto</th>\n",
              "      <th>qtde_escolas_fundamental2_perto</th>\n",
              "      <th>qtde_escolas_medio_perto</th>\n",
              "      <th>qtde_universidades_perto</th>\n",
              "    </tr>\n",
              "  </thead>\n",
              "  <tbody>\n",
              "    <tr>\n",
              "      <th>0</th>\n",
              "      <td>849552</td>\n",
              "      <td>2006</td>\n",
              "      <td>2007</td>\n",
              "      <td>75.623042</td>\n",
              "      <td>3</td>\n",
              "      <td>individual</td>\n",
              "      <td>5min~10min</td>\n",
              "      <td>10min~15min</td>\n",
              "      <td>0</td>\n",
              "      <td>2</td>\n",
              "      <td>1</td>\n",
              "      <td>1</td>\n",
              "      <td>1</td>\n",
              "      <td>0</td>\n",
              "      <td>3</td>\n",
              "      <td>2</td>\n",
              "      <td>2</td>\n",
              "      <td>2</td>\n",
              "    </tr>\n",
              "    <tr>\n",
              "      <th>1</th>\n",
              "      <td>307962</td>\n",
              "      <td>1985</td>\n",
              "      <td>2007</td>\n",
              "      <td>54.534061</td>\n",
              "      <td>8</td>\n",
              "      <td>individual</td>\n",
              "      <td>0~5min</td>\n",
              "      <td>5min~10min</td>\n",
              "      <td>2</td>\n",
              "      <td>5</td>\n",
              "      <td>1</td>\n",
              "      <td>2</td>\n",
              "      <td>1</td>\n",
              "      <td>1</td>\n",
              "      <td>2</td>\n",
              "      <td>1</td>\n",
              "      <td>1</td>\n",
              "      <td>0</td>\n",
              "    </tr>\n",
              "    <tr>\n",
              "      <th>2</th>\n",
              "      <td>292032</td>\n",
              "      <td>1985</td>\n",
              "      <td>2007</td>\n",
              "      <td>54.534061</td>\n",
              "      <td>6</td>\n",
              "      <td>individual</td>\n",
              "      <td>0~5min</td>\n",
              "      <td>5min~10min</td>\n",
              "      <td>2</td>\n",
              "      <td>5</td>\n",
              "      <td>1</td>\n",
              "      <td>2</td>\n",
              "      <td>1</td>\n",
              "      <td>1</td>\n",
              "      <td>2</td>\n",
              "      <td>1</td>\n",
              "      <td>1</td>\n",
              "      <td>0</td>\n",
              "    </tr>\n",
              "    <tr>\n",
              "      <th>3</th>\n",
              "      <td>2283180</td>\n",
              "      <td>2006</td>\n",
              "      <td>2007</td>\n",
              "      <td>191.008568</td>\n",
              "      <td>8</td>\n",
              "      <td>individual</td>\n",
              "      <td>0~5min</td>\n",
              "      <td>0-5min</td>\n",
              "      <td>11</td>\n",
              "      <td>1</td>\n",
              "      <td>1</td>\n",
              "      <td>0</td>\n",
              "      <td>1</td>\n",
              "      <td>0</td>\n",
              "      <td>2</td>\n",
              "      <td>2</td>\n",
              "      <td>1</td>\n",
              "      <td>2</td>\n",
              "    </tr>\n",
              "    <tr>\n",
              "      <th>4</th>\n",
              "      <td>1327428</td>\n",
              "      <td>1993</td>\n",
              "      <td>2007</td>\n",
              "      <td>163.602183</td>\n",
              "      <td>3</td>\n",
              "      <td>individual</td>\n",
              "      <td>0~5min</td>\n",
              "      <td>15min~20min</td>\n",
              "      <td>20</td>\n",
              "      <td>6</td>\n",
              "      <td>2</td>\n",
              "      <td>0</td>\n",
              "      <td>1</td>\n",
              "      <td>0</td>\n",
              "      <td>4</td>\n",
              "      <td>3</td>\n",
              "      <td>5</td>\n",
              "      <td>5</td>\n",
              "    </tr>\n",
              "  </tbody>\n",
              "</table>\n",
              "</div>\n",
              "    <div class=\"colab-df-buttons\">\n",
              "\n",
              "  <div class=\"colab-df-container\">\n",
              "    <button class=\"colab-df-convert\" onclick=\"convertToInteractive('df-7935deb4-fb71-4688-8feb-9ab0c3c3d9e5')\"\n",
              "            title=\"Convert this dataframe to an interactive table.\"\n",
              "            style=\"display:none;\">\n",
              "\n",
              "  <svg xmlns=\"http://www.w3.org/2000/svg\" height=\"24px\" viewBox=\"0 -960 960 960\">\n",
              "    <path d=\"M120-120v-720h720v720H120Zm60-500h600v-160H180v160Zm220 220h160v-160H400v160Zm0 220h160v-160H400v160ZM180-400h160v-160H180v160Zm440 0h160v-160H620v160ZM180-180h160v-160H180v160Zm440 0h160v-160H620v160Z\"/>\n",
              "  </svg>\n",
              "    </button>\n",
              "\n",
              "  <style>\n",
              "    .colab-df-container {\n",
              "      display:flex;\n",
              "      gap: 12px;\n",
              "    }\n",
              "\n",
              "    .colab-df-convert {\n",
              "      background-color: #E8F0FE;\n",
              "      border: none;\n",
              "      border-radius: 50%;\n",
              "      cursor: pointer;\n",
              "      display: none;\n",
              "      fill: #1967D2;\n",
              "      height: 32px;\n",
              "      padding: 0 0 0 0;\n",
              "      width: 32px;\n",
              "    }\n",
              "\n",
              "    .colab-df-convert:hover {\n",
              "      background-color: #E2EBFA;\n",
              "      box-shadow: 0px 1px 2px rgba(60, 64, 67, 0.3), 0px 1px 3px 1px rgba(60, 64, 67, 0.15);\n",
              "      fill: #174EA6;\n",
              "    }\n",
              "\n",
              "    .colab-df-buttons div {\n",
              "      margin-bottom: 4px;\n",
              "    }\n",
              "\n",
              "    [theme=dark] .colab-df-convert {\n",
              "      background-color: #3B4455;\n",
              "      fill: #D2E3FC;\n",
              "    }\n",
              "\n",
              "    [theme=dark] .colab-df-convert:hover {\n",
              "      background-color: #434B5C;\n",
              "      box-shadow: 0px 1px 3px 1px rgba(0, 0, 0, 0.15);\n",
              "      filter: drop-shadow(0px 1px 2px rgba(0, 0, 0, 0.3));\n",
              "      fill: #FFFFFF;\n",
              "    }\n",
              "  </style>\n",
              "\n",
              "    <script>\n",
              "      const buttonEl =\n",
              "        document.querySelector('#df-7935deb4-fb71-4688-8feb-9ab0c3c3d9e5 button.colab-df-convert');\n",
              "      buttonEl.style.display =\n",
              "        google.colab.kernel.accessAllowed ? 'block' : 'none';\n",
              "\n",
              "      async function convertToInteractive(key) {\n",
              "        const element = document.querySelector('#df-7935deb4-fb71-4688-8feb-9ab0c3c3d9e5');\n",
              "        const dataTable =\n",
              "          await google.colab.kernel.invokeFunction('convertToInteractive',\n",
              "                                                    [key], {});\n",
              "        if (!dataTable) return;\n",
              "\n",
              "        const docLinkHtml = 'Like what you see? Visit the ' +\n",
              "          '<a target=\"_blank\" href=https://colab.research.google.com/notebooks/data_table.ipynb>data table notebook</a>'\n",
              "          + ' to learn more about interactive tables.';\n",
              "        element.innerHTML = '';\n",
              "        dataTable['output_type'] = 'display_data';\n",
              "        await google.colab.output.renderOutput(dataTable, element);\n",
              "        const docLink = document.createElement('div');\n",
              "        docLink.innerHTML = docLinkHtml;\n",
              "        element.appendChild(docLink);\n",
              "      }\n",
              "    </script>\n",
              "  </div>\n",
              "\n",
              "\n",
              "<div id=\"df-76c38b19-8819-4f2b-a63e-910a1b591f9e\">\n",
              "  <button class=\"colab-df-quickchart\" onclick=\"quickchart('df-76c38b19-8819-4f2b-a63e-910a1b591f9e')\"\n",
              "            title=\"Suggest charts\"\n",
              "            style=\"display:none;\">\n",
              "\n",
              "<svg xmlns=\"http://www.w3.org/2000/svg\" height=\"24px\"viewBox=\"0 0 24 24\"\n",
              "     width=\"24px\">\n",
              "    <g>\n",
              "        <path d=\"M19 3H5c-1.1 0-2 .9-2 2v14c0 1.1.9 2 2 2h14c1.1 0 2-.9 2-2V5c0-1.1-.9-2-2-2zM9 17H7v-7h2v7zm4 0h-2V7h2v10zm4 0h-2v-4h2v4z\"/>\n",
              "    </g>\n",
              "</svg>\n",
              "  </button>\n",
              "\n",
              "<style>\n",
              "  .colab-df-quickchart {\n",
              "      --bg-color: #E8F0FE;\n",
              "      --fill-color: #1967D2;\n",
              "      --hover-bg-color: #E2EBFA;\n",
              "      --hover-fill-color: #174EA6;\n",
              "      --disabled-fill-color: #AAA;\n",
              "      --disabled-bg-color: #DDD;\n",
              "  }\n",
              "\n",
              "  [theme=dark] .colab-df-quickchart {\n",
              "      --bg-color: #3B4455;\n",
              "      --fill-color: #D2E3FC;\n",
              "      --hover-bg-color: #434B5C;\n",
              "      --hover-fill-color: #FFFFFF;\n",
              "      --disabled-bg-color: #3B4455;\n",
              "      --disabled-fill-color: #666;\n",
              "  }\n",
              "\n",
              "  .colab-df-quickchart {\n",
              "    background-color: var(--bg-color);\n",
              "    border: none;\n",
              "    border-radius: 50%;\n",
              "    cursor: pointer;\n",
              "    display: none;\n",
              "    fill: var(--fill-color);\n",
              "    height: 32px;\n",
              "    padding: 0;\n",
              "    width: 32px;\n",
              "  }\n",
              "\n",
              "  .colab-df-quickchart:hover {\n",
              "    background-color: var(--hover-bg-color);\n",
              "    box-shadow: 0 1px 2px rgba(60, 64, 67, 0.3), 0 1px 3px 1px rgba(60, 64, 67, 0.15);\n",
              "    fill: var(--button-hover-fill-color);\n",
              "  }\n",
              "\n",
              "  .colab-df-quickchart-complete:disabled,\n",
              "  .colab-df-quickchart-complete:disabled:hover {\n",
              "    background-color: var(--disabled-bg-color);\n",
              "    fill: var(--disabled-fill-color);\n",
              "    box-shadow: none;\n",
              "  }\n",
              "\n",
              "  .colab-df-spinner {\n",
              "    border: 2px solid var(--fill-color);\n",
              "    border-color: transparent;\n",
              "    border-bottom-color: var(--fill-color);\n",
              "    animation:\n",
              "      spin 1s steps(1) infinite;\n",
              "  }\n",
              "\n",
              "  @keyframes spin {\n",
              "    0% {\n",
              "      border-color: transparent;\n",
              "      border-bottom-color: var(--fill-color);\n",
              "      border-left-color: var(--fill-color);\n",
              "    }\n",
              "    20% {\n",
              "      border-color: transparent;\n",
              "      border-left-color: var(--fill-color);\n",
              "      border-top-color: var(--fill-color);\n",
              "    }\n",
              "    30% {\n",
              "      border-color: transparent;\n",
              "      border-left-color: var(--fill-color);\n",
              "      border-top-color: var(--fill-color);\n",
              "      border-right-color: var(--fill-color);\n",
              "    }\n",
              "    40% {\n",
              "      border-color: transparent;\n",
              "      border-right-color: var(--fill-color);\n",
              "      border-top-color: var(--fill-color);\n",
              "    }\n",
              "    60% {\n",
              "      border-color: transparent;\n",
              "      border-right-color: var(--fill-color);\n",
              "    }\n",
              "    80% {\n",
              "      border-color: transparent;\n",
              "      border-right-color: var(--fill-color);\n",
              "      border-bottom-color: var(--fill-color);\n",
              "    }\n",
              "    90% {\n",
              "      border-color: transparent;\n",
              "      border-bottom-color: var(--fill-color);\n",
              "    }\n",
              "  }\n",
              "</style>\n",
              "\n",
              "  <script>\n",
              "    async function quickchart(key) {\n",
              "      const quickchartButtonEl =\n",
              "        document.querySelector('#' + key + ' button');\n",
              "      quickchartButtonEl.disabled = true;  // To prevent multiple clicks.\n",
              "      quickchartButtonEl.classList.add('colab-df-spinner');\n",
              "      try {\n",
              "        const charts = await google.colab.kernel.invokeFunction(\n",
              "            'suggestCharts', [key], {});\n",
              "      } catch (error) {\n",
              "        console.error('Error during call to suggestCharts:', error);\n",
              "      }\n",
              "      quickchartButtonEl.classList.remove('colab-df-spinner');\n",
              "      quickchartButtonEl.classList.add('colab-df-quickchart-complete');\n",
              "    }\n",
              "    (() => {\n",
              "      let quickchartButtonEl =\n",
              "        document.querySelector('#df-76c38b19-8819-4f2b-a63e-910a1b591f9e button');\n",
              "      quickchartButtonEl.style.display =\n",
              "        google.colab.kernel.accessAllowed ? 'block' : 'none';\n",
              "    })();\n",
              "  </script>\n",
              "</div>\n",
              "\n",
              "    </div>\n",
              "  </div>\n"
            ],
            "application/vnd.google.colaboratory.intrinsic+json": {
              "type": "dataframe",
              "variable_name": "df",
              "summary": "{\n  \"name\": \"df\",\n  \"rows\": 5891,\n  \"fields\": [\n    {\n      \"column\": \"preco\",\n      \"properties\": {\n        \"dtype\": \"number\",\n        \"std\": 638305,\n        \"min\": 196458,\n        \"max\": 3515040,\n        \"num_unique_values\": 949,\n        \"samples\": [\n          2389380,\n          1340706,\n          1213272\n        ],\n        \"semantic_type\": \"\",\n        \"description\": \"\"\n      }\n    },\n    {\n      \"column\": \"ano_construcao\",\n      \"properties\": {\n        \"dtype\": \"number\",\n        \"std\": 8,\n        \"min\": 1978,\n        \"max\": 2015,\n        \"num_unique_values\": 16,\n        \"samples\": [\n          2006,\n          1985,\n          2007\n        ],\n        \"semantic_type\": \"\",\n        \"description\": \"\"\n      }\n    },\n    {\n      \"column\": \"ano_Venda\",\n      \"properties\": {\n        \"dtype\": \"number\",\n        \"std\": 2,\n        \"min\": 2007,\n        \"max\": 2017,\n        \"num_unique_values\": 11,\n        \"samples\": [\n          2012,\n          2007,\n          2016\n        ],\n        \"semantic_type\": \"\",\n        \"description\": \"\"\n      }\n    },\n    {\n      \"column\": \"m2\",\n      \"properties\": {\n        \"dtype\": \"number\",\n        \"std\": 35.53205767338231,\n        \"min\": 12.541905,\n        \"max\": 217.114311,\n        \"num_unique_values\": 92,\n        \"samples\": [\n          106.745547,\n          157.00607,\n          108.417801\n        ],\n        \"semantic_type\": \"\",\n        \"description\": \"\"\n      }\n    },\n    {\n      \"column\": \"andar\",\n      \"properties\": {\n        \"dtype\": \"number\",\n        \"std\": 7,\n        \"min\": 1,\n        \"max\": 43,\n        \"num_unique_values\": 43,\n        \"samples\": [\n          33,\n          22,\n          25\n        ],\n        \"semantic_type\": \"\",\n        \"description\": \"\"\n      }\n    },\n    {\n      \"column\": \"tipo_Aquecimento\",\n      \"properties\": {\n        \"dtype\": \"category\",\n        \"num_unique_values\": 2,\n        \"samples\": [\n          \"central\",\n          \"individual\"\n        ],\n        \"semantic_type\": \"\",\n        \"description\": \"\"\n      }\n    },\n    {\n      \"column\": \"tempo_ate_onibus\",\n      \"properties\": {\n        \"dtype\": \"category\",\n        \"num_unique_values\": 3,\n        \"samples\": [\n          \"5min~10min\",\n          \"0~5min\"\n        ],\n        \"semantic_type\": \"\",\n        \"description\": \"\"\n      }\n    },\n    {\n      \"column\": \"tempo_ate_metro\",\n      \"properties\": {\n        \"dtype\": \"category\",\n        \"num_unique_values\": 5,\n        \"samples\": [\n          \"5min~10min\",\n          \"no_bus_stop_nearby\"\n        ],\n        \"semantic_type\": \"\",\n        \"description\": \"\"\n      }\n    },\n    {\n      \"column\": \"qtde_elevadores\",\n      \"properties\": {\n        \"dtype\": \"number\",\n        \"std\": 7,\n        \"min\": 0,\n        \"max\": 27,\n        \"num_unique_values\": 13,\n        \"samples\": [\n          12,\n          5\n        ],\n        \"semantic_type\": \"\",\n        \"description\": \"\"\n      }\n    },\n    {\n      \"column\": \"qtde_escritorios_publicos_perto\",\n      \"properties\": {\n        \"dtype\": \"number\",\n        \"std\": 1,\n        \"min\": 0,\n        \"max\": 7,\n        \"num_unique_values\": 8,\n        \"samples\": [\n          5,\n          3\n        ],\n        \"semantic_type\": \"\",\n        \"description\": \"\"\n      }\n    },\n    {\n      \"column\": \"qtde_hospitais_perto\",\n      \"properties\": {\n        \"dtype\": \"number\",\n        \"std\": 0,\n        \"min\": 0,\n        \"max\": 2,\n        \"num_unique_values\": 3,\n        \"samples\": [\n          1,\n          2\n        ],\n        \"semantic_type\": \"\",\n        \"description\": \"\"\n      }\n    },\n    {\n      \"column\": \"qtde_lojas_departamento_perto\",\n      \"properties\": {\n        \"dtype\": \"number\",\n        \"std\": 0,\n        \"min\": 0,\n        \"max\": 2,\n        \"num_unique_values\": 3,\n        \"samples\": [\n          1,\n          2\n        ],\n        \"semantic_type\": \"\",\n        \"description\": \"\"\n      }\n    },\n    {\n      \"column\": \"qtde_shoppings_perto\",\n      \"properties\": {\n        \"dtype\": \"number\",\n        \"std\": 0,\n        \"min\": 0,\n        \"max\": 2,\n        \"num_unique_values\": 3,\n        \"samples\": [\n          1,\n          0\n        ],\n        \"semantic_type\": \"\",\n        \"description\": \"\"\n      }\n    },\n    {\n      \"column\": \"qtde_estacionamentos_perto\",\n      \"properties\": {\n        \"dtype\": \"number\",\n        \"std\": 0,\n        \"min\": 0,\n        \"max\": 2,\n        \"num_unique_values\": 3,\n        \"samples\": [\n          0,\n          1\n        ],\n        \"semantic_type\": \"\",\n        \"description\": \"\"\n      }\n    },\n    {\n      \"column\": \"qtde_escolas_fundamental1_perto\",\n      \"properties\": {\n        \"dtype\": \"number\",\n        \"std\": 0,\n        \"min\": 0,\n        \"max\": 6,\n        \"num_unique_values\": 5,\n        \"samples\": [\n          2,\n          0\n        ],\n        \"semantic_type\": \"\",\n        \"description\": \"\"\n      }\n    },\n    {\n      \"column\": \"qtde_escolas_fundamental2_perto\",\n      \"properties\": {\n        \"dtype\": \"number\",\n        \"std\": 1,\n        \"min\": 0,\n        \"max\": 4,\n        \"num_unique_values\": 5,\n        \"samples\": [\n          1,\n          4\n        ],\n        \"semantic_type\": \"\",\n        \"description\": \"\"\n      }\n    },\n    {\n      \"column\": \"qtde_escolas_medio_perto\",\n      \"properties\": {\n        \"dtype\": \"number\",\n        \"std\": 1,\n        \"min\": 0,\n        \"max\": 5,\n        \"num_unique_values\": 6,\n        \"samples\": [\n          2,\n          1\n        ],\n        \"semantic_type\": \"\",\n        \"description\": \"\"\n      }\n    },\n    {\n      \"column\": \"qtde_universidades_perto\",\n      \"properties\": {\n        \"dtype\": \"number\",\n        \"std\": 1,\n        \"min\": 0,\n        \"max\": 5,\n        \"num_unique_values\": 6,\n        \"samples\": [\n          2,\n          0\n        ],\n        \"semantic_type\": \"\",\n        \"description\": \"\"\n      }\n    }\n  ]\n}"
            }
          },
          "metadata": {},
          "execution_count": 20
        }
      ],
      "source": [
        "# Importar os dados\n",
        "\n",
        "df = pd.read_excel('/content/drive/MyDrive/Colab Notebooks/dataset_precos_apartamentos.xlsx')\n",
        "df.head()"
      ]
    },
    {
      "cell_type": "code",
      "execution_count": null,
      "metadata": {
        "id": "j6T3etwMDMcd"
      },
      "outputs": [],
      "source": [
        "# Vamos condensar algumas variáveis em uma única\n",
        "df['qtde_servicos'] = df['qtde_hospitais_perto'] + \\\n",
        "                      df['qtde_lojas_departamento_perto'] + \\\n",
        "                      df['qtde_escritorios_publicos_perto'] + \\\n",
        "                      df['qtde_escolas_fundamental1_perto'] + \\\n",
        "                      df['qtde_escolas_fundamental2_perto'] + \\\n",
        "                      df['qtde_escolas_medio_perto'] + \\\n",
        "                      df['qtde_universidades_perto']\n",
        "\n",
        "# excluindo as variáveis originais do DataFrame\n",
        "df.drop(['qtde_hospitais_perto','qtde_lojas_departamento_perto',\n",
        "         'qtde_escritorios_publicos_perto','qtde_escolas_fundamental1_perto',\n",
        "         'qtde_escolas_fundamental2_perto','qtde_escolas_medio_perto',\n",
        "         'qtde_universidades_perto'],\n",
        "        axis=1, inplace=True)"
      ]
    },
    {
      "cell_type": "code",
      "execution_count": null,
      "metadata": {
        "colab": {
          "base_uri": "https://localhost:8080/",
          "height": 206
        },
        "id": "qfvV2oIiFGcu",
        "outputId": "f3efee7e-9fa4-4566-fdf1-dc075fd5e1d1"
      },
      "outputs": [
        {
          "output_type": "execute_result",
          "data": {
            "text/plain": [
              "     preco  ano_construcao  ano_Venda          m2  andar tipo_Aquecimento  \\\n",
              "0   849552            2006       2007   75.623042      3       individual   \n",
              "1   307962            1985       2007   54.534061      8       individual   \n",
              "2   292032            1985       2007   54.534061      6       individual   \n",
              "3  2283180            2006       2007  191.008568      8       individual   \n",
              "4  1327428            1993       2007  163.602183      3       individual   \n",
              "\n",
              "  tempo_ate_onibus tempo_ate_metro  qtde_elevadores  qtde_servicos  \\\n",
              "0       5min~10min     10min~15min                0             13   \n",
              "1           0~5min      5min~10min                2             12   \n",
              "2           0~5min      5min~10min                2             12   \n",
              "3           0~5min          0-5min               11              9   \n",
              "4           0~5min     15min~20min               20             25   \n",
              "\n",
              "   qtde_conveniencia  \n",
              "0                  1  \n",
              "1                  2  \n",
              "2                  2  \n",
              "3                  1  \n",
              "4                  1  "
            ],
            "text/html": [
              "\n",
              "  <div id=\"df-d774e56d-0db2-4aa3-b471-f5e65b493330\" class=\"colab-df-container\">\n",
              "    <div>\n",
              "<style scoped>\n",
              "    .dataframe tbody tr th:only-of-type {\n",
              "        vertical-align: middle;\n",
              "    }\n",
              "\n",
              "    .dataframe tbody tr th {\n",
              "        vertical-align: top;\n",
              "    }\n",
              "\n",
              "    .dataframe thead th {\n",
              "        text-align: right;\n",
              "    }\n",
              "</style>\n",
              "<table border=\"1\" class=\"dataframe\">\n",
              "  <thead>\n",
              "    <tr style=\"text-align: right;\">\n",
              "      <th></th>\n",
              "      <th>preco</th>\n",
              "      <th>ano_construcao</th>\n",
              "      <th>ano_Venda</th>\n",
              "      <th>m2</th>\n",
              "      <th>andar</th>\n",
              "      <th>tipo_Aquecimento</th>\n",
              "      <th>tempo_ate_onibus</th>\n",
              "      <th>tempo_ate_metro</th>\n",
              "      <th>qtde_elevadores</th>\n",
              "      <th>qtde_servicos</th>\n",
              "      <th>qtde_conveniencia</th>\n",
              "    </tr>\n",
              "  </thead>\n",
              "  <tbody>\n",
              "    <tr>\n",
              "      <th>0</th>\n",
              "      <td>849552</td>\n",
              "      <td>2006</td>\n",
              "      <td>2007</td>\n",
              "      <td>75.623042</td>\n",
              "      <td>3</td>\n",
              "      <td>individual</td>\n",
              "      <td>5min~10min</td>\n",
              "      <td>10min~15min</td>\n",
              "      <td>0</td>\n",
              "      <td>13</td>\n",
              "      <td>1</td>\n",
              "    </tr>\n",
              "    <tr>\n",
              "      <th>1</th>\n",
              "      <td>307962</td>\n",
              "      <td>1985</td>\n",
              "      <td>2007</td>\n",
              "      <td>54.534061</td>\n",
              "      <td>8</td>\n",
              "      <td>individual</td>\n",
              "      <td>0~5min</td>\n",
              "      <td>5min~10min</td>\n",
              "      <td>2</td>\n",
              "      <td>12</td>\n",
              "      <td>2</td>\n",
              "    </tr>\n",
              "    <tr>\n",
              "      <th>2</th>\n",
              "      <td>292032</td>\n",
              "      <td>1985</td>\n",
              "      <td>2007</td>\n",
              "      <td>54.534061</td>\n",
              "      <td>6</td>\n",
              "      <td>individual</td>\n",
              "      <td>0~5min</td>\n",
              "      <td>5min~10min</td>\n",
              "      <td>2</td>\n",
              "      <td>12</td>\n",
              "      <td>2</td>\n",
              "    </tr>\n",
              "    <tr>\n",
              "      <th>3</th>\n",
              "      <td>2283180</td>\n",
              "      <td>2006</td>\n",
              "      <td>2007</td>\n",
              "      <td>191.008568</td>\n",
              "      <td>8</td>\n",
              "      <td>individual</td>\n",
              "      <td>0~5min</td>\n",
              "      <td>0-5min</td>\n",
              "      <td>11</td>\n",
              "      <td>9</td>\n",
              "      <td>1</td>\n",
              "    </tr>\n",
              "    <tr>\n",
              "      <th>4</th>\n",
              "      <td>1327428</td>\n",
              "      <td>1993</td>\n",
              "      <td>2007</td>\n",
              "      <td>163.602183</td>\n",
              "      <td>3</td>\n",
              "      <td>individual</td>\n",
              "      <td>0~5min</td>\n",
              "      <td>15min~20min</td>\n",
              "      <td>20</td>\n",
              "      <td>25</td>\n",
              "      <td>1</td>\n",
              "    </tr>\n",
              "  </tbody>\n",
              "</table>\n",
              "</div>\n",
              "    <div class=\"colab-df-buttons\">\n",
              "\n",
              "  <div class=\"colab-df-container\">\n",
              "    <button class=\"colab-df-convert\" onclick=\"convertToInteractive('df-d774e56d-0db2-4aa3-b471-f5e65b493330')\"\n",
              "            title=\"Convert this dataframe to an interactive table.\"\n",
              "            style=\"display:none;\">\n",
              "\n",
              "  <svg xmlns=\"http://www.w3.org/2000/svg\" height=\"24px\" viewBox=\"0 -960 960 960\">\n",
              "    <path d=\"M120-120v-720h720v720H120Zm60-500h600v-160H180v160Zm220 220h160v-160H400v160Zm0 220h160v-160H400v160ZM180-400h160v-160H180v160Zm440 0h160v-160H620v160ZM180-180h160v-160H180v160Zm440 0h160v-160H620v160Z\"/>\n",
              "  </svg>\n",
              "    </button>\n",
              "\n",
              "  <style>\n",
              "    .colab-df-container {\n",
              "      display:flex;\n",
              "      gap: 12px;\n",
              "    }\n",
              "\n",
              "    .colab-df-convert {\n",
              "      background-color: #E8F0FE;\n",
              "      border: none;\n",
              "      border-radius: 50%;\n",
              "      cursor: pointer;\n",
              "      display: none;\n",
              "      fill: #1967D2;\n",
              "      height: 32px;\n",
              "      padding: 0 0 0 0;\n",
              "      width: 32px;\n",
              "    }\n",
              "\n",
              "    .colab-df-convert:hover {\n",
              "      background-color: #E2EBFA;\n",
              "      box-shadow: 0px 1px 2px rgba(60, 64, 67, 0.3), 0px 1px 3px 1px rgba(60, 64, 67, 0.15);\n",
              "      fill: #174EA6;\n",
              "    }\n",
              "\n",
              "    .colab-df-buttons div {\n",
              "      margin-bottom: 4px;\n",
              "    }\n",
              "\n",
              "    [theme=dark] .colab-df-convert {\n",
              "      background-color: #3B4455;\n",
              "      fill: #D2E3FC;\n",
              "    }\n",
              "\n",
              "    [theme=dark] .colab-df-convert:hover {\n",
              "      background-color: #434B5C;\n",
              "      box-shadow: 0px 1px 3px 1px rgba(0, 0, 0, 0.15);\n",
              "      filter: drop-shadow(0px 1px 2px rgba(0, 0, 0, 0.3));\n",
              "      fill: #FFFFFF;\n",
              "    }\n",
              "  </style>\n",
              "\n",
              "    <script>\n",
              "      const buttonEl =\n",
              "        document.querySelector('#df-d774e56d-0db2-4aa3-b471-f5e65b493330 button.colab-df-convert');\n",
              "      buttonEl.style.display =\n",
              "        google.colab.kernel.accessAllowed ? 'block' : 'none';\n",
              "\n",
              "      async function convertToInteractive(key) {\n",
              "        const element = document.querySelector('#df-d774e56d-0db2-4aa3-b471-f5e65b493330');\n",
              "        const dataTable =\n",
              "          await google.colab.kernel.invokeFunction('convertToInteractive',\n",
              "                                                    [key], {});\n",
              "        if (!dataTable) return;\n",
              "\n",
              "        const docLinkHtml = 'Like what you see? Visit the ' +\n",
              "          '<a target=\"_blank\" href=https://colab.research.google.com/notebooks/data_table.ipynb>data table notebook</a>'\n",
              "          + ' to learn more about interactive tables.';\n",
              "        element.innerHTML = '';\n",
              "        dataTable['output_type'] = 'display_data';\n",
              "        await google.colab.output.renderOutput(dataTable, element);\n",
              "        const docLink = document.createElement('div');\n",
              "        docLink.innerHTML = docLinkHtml;\n",
              "        element.appendChild(docLink);\n",
              "      }\n",
              "    </script>\n",
              "  </div>\n",
              "\n",
              "\n",
              "<div id=\"df-08ed85ab-b9f2-4eb5-b2c2-1453ae9835bf\">\n",
              "  <button class=\"colab-df-quickchart\" onclick=\"quickchart('df-08ed85ab-b9f2-4eb5-b2c2-1453ae9835bf')\"\n",
              "            title=\"Suggest charts\"\n",
              "            style=\"display:none;\">\n",
              "\n",
              "<svg xmlns=\"http://www.w3.org/2000/svg\" height=\"24px\"viewBox=\"0 0 24 24\"\n",
              "     width=\"24px\">\n",
              "    <g>\n",
              "        <path d=\"M19 3H5c-1.1 0-2 .9-2 2v14c0 1.1.9 2 2 2h14c1.1 0 2-.9 2-2V5c0-1.1-.9-2-2-2zM9 17H7v-7h2v7zm4 0h-2V7h2v10zm4 0h-2v-4h2v4z\"/>\n",
              "    </g>\n",
              "</svg>\n",
              "  </button>\n",
              "\n",
              "<style>\n",
              "  .colab-df-quickchart {\n",
              "      --bg-color: #E8F0FE;\n",
              "      --fill-color: #1967D2;\n",
              "      --hover-bg-color: #E2EBFA;\n",
              "      --hover-fill-color: #174EA6;\n",
              "      --disabled-fill-color: #AAA;\n",
              "      --disabled-bg-color: #DDD;\n",
              "  }\n",
              "\n",
              "  [theme=dark] .colab-df-quickchart {\n",
              "      --bg-color: #3B4455;\n",
              "      --fill-color: #D2E3FC;\n",
              "      --hover-bg-color: #434B5C;\n",
              "      --hover-fill-color: #FFFFFF;\n",
              "      --disabled-bg-color: #3B4455;\n",
              "      --disabled-fill-color: #666;\n",
              "  }\n",
              "\n",
              "  .colab-df-quickchart {\n",
              "    background-color: var(--bg-color);\n",
              "    border: none;\n",
              "    border-radius: 50%;\n",
              "    cursor: pointer;\n",
              "    display: none;\n",
              "    fill: var(--fill-color);\n",
              "    height: 32px;\n",
              "    padding: 0;\n",
              "    width: 32px;\n",
              "  }\n",
              "\n",
              "  .colab-df-quickchart:hover {\n",
              "    background-color: var(--hover-bg-color);\n",
              "    box-shadow: 0 1px 2px rgba(60, 64, 67, 0.3), 0 1px 3px 1px rgba(60, 64, 67, 0.15);\n",
              "    fill: var(--button-hover-fill-color);\n",
              "  }\n",
              "\n",
              "  .colab-df-quickchart-complete:disabled,\n",
              "  .colab-df-quickchart-complete:disabled:hover {\n",
              "    background-color: var(--disabled-bg-color);\n",
              "    fill: var(--disabled-fill-color);\n",
              "    box-shadow: none;\n",
              "  }\n",
              "\n",
              "  .colab-df-spinner {\n",
              "    border: 2px solid var(--fill-color);\n",
              "    border-color: transparent;\n",
              "    border-bottom-color: var(--fill-color);\n",
              "    animation:\n",
              "      spin 1s steps(1) infinite;\n",
              "  }\n",
              "\n",
              "  @keyframes spin {\n",
              "    0% {\n",
              "      border-color: transparent;\n",
              "      border-bottom-color: var(--fill-color);\n",
              "      border-left-color: var(--fill-color);\n",
              "    }\n",
              "    20% {\n",
              "      border-color: transparent;\n",
              "      border-left-color: var(--fill-color);\n",
              "      border-top-color: var(--fill-color);\n",
              "    }\n",
              "    30% {\n",
              "      border-color: transparent;\n",
              "      border-left-color: var(--fill-color);\n",
              "      border-top-color: var(--fill-color);\n",
              "      border-right-color: var(--fill-color);\n",
              "    }\n",
              "    40% {\n",
              "      border-color: transparent;\n",
              "      border-right-color: var(--fill-color);\n",
              "      border-top-color: var(--fill-color);\n",
              "    }\n",
              "    60% {\n",
              "      border-color: transparent;\n",
              "      border-right-color: var(--fill-color);\n",
              "    }\n",
              "    80% {\n",
              "      border-color: transparent;\n",
              "      border-right-color: var(--fill-color);\n",
              "      border-bottom-color: var(--fill-color);\n",
              "    }\n",
              "    90% {\n",
              "      border-color: transparent;\n",
              "      border-bottom-color: var(--fill-color);\n",
              "    }\n",
              "  }\n",
              "</style>\n",
              "\n",
              "  <script>\n",
              "    async function quickchart(key) {\n",
              "      const quickchartButtonEl =\n",
              "        document.querySelector('#' + key + ' button');\n",
              "      quickchartButtonEl.disabled = true;  // To prevent multiple clicks.\n",
              "      quickchartButtonEl.classList.add('colab-df-spinner');\n",
              "      try {\n",
              "        const charts = await google.colab.kernel.invokeFunction(\n",
              "            'suggestCharts', [key], {});\n",
              "      } catch (error) {\n",
              "        console.error('Error during call to suggestCharts:', error);\n",
              "      }\n",
              "      quickchartButtonEl.classList.remove('colab-df-spinner');\n",
              "      quickchartButtonEl.classList.add('colab-df-quickchart-complete');\n",
              "    }\n",
              "    (() => {\n",
              "      let quickchartButtonEl =\n",
              "        document.querySelector('#df-08ed85ab-b9f2-4eb5-b2c2-1453ae9835bf button');\n",
              "      quickchartButtonEl.style.display =\n",
              "        google.colab.kernel.accessAllowed ? 'block' : 'none';\n",
              "    })();\n",
              "  </script>\n",
              "</div>\n",
              "\n",
              "    </div>\n",
              "  </div>\n"
            ],
            "application/vnd.google.colaboratory.intrinsic+json": {
              "type": "dataframe",
              "variable_name": "df",
              "summary": "{\n  \"name\": \"df\",\n  \"rows\": 5891,\n  \"fields\": [\n    {\n      \"column\": \"preco\",\n      \"properties\": {\n        \"dtype\": \"number\",\n        \"std\": 638305,\n        \"min\": 196458,\n        \"max\": 3515040,\n        \"num_unique_values\": 949,\n        \"samples\": [\n          2389380,\n          1340706,\n          1213272\n        ],\n        \"semantic_type\": \"\",\n        \"description\": \"\"\n      }\n    },\n    {\n      \"column\": \"ano_construcao\",\n      \"properties\": {\n        \"dtype\": \"number\",\n        \"std\": 8,\n        \"min\": 1978,\n        \"max\": 2015,\n        \"num_unique_values\": 16,\n        \"samples\": [\n          2006,\n          1985,\n          2007\n        ],\n        \"semantic_type\": \"\",\n        \"description\": \"\"\n      }\n    },\n    {\n      \"column\": \"ano_Venda\",\n      \"properties\": {\n        \"dtype\": \"number\",\n        \"std\": 2,\n        \"min\": 2007,\n        \"max\": 2017,\n        \"num_unique_values\": 11,\n        \"samples\": [\n          2012,\n          2007,\n          2016\n        ],\n        \"semantic_type\": \"\",\n        \"description\": \"\"\n      }\n    },\n    {\n      \"column\": \"m2\",\n      \"properties\": {\n        \"dtype\": \"number\",\n        \"std\": 35.53205767338231,\n        \"min\": 12.541905,\n        \"max\": 217.114311,\n        \"num_unique_values\": 92,\n        \"samples\": [\n          106.745547,\n          157.00607,\n          108.417801\n        ],\n        \"semantic_type\": \"\",\n        \"description\": \"\"\n      }\n    },\n    {\n      \"column\": \"andar\",\n      \"properties\": {\n        \"dtype\": \"number\",\n        \"std\": 7,\n        \"min\": 1,\n        \"max\": 43,\n        \"num_unique_values\": 43,\n        \"samples\": [\n          33,\n          22,\n          25\n        ],\n        \"semantic_type\": \"\",\n        \"description\": \"\"\n      }\n    },\n    {\n      \"column\": \"tipo_Aquecimento\",\n      \"properties\": {\n        \"dtype\": \"category\",\n        \"num_unique_values\": 2,\n        \"samples\": [\n          \"central\",\n          \"individual\"\n        ],\n        \"semantic_type\": \"\",\n        \"description\": \"\"\n      }\n    },\n    {\n      \"column\": \"tempo_ate_onibus\",\n      \"properties\": {\n        \"dtype\": \"category\",\n        \"num_unique_values\": 3,\n        \"samples\": [\n          \"5min~10min\",\n          \"0~5min\"\n        ],\n        \"semantic_type\": \"\",\n        \"description\": \"\"\n      }\n    },\n    {\n      \"column\": \"tempo_ate_metro\",\n      \"properties\": {\n        \"dtype\": \"category\",\n        \"num_unique_values\": 5,\n        \"samples\": [\n          \"5min~10min\",\n          \"no_bus_stop_nearby\"\n        ],\n        \"semantic_type\": \"\",\n        \"description\": \"\"\n      }\n    },\n    {\n      \"column\": \"qtde_elevadores\",\n      \"properties\": {\n        \"dtype\": \"number\",\n        \"std\": 7,\n        \"min\": 0,\n        \"max\": 27,\n        \"num_unique_values\": 13,\n        \"samples\": [\n          12,\n          5\n        ],\n        \"semantic_type\": \"\",\n        \"description\": \"\"\n      }\n    },\n    {\n      \"column\": \"qtde_servicos\",\n      \"properties\": {\n        \"dtype\": \"number\",\n        \"std\": 5,\n        \"min\": 0,\n        \"max\": 26,\n        \"num_unique_values\": 14,\n        \"samples\": [\n          14,\n          18\n        ],\n        \"semantic_type\": \"\",\n        \"description\": \"\"\n      }\n    },\n    {\n      \"column\": \"qtde_conveniencia\",\n      \"properties\": {\n        \"dtype\": \"number\",\n        \"std\": 0,\n        \"min\": 0,\n        \"max\": 3,\n        \"num_unique_values\": 4,\n        \"samples\": [\n          2,\n          0\n        ],\n        \"semantic_type\": \"\",\n        \"description\": \"\"\n      }\n    }\n  ]\n}"
            }
          },
          "metadata": {},
          "execution_count": 22
        }
      ],
      "source": [
        "# criando nova variável\n",
        "df['qtde_conveniencia'] = df['qtde_shoppings_perto'] + df['qtde_estacionamentos_perto']\n",
        "\n",
        "# excluindo variáveis do DataFrame\n",
        "df.drop(['qtde_shoppings_perto','qtde_estacionamentos_perto'],\n",
        "        axis=1, inplace=True)\n",
        "\n",
        "df.head()"
      ]
    },
    {
      "cell_type": "code",
      "execution_count": null,
      "metadata": {
        "id": "AmA0pXNAFGVk"
      },
      "outputs": [],
      "source": [
        "# aplicando One Hot Encoding à variável tipo_Aquecimento\n",
        "df_aux = pd.get_dummies(df['tipo_Aquecimento'], prefix='tipo_Aquecimento')\n",
        "df = pd.concat([df, df_aux], axis=1)\n",
        "df.drop(['tipo_Aquecimento', 'tipo_Aquecimento_central'], axis=1, inplace=True)"
      ]
    },
    {
      "cell_type": "code",
      "execution_count": null,
      "metadata": {
        "id": "Ta7KXcf2RFXL"
      },
      "outputs": [],
      "source": [
        "# aplicando One Hot Encoding à variável tempo_ate_onibus\n",
        "df_aux = pd.get_dummies(df['tempo_ate_onibus'], prefix='tempo_ate_onibus')\n",
        "df = pd.concat([df, df_aux], axis=1)\n",
        "df.drop(['tempo_ate_onibus', 'tempo_ate_onibus_10min~15min'], axis=1, inplace=True)"
      ]
    },
    {
      "cell_type": "code",
      "execution_count": null,
      "metadata": {
        "colab": {
          "base_uri": "https://localhost:8080/",
          "height": 243
        },
        "id": "EZjExHtUK0qZ",
        "outputId": "000071ac-94be-40b5-a3ed-362512556317"
      },
      "outputs": [
        {
          "output_type": "execute_result",
          "data": {
            "text/plain": [
              "     preco  ano_construcao  ano_Venda          m2  andar  qtde_elevadores  \\\n",
              "0   849552            2006       2007   75.623042      3                0   \n",
              "1   307962            1985       2007   54.534061      8                2   \n",
              "2   292032            1985       2007   54.534061      6                2   \n",
              "3  2283180            2006       2007  191.008568      8               11   \n",
              "4  1327428            1993       2007  163.602183      3               20   \n",
              "\n",
              "   qtde_servicos  qtde_conveniencia  tipo_Aquecimento_individual  \\\n",
              "0             13                  1                         True   \n",
              "1             12                  2                         True   \n",
              "2             12                  2                         True   \n",
              "3              9                  1                         True   \n",
              "4             25                  1                         True   \n",
              "\n",
              "   tempo_ate_onibus_0~5min  tempo_ate_onibus_5min~10min  \\\n",
              "0                    False                         True   \n",
              "1                     True                        False   \n",
              "2                     True                        False   \n",
              "3                     True                        False   \n",
              "4                     True                        False   \n",
              "\n",
              "   tempo_ate_metro_0-5min  tempo_ate_metro_10min~15min  \\\n",
              "0                   False                         True   \n",
              "1                   False                        False   \n",
              "2                   False                        False   \n",
              "3                    True                        False   \n",
              "4                   False                        False   \n",
              "\n",
              "   tempo_ate_metro_15min~20min  tempo_ate_metro_5min~10min  \n",
              "0                        False                       False  \n",
              "1                        False                        True  \n",
              "2                        False                        True  \n",
              "3                        False                       False  \n",
              "4                         True                       False  "
            ],
            "text/html": [
              "\n",
              "  <div id=\"df-45a774a4-c314-47d9-b5f7-41b8600218ed\" class=\"colab-df-container\">\n",
              "    <div>\n",
              "<style scoped>\n",
              "    .dataframe tbody tr th:only-of-type {\n",
              "        vertical-align: middle;\n",
              "    }\n",
              "\n",
              "    .dataframe tbody tr th {\n",
              "        vertical-align: top;\n",
              "    }\n",
              "\n",
              "    .dataframe thead th {\n",
              "        text-align: right;\n",
              "    }\n",
              "</style>\n",
              "<table border=\"1\" class=\"dataframe\">\n",
              "  <thead>\n",
              "    <tr style=\"text-align: right;\">\n",
              "      <th></th>\n",
              "      <th>preco</th>\n",
              "      <th>ano_construcao</th>\n",
              "      <th>ano_Venda</th>\n",
              "      <th>m2</th>\n",
              "      <th>andar</th>\n",
              "      <th>qtde_elevadores</th>\n",
              "      <th>qtde_servicos</th>\n",
              "      <th>qtde_conveniencia</th>\n",
              "      <th>tipo_Aquecimento_individual</th>\n",
              "      <th>tempo_ate_onibus_0~5min</th>\n",
              "      <th>tempo_ate_onibus_5min~10min</th>\n",
              "      <th>tempo_ate_metro_0-5min</th>\n",
              "      <th>tempo_ate_metro_10min~15min</th>\n",
              "      <th>tempo_ate_metro_15min~20min</th>\n",
              "      <th>tempo_ate_metro_5min~10min</th>\n",
              "    </tr>\n",
              "  </thead>\n",
              "  <tbody>\n",
              "    <tr>\n",
              "      <th>0</th>\n",
              "      <td>849552</td>\n",
              "      <td>2006</td>\n",
              "      <td>2007</td>\n",
              "      <td>75.623042</td>\n",
              "      <td>3</td>\n",
              "      <td>0</td>\n",
              "      <td>13</td>\n",
              "      <td>1</td>\n",
              "      <td>True</td>\n",
              "      <td>False</td>\n",
              "      <td>True</td>\n",
              "      <td>False</td>\n",
              "      <td>True</td>\n",
              "      <td>False</td>\n",
              "      <td>False</td>\n",
              "    </tr>\n",
              "    <tr>\n",
              "      <th>1</th>\n",
              "      <td>307962</td>\n",
              "      <td>1985</td>\n",
              "      <td>2007</td>\n",
              "      <td>54.534061</td>\n",
              "      <td>8</td>\n",
              "      <td>2</td>\n",
              "      <td>12</td>\n",
              "      <td>2</td>\n",
              "      <td>True</td>\n",
              "      <td>True</td>\n",
              "      <td>False</td>\n",
              "      <td>False</td>\n",
              "      <td>False</td>\n",
              "      <td>False</td>\n",
              "      <td>True</td>\n",
              "    </tr>\n",
              "    <tr>\n",
              "      <th>2</th>\n",
              "      <td>292032</td>\n",
              "      <td>1985</td>\n",
              "      <td>2007</td>\n",
              "      <td>54.534061</td>\n",
              "      <td>6</td>\n",
              "      <td>2</td>\n",
              "      <td>12</td>\n",
              "      <td>2</td>\n",
              "      <td>True</td>\n",
              "      <td>True</td>\n",
              "      <td>False</td>\n",
              "      <td>False</td>\n",
              "      <td>False</td>\n",
              "      <td>False</td>\n",
              "      <td>True</td>\n",
              "    </tr>\n",
              "    <tr>\n",
              "      <th>3</th>\n",
              "      <td>2283180</td>\n",
              "      <td>2006</td>\n",
              "      <td>2007</td>\n",
              "      <td>191.008568</td>\n",
              "      <td>8</td>\n",
              "      <td>11</td>\n",
              "      <td>9</td>\n",
              "      <td>1</td>\n",
              "      <td>True</td>\n",
              "      <td>True</td>\n",
              "      <td>False</td>\n",
              "      <td>True</td>\n",
              "      <td>False</td>\n",
              "      <td>False</td>\n",
              "      <td>False</td>\n",
              "    </tr>\n",
              "    <tr>\n",
              "      <th>4</th>\n",
              "      <td>1327428</td>\n",
              "      <td>1993</td>\n",
              "      <td>2007</td>\n",
              "      <td>163.602183</td>\n",
              "      <td>3</td>\n",
              "      <td>20</td>\n",
              "      <td>25</td>\n",
              "      <td>1</td>\n",
              "      <td>True</td>\n",
              "      <td>True</td>\n",
              "      <td>False</td>\n",
              "      <td>False</td>\n",
              "      <td>False</td>\n",
              "      <td>True</td>\n",
              "      <td>False</td>\n",
              "    </tr>\n",
              "  </tbody>\n",
              "</table>\n",
              "</div>\n",
              "    <div class=\"colab-df-buttons\">\n",
              "\n",
              "  <div class=\"colab-df-container\">\n",
              "    <button class=\"colab-df-convert\" onclick=\"convertToInteractive('df-45a774a4-c314-47d9-b5f7-41b8600218ed')\"\n",
              "            title=\"Convert this dataframe to an interactive table.\"\n",
              "            style=\"display:none;\">\n",
              "\n",
              "  <svg xmlns=\"http://www.w3.org/2000/svg\" height=\"24px\" viewBox=\"0 -960 960 960\">\n",
              "    <path d=\"M120-120v-720h720v720H120Zm60-500h600v-160H180v160Zm220 220h160v-160H400v160Zm0 220h160v-160H400v160ZM180-400h160v-160H180v160Zm440 0h160v-160H620v160ZM180-180h160v-160H180v160Zm440 0h160v-160H620v160Z\"/>\n",
              "  </svg>\n",
              "    </button>\n",
              "\n",
              "  <style>\n",
              "    .colab-df-container {\n",
              "      display:flex;\n",
              "      gap: 12px;\n",
              "    }\n",
              "\n",
              "    .colab-df-convert {\n",
              "      background-color: #E8F0FE;\n",
              "      border: none;\n",
              "      border-radius: 50%;\n",
              "      cursor: pointer;\n",
              "      display: none;\n",
              "      fill: #1967D2;\n",
              "      height: 32px;\n",
              "      padding: 0 0 0 0;\n",
              "      width: 32px;\n",
              "    }\n",
              "\n",
              "    .colab-df-convert:hover {\n",
              "      background-color: #E2EBFA;\n",
              "      box-shadow: 0px 1px 2px rgba(60, 64, 67, 0.3), 0px 1px 3px 1px rgba(60, 64, 67, 0.15);\n",
              "      fill: #174EA6;\n",
              "    }\n",
              "\n",
              "    .colab-df-buttons div {\n",
              "      margin-bottom: 4px;\n",
              "    }\n",
              "\n",
              "    [theme=dark] .colab-df-convert {\n",
              "      background-color: #3B4455;\n",
              "      fill: #D2E3FC;\n",
              "    }\n",
              "\n",
              "    [theme=dark] .colab-df-convert:hover {\n",
              "      background-color: #434B5C;\n",
              "      box-shadow: 0px 1px 3px 1px rgba(0, 0, 0, 0.15);\n",
              "      filter: drop-shadow(0px 1px 2px rgba(0, 0, 0, 0.3));\n",
              "      fill: #FFFFFF;\n",
              "    }\n",
              "  </style>\n",
              "\n",
              "    <script>\n",
              "      const buttonEl =\n",
              "        document.querySelector('#df-45a774a4-c314-47d9-b5f7-41b8600218ed button.colab-df-convert');\n",
              "      buttonEl.style.display =\n",
              "        google.colab.kernel.accessAllowed ? 'block' : 'none';\n",
              "\n",
              "      async function convertToInteractive(key) {\n",
              "        const element = document.querySelector('#df-45a774a4-c314-47d9-b5f7-41b8600218ed');\n",
              "        const dataTable =\n",
              "          await google.colab.kernel.invokeFunction('convertToInteractive',\n",
              "                                                    [key], {});\n",
              "        if (!dataTable) return;\n",
              "\n",
              "        const docLinkHtml = 'Like what you see? Visit the ' +\n",
              "          '<a target=\"_blank\" href=https://colab.research.google.com/notebooks/data_table.ipynb>data table notebook</a>'\n",
              "          + ' to learn more about interactive tables.';\n",
              "        element.innerHTML = '';\n",
              "        dataTable['output_type'] = 'display_data';\n",
              "        await google.colab.output.renderOutput(dataTable, element);\n",
              "        const docLink = document.createElement('div');\n",
              "        docLink.innerHTML = docLinkHtml;\n",
              "        element.appendChild(docLink);\n",
              "      }\n",
              "    </script>\n",
              "  </div>\n",
              "\n",
              "\n",
              "<div id=\"df-4731ddd1-4819-44af-a44b-61cc48a16e41\">\n",
              "  <button class=\"colab-df-quickchart\" onclick=\"quickchart('df-4731ddd1-4819-44af-a44b-61cc48a16e41')\"\n",
              "            title=\"Suggest charts\"\n",
              "            style=\"display:none;\">\n",
              "\n",
              "<svg xmlns=\"http://www.w3.org/2000/svg\" height=\"24px\"viewBox=\"0 0 24 24\"\n",
              "     width=\"24px\">\n",
              "    <g>\n",
              "        <path d=\"M19 3H5c-1.1 0-2 .9-2 2v14c0 1.1.9 2 2 2h14c1.1 0 2-.9 2-2V5c0-1.1-.9-2-2-2zM9 17H7v-7h2v7zm4 0h-2V7h2v10zm4 0h-2v-4h2v4z\"/>\n",
              "    </g>\n",
              "</svg>\n",
              "  </button>\n",
              "\n",
              "<style>\n",
              "  .colab-df-quickchart {\n",
              "      --bg-color: #E8F0FE;\n",
              "      --fill-color: #1967D2;\n",
              "      --hover-bg-color: #E2EBFA;\n",
              "      --hover-fill-color: #174EA6;\n",
              "      --disabled-fill-color: #AAA;\n",
              "      --disabled-bg-color: #DDD;\n",
              "  }\n",
              "\n",
              "  [theme=dark] .colab-df-quickchart {\n",
              "      --bg-color: #3B4455;\n",
              "      --fill-color: #D2E3FC;\n",
              "      --hover-bg-color: #434B5C;\n",
              "      --hover-fill-color: #FFFFFF;\n",
              "      --disabled-bg-color: #3B4455;\n",
              "      --disabled-fill-color: #666;\n",
              "  }\n",
              "\n",
              "  .colab-df-quickchart {\n",
              "    background-color: var(--bg-color);\n",
              "    border: none;\n",
              "    border-radius: 50%;\n",
              "    cursor: pointer;\n",
              "    display: none;\n",
              "    fill: var(--fill-color);\n",
              "    height: 32px;\n",
              "    padding: 0;\n",
              "    width: 32px;\n",
              "  }\n",
              "\n",
              "  .colab-df-quickchart:hover {\n",
              "    background-color: var(--hover-bg-color);\n",
              "    box-shadow: 0 1px 2px rgba(60, 64, 67, 0.3), 0 1px 3px 1px rgba(60, 64, 67, 0.15);\n",
              "    fill: var(--button-hover-fill-color);\n",
              "  }\n",
              "\n",
              "  .colab-df-quickchart-complete:disabled,\n",
              "  .colab-df-quickchart-complete:disabled:hover {\n",
              "    background-color: var(--disabled-bg-color);\n",
              "    fill: var(--disabled-fill-color);\n",
              "    box-shadow: none;\n",
              "  }\n",
              "\n",
              "  .colab-df-spinner {\n",
              "    border: 2px solid var(--fill-color);\n",
              "    border-color: transparent;\n",
              "    border-bottom-color: var(--fill-color);\n",
              "    animation:\n",
              "      spin 1s steps(1) infinite;\n",
              "  }\n",
              "\n",
              "  @keyframes spin {\n",
              "    0% {\n",
              "      border-color: transparent;\n",
              "      border-bottom-color: var(--fill-color);\n",
              "      border-left-color: var(--fill-color);\n",
              "    }\n",
              "    20% {\n",
              "      border-color: transparent;\n",
              "      border-left-color: var(--fill-color);\n",
              "      border-top-color: var(--fill-color);\n",
              "    }\n",
              "    30% {\n",
              "      border-color: transparent;\n",
              "      border-left-color: var(--fill-color);\n",
              "      border-top-color: var(--fill-color);\n",
              "      border-right-color: var(--fill-color);\n",
              "    }\n",
              "    40% {\n",
              "      border-color: transparent;\n",
              "      border-right-color: var(--fill-color);\n",
              "      border-top-color: var(--fill-color);\n",
              "    }\n",
              "    60% {\n",
              "      border-color: transparent;\n",
              "      border-right-color: var(--fill-color);\n",
              "    }\n",
              "    80% {\n",
              "      border-color: transparent;\n",
              "      border-right-color: var(--fill-color);\n",
              "      border-bottom-color: var(--fill-color);\n",
              "    }\n",
              "    90% {\n",
              "      border-color: transparent;\n",
              "      border-bottom-color: var(--fill-color);\n",
              "    }\n",
              "  }\n",
              "</style>\n",
              "\n",
              "  <script>\n",
              "    async function quickchart(key) {\n",
              "      const quickchartButtonEl =\n",
              "        document.querySelector('#' + key + ' button');\n",
              "      quickchartButtonEl.disabled = true;  // To prevent multiple clicks.\n",
              "      quickchartButtonEl.classList.add('colab-df-spinner');\n",
              "      try {\n",
              "        const charts = await google.colab.kernel.invokeFunction(\n",
              "            'suggestCharts', [key], {});\n",
              "      } catch (error) {\n",
              "        console.error('Error during call to suggestCharts:', error);\n",
              "      }\n",
              "      quickchartButtonEl.classList.remove('colab-df-spinner');\n",
              "      quickchartButtonEl.classList.add('colab-df-quickchart-complete');\n",
              "    }\n",
              "    (() => {\n",
              "      let quickchartButtonEl =\n",
              "        document.querySelector('#df-4731ddd1-4819-44af-a44b-61cc48a16e41 button');\n",
              "      quickchartButtonEl.style.display =\n",
              "        google.colab.kernel.accessAllowed ? 'block' : 'none';\n",
              "    })();\n",
              "  </script>\n",
              "</div>\n",
              "\n",
              "    </div>\n",
              "  </div>\n"
            ],
            "application/vnd.google.colaboratory.intrinsic+json": {
              "type": "dataframe",
              "variable_name": "df",
              "summary": "{\n  \"name\": \"df\",\n  \"rows\": 5891,\n  \"fields\": [\n    {\n      \"column\": \"preco\",\n      \"properties\": {\n        \"dtype\": \"number\",\n        \"std\": 638305,\n        \"min\": 196458,\n        \"max\": 3515040,\n        \"num_unique_values\": 949,\n        \"samples\": [\n          2389380,\n          1340706,\n          1213272\n        ],\n        \"semantic_type\": \"\",\n        \"description\": \"\"\n      }\n    },\n    {\n      \"column\": \"ano_construcao\",\n      \"properties\": {\n        \"dtype\": \"number\",\n        \"std\": 8,\n        \"min\": 1978,\n        \"max\": 2015,\n        \"num_unique_values\": 16,\n        \"samples\": [\n          2006,\n          1985,\n          2007\n        ],\n        \"semantic_type\": \"\",\n        \"description\": \"\"\n      }\n    },\n    {\n      \"column\": \"ano_Venda\",\n      \"properties\": {\n        \"dtype\": \"number\",\n        \"std\": 2,\n        \"min\": 2007,\n        \"max\": 2017,\n        \"num_unique_values\": 11,\n        \"samples\": [\n          2012,\n          2007,\n          2016\n        ],\n        \"semantic_type\": \"\",\n        \"description\": \"\"\n      }\n    },\n    {\n      \"column\": \"m2\",\n      \"properties\": {\n        \"dtype\": \"number\",\n        \"std\": 35.53205767338231,\n        \"min\": 12.541905,\n        \"max\": 217.114311,\n        \"num_unique_values\": 92,\n        \"samples\": [\n          106.745547,\n          157.00607,\n          108.417801\n        ],\n        \"semantic_type\": \"\",\n        \"description\": \"\"\n      }\n    },\n    {\n      \"column\": \"andar\",\n      \"properties\": {\n        \"dtype\": \"number\",\n        \"std\": 7,\n        \"min\": 1,\n        \"max\": 43,\n        \"num_unique_values\": 43,\n        \"samples\": [\n          33,\n          22,\n          25\n        ],\n        \"semantic_type\": \"\",\n        \"description\": \"\"\n      }\n    },\n    {\n      \"column\": \"qtde_elevadores\",\n      \"properties\": {\n        \"dtype\": \"number\",\n        \"std\": 7,\n        \"min\": 0,\n        \"max\": 27,\n        \"num_unique_values\": 13,\n        \"samples\": [\n          12,\n          5,\n          0\n        ],\n        \"semantic_type\": \"\",\n        \"description\": \"\"\n      }\n    },\n    {\n      \"column\": \"qtde_servicos\",\n      \"properties\": {\n        \"dtype\": \"number\",\n        \"std\": 5,\n        \"min\": 0,\n        \"max\": 26,\n        \"num_unique_values\": 14,\n        \"samples\": [\n          14,\n          18,\n          13\n        ],\n        \"semantic_type\": \"\",\n        \"description\": \"\"\n      }\n    },\n    {\n      \"column\": \"qtde_conveniencia\",\n      \"properties\": {\n        \"dtype\": \"number\",\n        \"std\": 0,\n        \"min\": 0,\n        \"max\": 3,\n        \"num_unique_values\": 4,\n        \"samples\": [\n          2,\n          0,\n          1\n        ],\n        \"semantic_type\": \"\",\n        \"description\": \"\"\n      }\n    },\n    {\n      \"column\": \"tipo_Aquecimento_individual\",\n      \"properties\": {\n        \"dtype\": \"boolean\",\n        \"num_unique_values\": 2,\n        \"samples\": [\n          false,\n          true\n        ],\n        \"semantic_type\": \"\",\n        \"description\": \"\"\n      }\n    },\n    {\n      \"column\": \"tempo_ate_onibus_0~5min\",\n      \"properties\": {\n        \"dtype\": \"boolean\",\n        \"num_unique_values\": 2,\n        \"samples\": [\n          true,\n          false\n        ],\n        \"semantic_type\": \"\",\n        \"description\": \"\"\n      }\n    },\n    {\n      \"column\": \"tempo_ate_onibus_5min~10min\",\n      \"properties\": {\n        \"dtype\": \"boolean\",\n        \"num_unique_values\": 2,\n        \"samples\": [\n          false,\n          true\n        ],\n        \"semantic_type\": \"\",\n        \"description\": \"\"\n      }\n    },\n    {\n      \"column\": \"tempo_ate_metro_0-5min\",\n      \"properties\": {\n        \"dtype\": \"boolean\",\n        \"num_unique_values\": 2,\n        \"samples\": [\n          true,\n          false\n        ],\n        \"semantic_type\": \"\",\n        \"description\": \"\"\n      }\n    },\n    {\n      \"column\": \"tempo_ate_metro_10min~15min\",\n      \"properties\": {\n        \"dtype\": \"boolean\",\n        \"num_unique_values\": 2,\n        \"samples\": [\n          false,\n          true\n        ],\n        \"semantic_type\": \"\",\n        \"description\": \"\"\n      }\n    },\n    {\n      \"column\": \"tempo_ate_metro_15min~20min\",\n      \"properties\": {\n        \"dtype\": \"boolean\",\n        \"num_unique_values\": 2,\n        \"samples\": [\n          true,\n          false\n        ],\n        \"semantic_type\": \"\",\n        \"description\": \"\"\n      }\n    },\n    {\n      \"column\": \"tempo_ate_metro_5min~10min\",\n      \"properties\": {\n        \"dtype\": \"boolean\",\n        \"num_unique_values\": 2,\n        \"samples\": [\n          true,\n          false\n        ],\n        \"semantic_type\": \"\",\n        \"description\": \"\"\n      }\n    }\n  ]\n}"
            }
          },
          "metadata": {},
          "execution_count": 25
        }
      ],
      "source": [
        "# aplicando One Hot Encoding à variável tempo_ate_metro\n",
        "df_aux = pd.get_dummies(df['tempo_ate_metro'], prefix='tempo_ate_metro')\n",
        "df = pd.concat([df, df_aux], axis=1)\n",
        "df.drop(['tempo_ate_metro', 'tempo_ate_metro_no_bus_stop_nearby'], axis=1, inplace=True)\n",
        "df.head()"
      ]
    },
    {
      "cell_type": "code",
      "execution_count": null,
      "metadata": {
        "id": "zXAy7GhbLxSw"
      },
      "outputs": [],
      "source": [
        "import statsmodels.api as sm\n",
        "from sklearn.preprocessing import StandardScaler\n",
        "\n",
        "# Separar as variáveis independentes X e a variável dependente y\n",
        "X = df.drop(columns=['preco'])\n",
        "y = df['preco']"
      ]
    },
    {
      "cell_type": "code",
      "execution_count": null,
      "metadata": {
        "colab": {
          "base_uri": "https://localhost:8080/"
        },
        "id": "egeeZp_wv_sY",
        "outputId": "8608dec8-d707-4ffc-bdf9-89eeceb3c556"
      },
      "outputs": [
        {
          "output_type": "stream",
          "name": "stdout",
          "text": [
            "                            OLS Regression Results                            \n",
            "==============================================================================\n",
            "Dep. Variable:                  preco   R-squared:                       0.827\n",
            "Model:                            OLS   Adj. R-squared:                  0.826\n",
            "Method:                 Least Squares   F-statistic:                     2000.\n",
            "Date:                Thu, 20 Jun 2024   Prob (F-statistic):               0.00\n",
            "Time:                        23:32:11   Log-Likelihood:                -81941.\n",
            "No. Observations:                5891   AIC:                         1.639e+05\n",
            "Df Residuals:                    5876   BIC:                         1.640e+05\n",
            "Df Model:                          14                                         \n",
            "Covariance Type:            nonrobust                                         \n",
            "==============================================================================\n",
            "                 coef    std err          t      P>|t|      [0.025      0.975]\n",
            "------------------------------------------------------------------------------\n",
            "const       1.327e+06   3467.684    382.765      0.000    1.32e+06    1.33e+06\n",
            "x1          1.317e+05   5881.733     22.395      0.000     1.2e+05    1.43e+05\n",
            "x2          2.075e+05   3810.495     54.462      0.000       2e+05    2.15e+05\n",
            "x3          4.018e+05   4357.498     92.216      0.000    3.93e+05     4.1e+05\n",
            "x4          6.776e+04   3762.151     18.012      0.000    6.04e+04    7.51e+04\n",
            "x5          7.918e+04   5928.957     13.354      0.000    6.76e+04    9.08e+04\n",
            "x6         -8.736e+04   5426.606    -16.099      0.000    -9.8e+04   -7.67e+04\n",
            "x7          5713.7873   4397.358      1.299      0.194   -2906.652    1.43e+04\n",
            "x8          6.704e+04   7258.207      9.236      0.000    5.28e+04    8.13e+04\n",
            "x9            2.7e+05   1.72e+04     15.720      0.000    2.36e+05    3.04e+05\n",
            "x10         2.577e+05   1.68e+04     15.315      0.000    2.25e+05    2.91e+05\n",
            "x11         7.402e+04   1.03e+04      7.181      0.000    5.38e+04    9.42e+04\n",
            "x12         4.995e+04   9766.901      5.114      0.000    3.08e+04    6.91e+04\n",
            "x13        -2.401e+04   9836.496     -2.441      0.015   -4.33e+04   -4730.843\n",
            "x14         5.963e+04   8851.371      6.737      0.000    4.23e+04     7.7e+04\n",
            "==============================================================================\n",
            "Omnibus:                      425.595   Durbin-Watson:                   0.977\n",
            "Prob(Omnibus):                  0.000   Jarque-Bera (JB):              776.354\n",
            "Skew:                          -0.523   Prob(JB):                    2.61e-169\n",
            "Kurtosis:                       4.438   Cond. No.                         12.5\n",
            "==============================================================================\n",
            "\n",
            "Notes:\n",
            "[1] Standard Errors assume that the covariance matrix of the errors is correctly specified.\n",
            "Resíduos: 0    124315.899915\n",
            "1     21408.544153\n",
            "2     23433.602597\n",
            "3     12938.409010\n",
            "4    -30325.935497\n",
            "Name: preco, dtype: float64\n"
          ]
        }
      ],
      "source": [
        "# Aplicar o StandardScaler em X\n",
        "scaler = StandardScaler()\n",
        "X_scaled = scaler.fit_transform(X)\n",
        "\n",
        "# Adicionar a constante ao modelo de regressão linear múltipla\n",
        "X_scaled = sm.add_constant(X_scaled)\n",
        "\n",
        "# Ajustar o modelo\n",
        "modelo2 = sm.OLS(y, X_scaled).fit()\n",
        "\n",
        "# Exibir os resultados\n",
        "print(modelo2.summary())\n",
        "\n",
        "# Prever valores para X\n",
        "y_pred2 = modelo2.predict(X_scaled)\n",
        "\n",
        "# Calcular os resíduos\n",
        "res2 = y - y_pred2\n",
        "\n",
        "# Exibir os resíduos\n",
        "print(\"Resíduos:\", res2.head())"
      ]
    },
    {
      "cell_type": "markdown",
      "metadata": {
        "id": "T9HfBnG6Phj_"
      },
      "source": [
        "## 6: Faça a previsão do preço de um apartamento com as seguinte características:\n",
        "* `ano_construcao = 2000`\n",
        "* `ano_Venda = 2003`\n",
        "* `m2 = 83`\n",
        "* `andar = 2`\n",
        "* `qtde_elevadores = 1`\n",
        "* `qtde_servicos = 4`\n",
        "* `qtde_conveniencia = 2`\n",
        "* `tipo_Aquecimento_individual = 1`\n",
        "* `tempo_ate_onibus_0~5min = 0`\n",
        "* `tempo_ate_onibus_5min~10min = 1`\n",
        "* `tempo_ate_metro_0-5min = 1`\n",
        "* `tempo_ate_metro_10min~15min = 0`\n",
        "* `tempo_ate_metro_15min~20min = 0`\n",
        "* `tempo_ate_metro_5min~10min = 0`"
      ]
    },
    {
      "cell_type": "code",
      "execution_count": null,
      "metadata": {
        "id": "BncdpN8VPwsa",
        "colab": {
          "base_uri": "https://localhost:8080/"
        },
        "outputId": "4416059f-3999-499a-db23-aa3d06f074d9"
      },
      "outputs": [
        {
          "output_type": "stream",
          "name": "stdout",
          "text": [
            "Dimensões dos novos dados escalados: (1, 14)\n",
            "Dimensões dos dados usados no modelo: (5891, 15)\n",
            "Previsão do preço do apartamento: 573001.4828198509\n"
          ]
        }
      ],
      "source": [
        "# Características fornecidas\n",
        "\n",
        "novos_dados = pd.DataFrame({\n",
        "    'ano_construcao': [2000],\n",
        "    'ano_Venda': [2003],\n",
        "    'm2': [83],\n",
        "    'andar': [2],\n",
        "    'qtde_elevadores': [1],\n",
        "    'qtde_servicos': [4],\n",
        "    'qtde_conveniencia': [1],\n",
        "    'tipo_Aquecimento_individual': [1],\n",
        "    'tempo_ate_onibus_0~5min': [0],\n",
        "    'tempo_ate_onibus_5min~10min': [1],\n",
        "    'tempo_ate_metro_0-5min': [1],\n",
        "    'tempo_ate_metro_10min~15min': [0],\n",
        "    'tempo_ate_metro_15min~20min': [0],\n",
        "    'tempo_ate_metro_5min~10min': [0]\n",
        "})\n",
        "\n",
        "# Aplicar o StandardScaler nos novos dados\n",
        "novos_dados_scaled = scaler.transform(novos_dados)\n",
        "\n",
        "# Verificar as dimensões\n",
        "print(f\"Dimensões dos novos dados escalados: {novos_dados_scaled.shape}\")\n",
        "print(f\"Dimensões dos dados usados no modelo: {X_scaled.shape}\")\n",
        "\n",
        "# Adicionar a constante aos novos dados escalados\n",
        "novos_dados_scaled = sm.add_constant(novos_dados_scaled, has_constant='add')\n",
        "\n",
        "# Prevendo o preço do apartamento\n",
        "previsao_preco = modelo2.predict(novos_dados_scaled)\n",
        "print(f\"Previsão do preço do apartamento: {previsao_preco[0]}\")"
      ]
    },
    {
      "cell_type": "markdown",
      "source": [
        "**Resposta**: Com as características fornecidas a previsão do preço do apartamento é de R$ 573.001,00.\n",
        "\n",
        "A remoção da variável independente x7 (qtde_servicos) impactou nos resultados de R-squared (diminuição pouco significante) e F-statistic (aumento pouco significante). Após a remoção da variável, foi verificado que o houve uma mudança considerável (-19,52%) no preço calculado para o apartamento. Por isso, a variável foi mantida no modelo, dado o seu alto impacto no resultado das previsões."
      ],
      "metadata": {
        "id": "mS2EO7g2AGZ-"
      }
    },
    {
      "cell_type": "markdown",
      "metadata": {
        "id": "mkNyzH3fUBhd"
      },
      "source": [
        "## 7: Verifique os pressupostos do modelo."
      ]
    },
    {
      "cell_type": "code",
      "execution_count": null,
      "metadata": {
        "id": "Fa82XrU4nhe4"
      },
      "outputs": [],
      "source": [
        "from statsmodels.stats.api import het_goldfeldquandt\n",
        "from scipy.stats import shapiro\n",
        "import scipy.stats as stats\n",
        "from statsmodels.stats.stattools import durbin_watson\n",
        "import matplotlib.pyplot as plt\n",
        "import seaborn as sns\n",
        "from statsmodels.stats.outliers_influence import variance_inflation_factor"
      ]
    },
    {
      "cell_type": "markdown",
      "metadata": {
        "id": "sdfaRE2zPEWA"
      },
      "source": [
        "Homocedasticidade dos Resíduos"
      ]
    },
    {
      "cell_type": "code",
      "execution_count": null,
      "metadata": {
        "id": "6qt7gRBJpG8G",
        "colab": {
          "base_uri": "https://localhost:8080/"
        },
        "outputId": "93360c65-7c73-40ca-fe87-4a351b29670c"
      },
      "outputs": [
        {
          "output_type": "stream",
          "name": "stdout",
          "text": [
            "Teste de Goldfeld-Quandt p-valor: 1.1901268230241252e-57\n"
          ]
        }
      ],
      "source": [
        "# Teste de Goldfeld-Quandt\n",
        "stat, p_valor, _ = het_goldfeldquandt(res2, X_scaled)\n",
        "print(f\"Teste de Goldfeld-Quandt p-valor: {p_valor}\")"
      ]
    },
    {
      "cell_type": "markdown",
      "source": [
        "**Resposta:** p-valor menor que 0.05, podemos rejeitar a hipótese nula. O resultado sugere fortemente a presença de heterocedasticidade nos resíduos do modelo. Sugestão: utilizar erros padrão robustos."
      ],
      "metadata": {
        "id": "pBE30RGdBX_z"
      }
    },
    {
      "cell_type": "markdown",
      "metadata": {
        "id": "V_ekgudIPJen"
      },
      "source": [
        "Normalidade dos Reíduos"
      ]
    },
    {
      "cell_type": "code",
      "execution_count": null,
      "metadata": {
        "id": "BV24IzV9pG6v",
        "colab": {
          "base_uri": "https://localhost:8080/",
          "height": 565
        },
        "outputId": "d75638d0-cd4b-4272-f2a3-cba10779721f"
      },
      "outputs": [
        {
          "output_type": "display_data",
          "data": {
            "text/plain": [
              "<Figure size 1000x600 with 1 Axes>"
            ],
            "image/png": "[encoded data removed]"
          },
          "metadata": {}
        }
      ],
      "source": [
        "# Histograma dos Resíduos\n",
        "plt.figure(figsize=(10, 6))\n",
        "sns.histplot(res2, kde=True)\n",
        "plt.title('Histograma dos Resíduos')\n",
        "plt.show()"
      ]
    },
    {
      "cell_type": "code",
      "source": [
        "stat, p_valor = stats.shapiro(res2)\n",
        "print(f\"Teste de Shapiro-Wilk p-valor: {p_valor}\")\n",
        "\n",
        "plt.figure(figsize=(6, 6))\n",
        "stats.probplot(res2, dist=\"norm\", plot=plt)\n",
        "plt.title('QQ-plot dos Resíduos')\n",
        "plt.show()"
      ],
      "metadata": {
        "colab": {
          "base_uri": "https://localhost:8080/",
          "height": 617
        },
        "id": "fM50JxZRBo48",
        "outputId": "2bc32431-f6b1-4c4b-a18b-4c6ed3bbef11"
      },
      "execution_count": null,
      "outputs": [
        {
          "output_type": "stream",
          "name": "stderr",
          "text": [
            "/usr/local/lib/python3.10/dist-packages/scipy/stats/_morestats.py:1882: UserWarning: p-value may not be accurate for N > 5000.\n",
            "  warnings.warn(\"p-value may not be accurate for N > 5000.\")\n"
          ]
        },
        {
          "output_type": "stream",
          "name": "stdout",
          "text": [
            "Teste de Shapiro-Wilk p-valor: 1.2338423639140534e-31\n"
          ]
        },
        {
          "output_type": "display_data",
          "data": {
            "text/plain": [
              "<Figure size 600x600 with 1 Axes>"
            ],
            "image/png": "[encoded data removed]"
          },
          "metadata": {}
        }
      ]
    },
    {
      "cell_type": "markdown",
      "source": [
        "**Resposta:**\n",
        "\n",
        "Teste de Shapiro-Wilk\n",
        "\n",
        "p-valor: 1.2338423639140534e-31\n",
        "Como o p-valor é menor que 0.05, rejeitamos a hipótese nula, indicando que os resíduos não seguem uma distribuição normal.\n",
        "\n",
        "Histograma dos Resíduos\n",
        "A distribuição dos resíduos aparenta ser aproximadamente normal, mas apresenta uma leve assimetria.\n",
        "\n",
        "QQ-Plot dos Resíduos\n",
        "O QQ-Plot mostra que os resíduos seguem razoavelmente uma linha reta, sugerindo uma distribuição aproximadamente normal, embora haja algumas discrepâncias nas extremidades.\n",
        "\n",
        "Embora o teste de Shapiro-Wilk indique que os resíduos não são normalmente distribuídos, isso não invalida o modelo. No entanto, é aconselhável ter cautela ao interpretar os resultados, especialmente no que diz respeito aos intervalos de confiança e testes de hipótese.\n",
        "\n",
        "Sugestão: Considerar o uso de erros padrão robustos."
      ],
      "metadata": {
        "id": "UigpZ1zHBtth"
      }
    },
    {
      "cell_type": "markdown",
      "metadata": {
        "id": "gTCwlrXaPQOQ"
      },
      "source": [
        "Autocorrelação dos Resíduos"
      ]
    },
    {
      "cell_type": "code",
      "execution_count": null,
      "metadata": {
        "id": "U1Ie1QclpG2i",
        "colab": {
          "base_uri": "https://localhost:8080/"
        },
        "outputId": "af076ff5-de73-40fa-9658-6969129cdd34"
      },
      "outputs": [
        {
          "output_type": "stream",
          "name": "stdout",
          "text": [
            "Estatística de Durbin-Watson: 0.9769517207167945\n"
          ]
        }
      ],
      "source": [
        "# Teste de Durbin-Watson\n",
        "dw_stat = durbin_watson(res2)\n",
        "print(f\"Estatística de Durbin-Watson: {dw_stat}\")"
      ]
    },
    {
      "cell_type": "markdown",
      "source": [
        "**Resposta:**\n",
        "Estatística de Durbin-Watson\n",
        "\n",
        "Valor obtido: 0.9769517207167945\n",
        "Esse valor indica a presença de autocorrelação positiva nos resíduos, o que pode ser uma preocupação para a validade do modelo.\n",
        "\n",
        "Foi realizado um teste que confirmou a existência de autocorrelação entre as variáveis de tempo até o ônibus.\n",
        "\n",
        "Remoção da Variável \"tempo_ate_onibus_5min~10min\"\n",
        "Um teste foi feito removendo essa variável do modelo. Embora essa remoção tenha ajudado a reduzir a multicolinearidade, ela afetou significativamente o desempenho do modelo na previsão de preços. Portanto, decidiu-se manter a variável no modelo.\n",
        "\n",
        "Conclusão\n",
        "A estatística de Durbin-Watson próxima de 1 sugere a presença de autocorrelação positiva nos resíduos do modelo, indicando que os resíduos sucessivos estão correlacionados. Isso pode comprometer a validade das inferências do modelo.\n",
        "\n",
        "Recomendações\n",
        "\n",
        "Incluir Variáveis de Tempo: Se os dados possuem uma ordem temporal, considerar a inclusão de variáveis de tempo ou defasagens.\n",
        "Modelos de Regressão com Erros Correlacionados: Utilizar modelos que ajustam diretamente a autocorrelação nos resíduos.\n",
        "Métodos de Estimação Robustos: Ajustar o modelo usando métodos robustos que considerem a autocorrelação.\n",
        "Documentar essas conclusões é importante para manter um registro claro dos achados e suas implicações no modelo."
      ],
      "metadata": {
        "id": "PqV-h99kCWOT"
      }
    },
    {
      "cell_type": "markdown",
      "metadata": {
        "id": "KdrxXcmDNS-I"
      },
      "source": [
        "Multicolinearidade"
      ]
    },
    {
      "cell_type": "markdown",
      "source": [
        "**Resposta:**\n",
        "\n",
        "Vamos utilizar os fatores de inflação de variância (Variance Inflation Factors - VIF) para verificar a presença de multicolinearidade entre as variáveis do modelo. Cada variável terá seu valor VIF calculado. As diretrizes são as seguintes:\n",
        "\n",
        "VIF > 10: Indica possíveis indícios de multicolinearidade.\n",
        "\n",
        "VIF > 100: Indica a presença certa de multicolinearidade.\n",
        "\n",
        "Procedimentos:\n",
        "\n",
        "1. Calcular o VIF para cada variável.\n",
        "2. Se alguma variável apresentar um valor VIF alto, considerar removê-la do modelo para melhorar a qualidade das estimativas.\n",
        "\n",
        "Estas etapas ajudarão a identificar e tratar problemas de multicolinearidade, garantindo um modelo mais robusto e confiável."
      ],
      "metadata": {
        "id": "_dP0MBgPF2N7"
      }
    },
    {
      "cell_type": "code",
      "execution_count": null,
      "metadata": {
        "id": "B-_WmbsMKMuK",
        "colab": {
          "base_uri": "https://localhost:8080/"
        },
        "outputId": "4d4dcd54-005d-4008-a829-d9b0becd28ff"
      },
      "outputs": [
        {
          "output_type": "stream",
          "name": "stdout",
          "text": [
            "   feature        VIF\n",
            "0    const   1.000000\n",
            "1       x1   2.876944\n",
            "2       x2   1.207490\n",
            "3       x3   1.579047\n",
            "4       x4   1.177046\n",
            "5       x5   2.923328\n",
            "6       x6   2.448936\n",
            "7       x7   1.608069\n",
            "8       x8   4.381064\n",
            "9       x9  24.535240\n",
            "10     x10  23.551550\n",
            "11     x11   8.837773\n",
            "12     x12   7.932945\n",
            "13     x13   8.046401\n",
            "14     x14   6.515413\n"
          ]
        }
      ],
      "source": [
        "# Supondo que você já tenha o modelo ajustado\n",
        "# modelo2 = sm.OLS(y, X_scaled).fit()\n",
        "\n",
        "# Prevendo valores para X\n",
        "y_pred2 = modelo2.predict(X_scaled)\n",
        "\n",
        "# Criar um DataFrame com X_scaled\n",
        "X_vif = pd.DataFrame(X_scaled, columns=modelo2.model.exog_names)\n",
        "\n",
        "# Calcular o VIF para cada variável\n",
        "vif_data = pd.DataFrame()\n",
        "vif_data[\"feature\"] = X_vif.columns\n",
        "vif_data[\"VIF\"] = [variance_inflation_factor(X_vif.values, i) for i in range(X_vif.shape[1])]\n",
        "\n",
        "# Exibir os resultados do VIF\n",
        "print(vif_data)"
      ]
    },
    {
      "cell_type": "markdown",
      "source": [
        "Pelo entendimento a respeito desse pressuposto do modelo, uma dessas variáveis:\n",
        "\n",
        "1. tempo_ate_onibus_0~5min\n",
        "\n",
        "2. tempo_ate_onibus_5min~10min\n",
        "\n",
        "Poderia/deveria ser excluída do modelo."
      ],
      "metadata": {
        "id": "_bt9HIWyGk6k"
      }
    },
    {
      "cell_type": "code",
      "source": [
        "# Verificar a correlação entre as variáveis relacionadas a ônibus\n",
        "corr_onibus = df[['tempo_ate_onibus_0~5min', 'tempo_ate_onibus_5min~10min']].corr()\n",
        "print(corr_onibus)\n",
        "\n",
        "# Visualizar a correlação\n",
        "plt.figure(figsize=(6, 4))\n",
        "sns.heatmap(corr_onibus, annot=True, cmap='coolwarm', center=0)\n",
        "plt.title('Correlação entre Variáveis Relacionadas a Ônibus')\n",
        "plt.show()"
      ],
      "metadata": {
        "colab": {
          "base_uri": "https://localhost:8080/",
          "height": 725
        },
        "id": "H-RT5vP5JY2f",
        "outputId": "f1451d72-c9ea-4ed3-9c80-0f196f62835b"
      },
      "execution_count": null,
      "outputs": [
        {
          "output_type": "stream",
          "name": "stdout",
          "text": [
            "                             tempo_ate_onibus_0~5min  \\\n",
            "tempo_ate_onibus_0~5min                     1.000000   \n",
            "tempo_ate_onibus_5min~10min                -0.973977   \n",
            "\n",
            "                             tempo_ate_onibus_5min~10min  \n",
            "tempo_ate_onibus_0~5min                        -0.973977  \n",
            "tempo_ate_onibus_5min~10min                     1.000000  \n"
          ]
        },
        {
          "output_type": "display_data",
          "data": {
            "text/plain": [
              "<Figure size 600x400 with 2 Axes>"
            ],
            "image/png": "[encoded data removed]"
          },
          "metadata": {}
        }
      ]
    },
    {
      "cell_type": "markdown",
      "metadata": {
        "id": "kAI6EAqwWM81"
      },
      "source": [
        "## 8: Avalie e compare ambos os modelos e decida qual é melhor."
      ]
    },
    {
      "cell_type": "code",
      "execution_count": null,
      "metadata": {
        "id": "Qm3dZZ7QXsua"
      },
      "outputs": [],
      "source": [
        "from sklearn.metrics import mean_squared_error, mean_absolute_error"
      ]
    },
    {
      "cell_type": "code",
      "execution_count": null,
      "metadata": {
        "id": "Dcfg5SehnhyB",
        "colab": {
          "base_uri": "https://localhost:8080/"
        },
        "outputId": "f38388d7-4f91-45b5-e3fa-38197e9ed3f3"
      },
      "outputs": [
        {
          "output_type": "stream",
          "name": "stdout",
          "text": [
            "Modelo1: R2 = 0.49850377056162654, R2 Ajustado = 0.49841861243130925\n",
            "Modelo2: R2 = 0.8265485207255558, R2 Ajustado = 0.8261352598831728\n"
          ]
        }
      ],
      "source": [
        "# R2 e R2 ajustado\n",
        "print(f\"Modelo1: R2 = {modelo1.rsquared}, R2 Ajustado = {modelo1.rsquared_adj}\")\n",
        "print(f\"Modelo2: R2 = {modelo2.rsquared}, R2 Ajustado = {modelo2.rsquared_adj}\")"
      ]
    },
    {
      "cell_type": "markdown",
      "source": [
        "**Análise:** O modelo2 tem um R² e R² Ajustado significativamente maiores do que o modelo simples (modelo1), indicando que ele explica uma maior proporção da variância nos dados."
      ],
      "metadata": {
        "id": "_mCoyGy3J3CP"
      }
    },
    {
      "cell_type": "code",
      "source": [
        "#MSE\n",
        "from statsmodels.tools.eval_measures import mse\n",
        "\n",
        "print(f\"MSE Modelo1: {mse(y, res1)}\")\n",
        "print(f\"MSE Modelo2: {mse(y, res2)}\")"
      ],
      "metadata": {
        "colab": {
          "base_uri": "https://localhost:8080/"
        },
        "id": "WhQs9_z0KKU4",
        "outputId": "868db12d-78a4-46f9-9e32-0a2408eb13aa"
      },
      "execution_count": null,
      "outputs": [
        {
          "output_type": "stream",
          "name": "stdout",
          "text": [
            "MSE Modelo1: 1964820940296.0916\n",
            "MSE Modelo2: 2098454648018.7969\n"
          ]
        }
      ]
    },
    {
      "cell_type": "code",
      "source": [
        "#RMSE\n",
        "from statsmodels.tools.eval_measures import rmse\n",
        "\n",
        "print(f\"RMSE Modelo1: {rmse(y, res1)}\")\n",
        "print(f\"RMSE Modelo2: {rmse(y, res2)}\")"
      ],
      "metadata": {
        "colab": {
          "base_uri": "https://localhost:8080/"
        },
        "id": "DadNFjT9KVPt",
        "outputId": "8246176c-b92c-499e-b061-4c47cd1a5281"
      },
      "execution_count": null,
      "outputs": [
        {
          "output_type": "stream",
          "name": "stdout",
          "text": [
            "RMSE Modelo1: 1401720.7069513141\n",
            "RMSE Modelo2: 1448604.379400669\n"
          ]
        }
      ]
    },
    {
      "cell_type": "markdown",
      "source": [
        "**Análise:** O modelo **simples (modelo1)** tem valores ligeiramente menores de MSE e RMSE, sugerindo que ele teve um desempenho melhor em termos de erro quadrático médio. Isso indica que o modelo simples erra menos, embora a diferença seja pouco expressiva."
      ],
      "metadata": {
        "id": "taD3ZPSwKkW1"
      }
    },
    {
      "cell_type": "code",
      "source": [
        "#MAE\n",
        "from statsmodels.tools.eval_measures import meanabs\n",
        "\n",
        "print(f'MAE Modelo1: {meanabs(y, res1)}')\n",
        "print(f'MAE Modelo2: {meanabs(y, res2)}')"
      ],
      "metadata": {
        "colab": {
          "base_uri": "https://localhost:8080/"
        },
        "id": "2nfikqxuKq9o",
        "outputId": "1f1dafc0-891d-42df-fc08-7bafe54e0cf4"
      },
      "execution_count": null,
      "outputs": [
        {
          "output_type": "stream",
          "name": "stdout",
          "text": [
            "MAE Modelo1: 1338568.4516168616\n",
            "MAE Modelo2: 1327392.9153251608\n"
          ]
        }
      ]
    },
    {
      "cell_type": "markdown",
      "source": [
        "**Análise:**\n",
        "\n",
        "O modelo **múltiplo (modelo2)** tem um MAE ligeiramente menor que o modelo simples (modelo1), indicando que ele tem um desempenho um pouco melhor em termos de erro absoluto médio."
      ],
      "metadata": {
        "id": "OVElCPLJKxUT"
      }
    },
    {
      "cell_type": "markdown",
      "source": [
        "**Resposta:**\n",
        "\n",
        "**Resumo das Comparações:**\n",
        "- **Modelo 2:**\n",
        "  - Superior nas métricas R² e R² Ajustado.\n",
        "  - Ligeiramente melhor na métrica MAE.\n",
        "\n",
        "- **Modelo 1:**\n",
        "  - Ligeiramente melhor nas métricas MSE e RMSE.\n",
        "\n",
        "**Considerações Finais:**\n",
        "\n",
        "- **Modelo Múltiplo (Modelo 2):**\n",
        "  - **Recomendado** se a prioridade é capturar uma maior variância e obter previsões ligeiramente mais precisas em termos de erro absoluto médio (MAE).\n",
        "  - Este modelo é mais robusto e leva em consideração múltiplos fatores que influenciam o preço.\n",
        "\n",
        "- **Modelo Simples (Modelo 1):**\n",
        "  - Pode ser uma boa escolha se a simplicidade e a facilidade de interpretação são importantes.\n",
        "  - Indicado para conjuntos de dados limitados ou se houver preferência por um modelo com menor risco de overfitting.\n",
        "\n",
        "**Conclusão:**\n",
        "Dado que o objetivo é calcular o preço dos imóveis de forma precisa, o Modelo Múltiplo (Modelo 2) é ligeiramente preferível devido ao seu menor MAE e maior capacidade explicativa (maior R²)."
      ],
      "metadata": {
        "id": "cvMb78uMLAlp"
      }
    },
    {
      "cell_type": "markdown",
      "metadata": {
        "id": "spf1LvXrqEl8"
      },
      "source": [
        "# Regressão Linear com Sklearn"
      ]
    },
    {
      "cell_type": "markdown",
      "metadata": {
        "id": "h-EteXD705B0"
      },
      "source": [
        "Agora vamos começar a pensar mais como modelos de Machine Learning, não como modelos estatísticos. Com o Sklearn vamos tentar fazer isso da forma mais rápida e eficiênte o possível!"
      ]
    },
    {
      "cell_type": "markdown",
      "metadata": {
        "id": "fnRwHYPZ05B3"
      },
      "source": [
        "## 9: Importe o Conjunto de dados \"California Housing\"\n",
        "\n",
        "\n",
        "Este dataset pode ser baixado diretamente pelo Sklearn, para isto utilize o seguinte link da biblioteca como referência.\n",
        "\n",
        "[California Housing SkLearn](https://scikit-learn.org/stable/modules/generated/sklearn.datasets.fetch_california_housing.html?ref=hackernoon.com)\n"
      ]
    },
    {
      "cell_type": "markdown",
      "metadata": {
        "id": "x8ndOguE05B4"
      },
      "source": [
        "Sobre o Dataset:\n",
        "\n",
        "#### Conjunto de Dados de Habitação da Califórnia\n",
        "\n",
        "**Características do Conjunto de Dados:**\n",
        "\n",
        "- **Número de Instâncias:** 20640\n",
        "- **Número de Atributos:** 8 atributos numéricos e preditivos, além do alvo\n",
        "\n",
        "**Informações dos Atributos:**\n",
        "\n",
        "- **MedInc:** Renda mediana no grupo de blocos\n",
        "- **HouseAge:** Idade mediana das casas no grupo de blocos\n",
        "- **AveRooms:** Número médio de cômodos por domicílio\n",
        "- **AveBedrms:** Número médio de quartos por domicílio\n",
        "- **Population:** População do grupo de blocos\n",
        "- **AveOccup:** Número médio de membros por domicílio\n",
        "- **Latitude:** Latitude do grupo de blocos\n",
        "- **Longitude:** Longitude do grupo de blocos\n",
        "\n",
        "**Valores de Atributos Faltantes:**\n",
        "Nenhum\n",
        "\n",
        "Este conjunto de dados foi obtido do repositório StatLib: [StatLib Repository](https://www.dcc.fc.up.pt/~ltorgo/Regression/cal_housing.html).\n",
        "\n",
        "A variável alvo é o valor mediano das casas (`medianHouseValue`/ `target`) nos distritos da Califórnia, expressa em centenas de milhares de dólares (US$ 100,000).\n",
        "\n",
        "Este conjunto de dados foi derivado do censo dos EUA de 1990, utilizando uma linha por grupo de blocos do censo. Um grupo de blocos é a menor unidade geográfica para a qual o Bureau do Censo dos EUA publica dados amostrais (um grupo de blocos geralmente tem uma população de 600 a 3.000 pessoas).\n",
        "\n",
        "Um domicílio é um grupo de pessoas que residem em uma casa. Como o número médio de cômodos e quartos neste conjunto de dados é fornecido por domicílio, essas colunas podem apresentar valores surpreendentemente altos para grupos de blocos com poucos domicílios e muitas casas vazias, como resorts de férias.\n",
        "\n",
        "Ele pode ser baixado/carregado usando a função `sklearn.datasets.fetch_california_housing`.\n",
        "\n",
        "\n"
      ]
    },
    {
      "cell_type": "code",
      "execution_count": null,
      "metadata": {
        "id": "scKV_yDK05B5"
      },
      "outputs": [],
      "source": [
        "# já vou deixar o seguinte código para direcionar.\n",
        "from sklearn.datasets import fetch_california_housing"
      ]
    },
    {
      "cell_type": "markdown",
      "metadata": {
        "id": "-W3iWIk005B6"
      },
      "source": [
        "Faça a chamada da função utilizando o parametro `as_frame`, para facilitar a manipulação:\n",
        "\n",
        "`fetch_california_housing(as_frame=True)`"
      ]
    },
    {
      "cell_type": "code",
      "execution_count": null,
      "metadata": {
        "id": "QY3EJYyM05B6",
        "colab": {
          "base_uri": "https://localhost:8080/",
          "height": 206
        },
        "outputId": "34e70de4-07b5-449e-906d-8e5cd4df0581"
      },
      "outputs": [
        {
          "output_type": "execute_result",
          "data": {
            "text/plain": [
              "   MedInc  HouseAge  AveRooms  AveBedrms  Population  AveOccup  Latitude  \\\n",
              "0  8.3252      41.0  6.984127   1.023810       322.0  2.555556     37.88   \n",
              "1  8.3014      21.0  6.238137   0.971880      2401.0  2.109842     37.86   \n",
              "2  7.2574      52.0  8.288136   1.073446       496.0  2.802260     37.85   \n",
              "3  5.6431      52.0  5.817352   1.073059       558.0  2.547945     37.85   \n",
              "4  3.8462      52.0  6.281853   1.081081       565.0  2.181467     37.85   \n",
              "\n",
              "   Longitude  MedHouseVal  \n",
              "0    -122.23        4.526  \n",
              "1    -122.22        3.585  \n",
              "2    -122.24        3.521  \n",
              "3    -122.25        3.413  \n",
              "4    -122.25        3.422  "
            ],
            "text/html": [
              "\n",
              "  <div id=\"df-64e9f4e8-653d-4586-a45b-a2cc7d082ae8\" class=\"colab-df-container\">\n",
              "    <div>\n",
              "<style scoped>\n",
              "    .dataframe tbody tr th:only-of-type {\n",
              "        vertical-align: middle;\n",
              "    }\n",
              "\n",
              "    .dataframe tbody tr th {\n",
              "        vertical-align: top;\n",
              "    }\n",
              "\n",
              "    .dataframe thead th {\n",
              "        text-align: right;\n",
              "    }\n",
              "</style>\n",
              "<table border=\"1\" class=\"dataframe\">\n",
              "  <thead>\n",
              "    <tr style=\"text-align: right;\">\n",
              "      <th></th>\n",
              "      <th>MedInc</th>\n",
              "      <th>HouseAge</th>\n",
              "      <th>AveRooms</th>\n",
              "      <th>AveBedrms</th>\n",
              "      <th>Population</th>\n",
              "      <th>AveOccup</th>\n",
              "      <th>Latitude</th>\n",
              "      <th>Longitude</th>\n",
              "      <th>MedHouseVal</th>\n",
              "    </tr>\n",
              "  </thead>\n",
              "  <tbody>\n",
              "    <tr>\n",
              "      <th>0</th>\n",
              "      <td>8.3252</td>\n",
              "      <td>41.0</td>\n",
              "      <td>6.984127</td>\n",
              "      <td>1.023810</td>\n",
              "      <td>322.0</td>\n",
              "      <td>2.555556</td>\n",
              "      <td>37.88</td>\n",
              "      <td>-122.23</td>\n",
              "      <td>4.526</td>\n",
              "    </tr>\n",
              "    <tr>\n",
              "      <th>1</th>\n",
              "      <td>8.3014</td>\n",
              "      <td>21.0</td>\n",
              "      <td>6.238137</td>\n",
              "      <td>0.971880</td>\n",
              "      <td>2401.0</td>\n",
              "      <td>2.109842</td>\n",
              "      <td>37.86</td>\n",
              "      <td>-122.22</td>\n",
              "      <td>3.585</td>\n",
              "    </tr>\n",
              "    <tr>\n",
              "      <th>2</th>\n",
              "      <td>7.2574</td>\n",
              "      <td>52.0</td>\n",
              "      <td>8.288136</td>\n",
              "      <td>1.073446</td>\n",
              "      <td>496.0</td>\n",
              "      <td>2.802260</td>\n",
              "      <td>37.85</td>\n",
              "      <td>-122.24</td>\n",
              "      <td>3.521</td>\n",
              "    </tr>\n",
              "    <tr>\n",
              "      <th>3</th>\n",
              "      <td>5.6431</td>\n",
              "      <td>52.0</td>\n",
              "      <td>5.817352</td>\n",
              "      <td>1.073059</td>\n",
              "      <td>558.0</td>\n",
              "      <td>2.547945</td>\n",
              "      <td>37.85</td>\n",
              "      <td>-122.25</td>\n",
              "      <td>3.413</td>\n",
              "    </tr>\n",
              "    <tr>\n",
              "      <th>4</th>\n",
              "      <td>3.8462</td>\n",
              "      <td>52.0</td>\n",
              "      <td>6.281853</td>\n",
              "      <td>1.081081</td>\n",
              "      <td>565.0</td>\n",
              "      <td>2.181467</td>\n",
              "      <td>37.85</td>\n",
              "      <td>-122.25</td>\n",
              "      <td>3.422</td>\n",
              "    </tr>\n",
              "  </tbody>\n",
              "</table>\n",
              "</div>\n",
              "    <div class=\"colab-df-buttons\">\n",
              "\n",
              "  <div class=\"colab-df-container\">\n",
              "    <button class=\"colab-df-convert\" onclick=\"convertToInteractive('df-64e9f4e8-653d-4586-a45b-a2cc7d082ae8')\"\n",
              "            title=\"Convert this dataframe to an interactive table.\"\n",
              "            style=\"display:none;\">\n",
              "\n",
              "  <svg xmlns=\"http://www.w3.org/2000/svg\" height=\"24px\" viewBox=\"0 -960 960 960\">\n",
              "    <path d=\"M120-120v-720h720v720H120Zm60-500h600v-160H180v160Zm220 220h160v-160H400v160Zm0 220h160v-160H400v160ZM180-400h160v-160H180v160Zm440 0h160v-160H620v160ZM180-180h160v-160H180v160Zm440 0h160v-160H620v160Z\"/>\n",
              "  </svg>\n",
              "    </button>\n",
              "\n",
              "  <style>\n",
              "    .colab-df-container {\n",
              "      display:flex;\n",
              "      gap: 12px;\n",
              "    }\n",
              "\n",
              "    .colab-df-convert {\n",
              "      background-color: #E8F0FE;\n",
              "      border: none;\n",
              "      border-radius: 50%;\n",
              "      cursor: pointer;\n",
              "      display: none;\n",
              "      fill: #1967D2;\n",
              "      height: 32px;\n",
              "      padding: 0 0 0 0;\n",
              "      width: 32px;\n",
              "    }\n",
              "\n",
              "    .colab-df-convert:hover {\n",
              "      background-color: #E2EBFA;\n",
              "      box-shadow: 0px 1px 2px rgba(60, 64, 67, 0.3), 0px 1px 3px 1px rgba(60, 64, 67, 0.15);\n",
              "      fill: #174EA6;\n",
              "    }\n",
              "\n",
              "    .colab-df-buttons div {\n",
              "      margin-bottom: 4px;\n",
              "    }\n",
              "\n",
              "    [theme=dark] .colab-df-convert {\n",
              "      background-color: #3B4455;\n",
              "      fill: #D2E3FC;\n",
              "    }\n",
              "\n",
              "    [theme=dark] .colab-df-convert:hover {\n",
              "      background-color: #434B5C;\n",
              "      box-shadow: 0px 1px 3px 1px rgba(0, 0, 0, 0.15);\n",
              "      filter: drop-shadow(0px 1px 2px rgba(0, 0, 0, 0.3));\n",
              "      fill: #FFFFFF;\n",
              "    }\n",
              "  </style>\n",
              "\n",
              "    <script>\n",
              "      const buttonEl =\n",
              "        document.querySelector('#df-64e9f4e8-653d-4586-a45b-a2cc7d082ae8 button.colab-df-convert');\n",
              "      buttonEl.style.display =\n",
              "        google.colab.kernel.accessAllowed ? 'block' : 'none';\n",
              "\n",
              "      async function convertToInteractive(key) {\n",
              "        const element = document.querySelector('#df-64e9f4e8-653d-4586-a45b-a2cc7d082ae8');\n",
              "        const dataTable =\n",
              "          await google.colab.kernel.invokeFunction('convertToInteractive',\n",
              "                                                    [key], {});\n",
              "        if (!dataTable) return;\n",
              "\n",
              "        const docLinkHtml = 'Like what you see? Visit the ' +\n",
              "          '<a target=\"_blank\" href=https://colab.research.google.com/notebooks/data_table.ipynb>data table notebook</a>'\n",
              "          + ' to learn more about interactive tables.';\n",
              "        element.innerHTML = '';\n",
              "        dataTable['output_type'] = 'display_data';\n",
              "        await google.colab.output.renderOutput(dataTable, element);\n",
              "        const docLink = document.createElement('div');\n",
              "        docLink.innerHTML = docLinkHtml;\n",
              "        element.appendChild(docLink);\n",
              "      }\n",
              "    </script>\n",
              "  </div>\n",
              "\n",
              "\n",
              "<div id=\"df-7d67ef91-24cb-4d4e-8c87-d7c37a26baa5\">\n",
              "  <button class=\"colab-df-quickchart\" onclick=\"quickchart('df-7d67ef91-24cb-4d4e-8c87-d7c37a26baa5')\"\n",
              "            title=\"Suggest charts\"\n",
              "            style=\"display:none;\">\n",
              "\n",
              "<svg xmlns=\"http://www.w3.org/2000/svg\" height=\"24px\"viewBox=\"0 0 24 24\"\n",
              "     width=\"24px\">\n",
              "    <g>\n",
              "        <path d=\"M19 3H5c-1.1 0-2 .9-2 2v14c0 1.1.9 2 2 2h14c1.1 0 2-.9 2-2V5c0-1.1-.9-2-2-2zM9 17H7v-7h2v7zm4 0h-2V7h2v10zm4 0h-2v-4h2v4z\"/>\n",
              "    </g>\n",
              "</svg>\n",
              "  </button>\n",
              "\n",
              "<style>\n",
              "  .colab-df-quickchart {\n",
              "      --bg-color: #E8F0FE;\n",
              "      --fill-color: #1967D2;\n",
              "      --hover-bg-color: #E2EBFA;\n",
              "      --hover-fill-color: #174EA6;\n",
              "      --disabled-fill-color: #AAA;\n",
              "      --disabled-bg-color: #DDD;\n",
              "  }\n",
              "\n",
              "  [theme=dark] .colab-df-quickchart {\n",
              "      --bg-color: #3B4455;\n",
              "      --fill-color: #D2E3FC;\n",
              "      --hover-bg-color: #434B5C;\n",
              "      --hover-fill-color: #FFFFFF;\n",
              "      --disabled-bg-color: #3B4455;\n",
              "      --disabled-fill-color: #666;\n",
              "  }\n",
              "\n",
              "  .colab-df-quickchart {\n",
              "    background-color: var(--bg-color);\n",
              "    border: none;\n",
              "    border-radius: 50%;\n",
              "    cursor: pointer;\n",
              "    display: none;\n",
              "    fill: var(--fill-color);\n",
              "    height: 32px;\n",
              "    padding: 0;\n",
              "    width: 32px;\n",
              "  }\n",
              "\n",
              "  .colab-df-quickchart:hover {\n",
              "    background-color: var(--hover-bg-color);\n",
              "    box-shadow: 0 1px 2px rgba(60, 64, 67, 0.3), 0 1px 3px 1px rgba(60, 64, 67, 0.15);\n",
              "    fill: var(--button-hover-fill-color);\n",
              "  }\n",
              "\n",
              "  .colab-df-quickchart-complete:disabled,\n",
              "  .colab-df-quickchart-complete:disabled:hover {\n",
              "    background-color: var(--disabled-bg-color);\n",
              "    fill: var(--disabled-fill-color);\n",
              "    box-shadow: none;\n",
              "  }\n",
              "\n",
              "  .colab-df-spinner {\n",
              "    border: 2px solid var(--fill-color);\n",
              "    border-color: transparent;\n",
              "    border-bottom-color: var(--fill-color);\n",
              "    animation:\n",
              "      spin 1s steps(1) infinite;\n",
              "  }\n",
              "\n",
              "  @keyframes spin {\n",
              "    0% {\n",
              "      border-color: transparent;\n",
              "      border-bottom-color: var(--fill-color);\n",
              "      border-left-color: var(--fill-color);\n",
              "    }\n",
              "    20% {\n",
              "      border-color: transparent;\n",
              "      border-left-color: var(--fill-color);\n",
              "      border-top-color: var(--fill-color);\n",
              "    }\n",
              "    30% {\n",
              "      border-color: transparent;\n",
              "      border-left-color: var(--fill-color);\n",
              "      border-top-color: var(--fill-color);\n",
              "      border-right-color: var(--fill-color);\n",
              "    }\n",
              "    40% {\n",
              "      border-color: transparent;\n",
              "      border-right-color: var(--fill-color);\n",
              "      border-top-color: var(--fill-color);\n",
              "    }\n",
              "    60% {\n",
              "      border-color: transparent;\n",
              "      border-right-color: var(--fill-color);\n",
              "    }\n",
              "    80% {\n",
              "      border-color: transparent;\n",
              "      border-right-color: var(--fill-color);\n",
              "      border-bottom-color: var(--fill-color);\n",
              "    }\n",
              "    90% {\n",
              "      border-color: transparent;\n",
              "      border-bottom-color: var(--fill-color);\n",
              "    }\n",
              "  }\n",
              "</style>\n",
              "\n",
              "  <script>\n",
              "    async function quickchart(key) {\n",
              "      const quickchartButtonEl =\n",
              "        document.querySelector('#' + key + ' button');\n",
              "      quickchartButtonEl.disabled = true;  // To prevent multiple clicks.\n",
              "      quickchartButtonEl.classList.add('colab-df-spinner');\n",
              "      try {\n",
              "        const charts = await google.colab.kernel.invokeFunction(\n",
              "            'suggestCharts', [key], {});\n",
              "      } catch (error) {\n",
              "        console.error('Error during call to suggestCharts:', error);\n",
              "      }\n",
              "      quickchartButtonEl.classList.remove('colab-df-spinner');\n",
              "      quickchartButtonEl.classList.add('colab-df-quickchart-complete');\n",
              "    }\n",
              "    (() => {\n",
              "      let quickchartButtonEl =\n",
              "        document.querySelector('#df-7d67ef91-24cb-4d4e-8c87-d7c37a26baa5 button');\n",
              "      quickchartButtonEl.style.display =\n",
              "        google.colab.kernel.accessAllowed ? 'block' : 'none';\n",
              "    })();\n",
              "  </script>\n",
              "</div>\n",
              "\n",
              "    </div>\n",
              "  </div>\n"
            ],
            "application/vnd.google.colaboratory.intrinsic+json": {
              "type": "dataframe",
              "variable_name": "df_cal_housing",
              "summary": "{\n  \"name\": \"df_cal_housing\",\n  \"rows\": 20640,\n  \"fields\": [\n    {\n      \"column\": \"MedInc\",\n      \"properties\": {\n        \"dtype\": \"number\",\n        \"std\": 1.8998217179452688,\n        \"min\": 0.4999,\n        \"max\": 15.0001,\n        \"num_unique_values\": 12928,\n        \"samples\": [\n          5.0286,\n          2.0433,\n          6.1228\n        ],\n        \"semantic_type\": \"\",\n        \"description\": \"\"\n      }\n    },\n    {\n      \"column\": \"HouseAge\",\n      \"properties\": {\n        \"dtype\": \"number\",\n        \"std\": 12.58555761211165,\n        \"min\": 1.0,\n        \"max\": 52.0,\n        \"num_unique_values\": 52,\n        \"samples\": [\n          35.0,\n          25.0,\n          7.0\n        ],\n        \"semantic_type\": \"\",\n        \"description\": \"\"\n      }\n    },\n    {\n      \"column\": \"AveRooms\",\n      \"properties\": {\n        \"dtype\": \"number\",\n        \"std\": 2.4741731394243187,\n        \"min\": 0.8461538461538461,\n        \"max\": 141.9090909090909,\n        \"num_unique_values\": 19392,\n        \"samples\": [\n          6.111269614835948,\n          5.912820512820513,\n          5.7924528301886795\n        ],\n        \"semantic_type\": \"\",\n        \"description\": \"\"\n      }\n    },\n    {\n      \"column\": \"AveBedrms\",\n      \"properties\": {\n        \"dtype\": \"number\",\n        \"std\": 0.473910856795466,\n        \"min\": 0.3333333333333333,\n        \"max\": 34.06666666666667,\n        \"num_unique_values\": 14233,\n        \"samples\": [\n          0.9906542056074766,\n          1.112099644128114,\n          1.0398230088495575\n        ],\n        \"semantic_type\": \"\",\n        \"description\": \"\"\n      }\n    },\n    {\n      \"column\": \"Population\",\n      \"properties\": {\n        \"dtype\": \"number\",\n        \"std\": 1132.462121765341,\n        \"min\": 3.0,\n        \"max\": 35682.0,\n        \"num_unique_values\": 3888,\n        \"samples\": [\n          4169.0,\n          636.0,\n          3367.0\n        ],\n        \"semantic_type\": \"\",\n        \"description\": \"\"\n      }\n    },\n    {\n      \"column\": \"AveOccup\",\n      \"properties\": {\n        \"dtype\": \"number\",\n        \"std\": 10.386049562213618,\n        \"min\": 0.6923076923076923,\n        \"max\": 1243.3333333333333,\n        \"num_unique_values\": 18841,\n        \"samples\": [\n          2.6939799331103678,\n          3.559375,\n          3.297082228116711\n        ],\n        \"semantic_type\": \"\",\n        \"description\": \"\"\n      }\n    },\n    {\n      \"column\": \"Latitude\",\n      \"properties\": {\n        \"dtype\": \"number\",\n        \"std\": 2.1359523974571153,\n        \"min\": 32.54,\n        \"max\": 41.95,\n        \"num_unique_values\": 862,\n        \"samples\": [\n          33.7,\n          34.41,\n          38.24\n        ],\n        \"semantic_type\": \"\",\n        \"description\": \"\"\n      }\n    },\n    {\n      \"column\": \"Longitude\",\n      \"properties\": {\n        \"dtype\": \"number\",\n        \"std\": 2.0035317235025882,\n        \"min\": -124.35,\n        \"max\": -114.31,\n        \"num_unique_values\": 844,\n        \"samples\": [\n          -118.63,\n          -119.86,\n          -121.26\n        ],\n        \"semantic_type\": \"\",\n        \"description\": \"\"\n      }\n    },\n    {\n      \"column\": \"MedHouseVal\",\n      \"properties\": {\n        \"dtype\": \"number\",\n        \"std\": 1.1539561587441387,\n        \"min\": 0.14999,\n        \"max\": 5.00001,\n        \"num_unique_values\": 3842,\n        \"samples\": [\n          1.943,\n          3.79,\n          2.301\n        ],\n        \"semantic_type\": \"\",\n        \"description\": \"\"\n      }\n    }\n  ]\n}"
            }
          },
          "metadata": {},
          "execution_count": 46
        }
      ],
      "source": [
        "# Carrega o dataset\n",
        "cal_housing = fetch_california_housing(as_frame=True)\n",
        "\n",
        "# Obtém o DataFrame\n",
        "df_cal_housing = cal_housing.frame\n",
        "\n",
        "# Visualiza as primeiras linhas do DataFrame\n",
        "df_cal_housing.head()"
      ]
    },
    {
      "cell_type": "code",
      "source": [
        "df_cal_housing.info()"
      ],
      "metadata": {
        "colab": {
          "base_uri": "https://localhost:8080/"
        },
        "id": "TTyzUyyTLhSe",
        "outputId": "a88b3361-5afc-4d25-b9d9-c508ca86bb90"
      },
      "execution_count": null,
      "outputs": [
        {
          "output_type": "stream",
          "name": "stdout",
          "text": [
            "<class 'pandas.core.frame.DataFrame'>\n",
            "RangeIndex: 20640 entries, 0 to 20639\n",
            "Data columns (total 9 columns):\n",
            " #   Column       Non-Null Count  Dtype  \n",
            "---  ------       --------------  -----  \n",
            " 0   MedInc       20640 non-null  float64\n",
            " 1   HouseAge     20640 non-null  float64\n",
            " 2   AveRooms     20640 non-null  float64\n",
            " 3   AveBedrms    20640 non-null  float64\n",
            " 4   Population   20640 non-null  float64\n",
            " 5   AveOccup     20640 non-null  float64\n",
            " 6   Latitude     20640 non-null  float64\n",
            " 7   Longitude    20640 non-null  float64\n",
            " 8   MedHouseVal  20640 non-null  float64\n",
            "dtypes: float64(9)\n",
            "memory usage: 1.4 MB\n"
          ]
        }
      ]
    },
    {
      "cell_type": "markdown",
      "metadata": {
        "id": "wRh8tv4V05B7"
      },
      "source": [
        "## 10: Utilizando Regressão Linear do Sklearn, treino um modelo para prever o preços médios das casas"
      ]
    },
    {
      "cell_type": "code",
      "execution_count": null,
      "metadata": {
        "id": "1jQ4WnsR05B7"
      },
      "outputs": [],
      "source": [
        "import statsmodels.api as sm\n",
        "from sklearn.preprocessing import StandardScaler"
      ]
    },
    {
      "cell_type": "markdown",
      "source": [
        "**Comentário:** após a criação do modelo e executá-lo uma primeira vez, a variável X5 (population) apresentou p-valor alto,  por essa razão, será removida do modelo para avaliar o resultado."
      ],
      "metadata": {
        "id": "nT9rnLEWLulY"
      }
    },
    {
      "cell_type": "code",
      "source": [
        "from sklearn.metrics import mean_squared_error, r2_score\n",
        "import statsmodels.api as sm\n",
        "\n",
        "# Separar as variáveis independentes X e a variável dependente y\n",
        "X_cal_housing = df_cal_housing.drop(columns=['MedHouseVal', 'Population'])\n",
        "y_cal_housing = df_cal_housing['MedHouseVal']\n",
        "\n",
        "# Aplicar o StandardScaler em X\n",
        "scaler = StandardScaler()\n",
        "X_cal_housing_scaled = scaler.fit_transform(X_cal_housing)\n",
        "\n",
        "# Ajustar o modelo linear\n",
        "X_cal_housing_scaled_with_const = sm.add_constant(X_cal_housing_scaled)\n",
        "modelo_linear = sm.OLS(y_cal_housing, X_cal_housing_scaled_with_const).fit()\n",
        "\n",
        "# Previsões para o modelo linear\n",
        "y_linear_pred = modelo_linear.predict(X_cal_housing_scaled_with_const)\n",
        "\n",
        "# Avaliar o modelo linear\n",
        "mse_linear = mean_squared_error(y_cal_housing, y_linear_pred)\n",
        "r2_linear = r2_score(y_cal_housing, y_linear_pred)\n",
        "\n",
        "print(\"Linear Model\")\n",
        "print(modelo_linear.summary())"
      ],
      "metadata": {
        "colab": {
          "base_uri": "https://localhost:8080/"
        },
        "id": "YUV7n3HELwVa",
        "outputId": "bfa9df8d-5ef2-425a-8f54-7b7713c784b4"
      },
      "execution_count": null,
      "outputs": [
        {
          "output_type": "stream",
          "name": "stdout",
          "text": [
            "Linear Model\n",
            "                            OLS Regression Results                            \n",
            "==============================================================================\n",
            "Dep. Variable:            MedHouseVal   R-squared:                       0.606\n",
            "Model:                            OLS   Adj. R-squared:                  0.606\n",
            "Method:                 Least Squares   F-statistic:                     4538.\n",
            "Date:                Fri, 21 Jun 2024   Prob (F-statistic):               0.00\n",
            "Time:                        00:25:32   Log-Likelihood:                -22624.\n",
            "No. Observations:               20640   AIC:                         4.526e+04\n",
            "Df Residuals:                   20632   BIC:                         4.533e+04\n",
            "Df Model:                           7                                         \n",
            "Covariance Type:            nonrobust                                         \n",
            "==============================================================================\n",
            "                 coef    std err          t      P>|t|      [0.025      0.975]\n",
            "------------------------------------------------------------------------------\n",
            "const          2.0686      0.005    410.329      0.000       2.059       2.078\n",
            "x1             0.8297      0.008    104.089      0.000       0.814       0.845\n",
            "x2             0.1203      0.005     22.602      0.000       0.110       0.131\n",
            "x3            -0.2651      0.015    -18.217      0.000      -0.294      -0.237\n",
            "x4             0.3056      0.013     22.922      0.000       0.279       0.332\n",
            "x5            -0.0397      0.005     -7.861      0.000      -0.050      -0.030\n",
            "x6            -0.8986      0.015    -58.763      0.000      -0.929      -0.869\n",
            "x7            -0.8696      0.015    -57.782      0.000      -0.899      -0.840\n",
            "==============================================================================\n",
            "Omnibus:                     4406.193   Durbin-Watson:                   0.885\n",
            "Prob(Omnibus):                  0.000   Jarque-Bera (JB):            14155.786\n",
            "Skew:                           1.084   Prob(JB):                         0.00\n",
            "Kurtosis:                       6.429   Cond. No.                         6.61\n",
            "==============================================================================\n",
            "\n",
            "Notes:\n",
            "[1] Standard Errors assume that the covariance matrix of the errors is correctly specified.\n"
          ]
        }
      ]
    },
    {
      "cell_type": "code",
      "source": [
        "# Verificando os pressupostos do modelo\n",
        "\n",
        "from scipy.stats import shapiro\n",
        "from statsmodels.stats.stattools import durbin_watson\n",
        "from statsmodels.stats.diagnostic import het_goldfeldquandt\n",
        "\n",
        "# Resíduos do modelo linear\n",
        "res_linear = y_cal_housing - y_linear_pred\n",
        "\n",
        "# Teste de Shapiro-Wilk para normalidade\n",
        "shapiro_test = shapiro(res_linear)\n",
        "print('Shapiro-Wilk Teste (Modelo Linear)')\n",
        "print(f'Estatística: {shapiro_test[0]}, p-valor: {shapiro_test[1]}')\n",
        "\n",
        "# Teste de Durbin-Watson para autocorrelação\n",
        "dw_test = durbin_watson(res_linear)\n",
        "print('Durbin-Watson Teste (Modelo Linear)')\n",
        "print(f'Estatística: {dw_test}')\n",
        "\n",
        "# Teste de Goldfeld-Quandt para heterocedasticidade (Modelo Linear)\n",
        "gq_test_linear = het_goldfeldquandt(res_linear, X_cal_housing_scaled_with_const)\n",
        "print('Goldfeld-Quandt Teste (Modelo Linear)')\n",
        "print(f'Estatística: {gq_test_linear[0]}, p-valor: {gq_test_linear[1]}, Alternativa: {gq_test_linear[2]}')"
      ],
      "metadata": {
        "colab": {
          "base_uri": "https://localhost:8080/"
        },
        "id": "vwQ0j29GL8i9",
        "outputId": "36b141c5-64ad-42e7-b22c-89ba2301501a"
      },
      "execution_count": null,
      "outputs": [
        {
          "output_type": "stream",
          "name": "stdout",
          "text": [
            "Shapiro-Wilk Teste (Modelo Linear)\n",
            "Estatística: 0.9228456020355225, p-valor: 0.0\n",
            "Durbin-Watson Teste (Modelo Linear)\n",
            "Estatística: 0.8852035008140087\n",
            "Goldfeld-Quandt Teste (Modelo Linear)\n",
            "Estatística: 0.8838650726763769, p-valor: 0.9999999998147261, Alternativa: increasing\n"
          ]
        },
        {
          "output_type": "stream",
          "name": "stderr",
          "text": [
            "/usr/local/lib/python3.10/dist-packages/scipy/stats/_morestats.py:1882: UserWarning: p-value may not be accurate for N > 5000.\n",
            "  warnings.warn(\"p-value may not be accurate for N > 5000.\")\n"
          ]
        }
      ]
    },
    {
      "cell_type": "markdown",
      "source": [
        "**Resposta:**\n",
        "\n",
        "**Resumo dos Pressupostos do Primeiro Modelo:**\n",
        "\n",
        "- **Normalidade dos Resíduos:**\n",
        "  - Os resíduos do modelo linear não são normalmente distribuídos, violando um dos pressupostos da regressão linear.\n",
        "\n",
        "- **Autocorrelação dos Resíduos:**\n",
        "  - Existe autocorrelação positiva nos resíduos, o que também representa uma violação dos pressupostos da regressão linear.\n",
        "\n",
        "- **Heterocedasticidade dos Resíduos:**\n",
        "  - Não há evidência de heterocedasticidade, portanto, este pressuposto é atendido.\n",
        "\n",
        "**Conclusão:**\n",
        "O primeiro modelo apresenta violações nos pressupostos de normalidade e autocorrelação dos resíduos, mas atende ao pressuposto de homocedasticidade. Essas violações devem ser levadas em consideração ao interpretar os resultados e podem requerer ajustes no modelo ou a utilização de métodos robustos."
      ],
      "metadata": {
        "id": "WI5Hi6BjL-DW"
      }
    },
    {
      "cell_type": "markdown",
      "metadata": {
        "id": "zMrL8rDY05B8"
      },
      "source": [
        "## 11: Utilize o PolynomialFeatures para gerar features polinomiais. Treine um novo modelo.\n",
        "\n",
        "\n",
        "A Ideia aqui é criar um novo modelo, com a ideia da Regressão Linear Polinomial vista em aula. Crie este modelo com um nome diferente do criado na questão anterior"
      ]
    },
    {
      "cell_type": "code",
      "execution_count": null,
      "metadata": {
        "id": "ur2BHtK_05B8"
      },
      "outputs": [],
      "source": [
        "import numpy as np\n",
        "import pandas as pd\n",
        "from sklearn.preprocessing import PolynomialFeatures, StandardScaler\n",
        "from sklearn.linear_model import LinearRegression\n",
        "from sklearn.metrics import mean_squared_error, r2_score"
      ]
    },
    {
      "cell_type": "code",
      "source": [
        "# Gerar Polynomial Features de grau 2\n",
        "# include_bias=False porque estamos aplicando StandardScaler antes de gerar as características polinomiais\n",
        "\n",
        "poly = PolynomialFeatures(degree=2, include_bias=False)\n",
        "\n",
        "X_poly = poly.fit_transform(X_cal_housing_scaled)\n",
        "\n",
        "# Ajustar o modelo polinomial\n",
        "modelo_poly = LinearRegression()\n",
        "modelo_poly.fit(X_poly, y_cal_housing)\n",
        "\n",
        "# Fazer previsões\n",
        "y_poly_pred = modelo_poly.predict(X_poly)\n",
        "\n",
        "# Avaliar o modelo polinomial\n",
        "mse_poly = mean_squared_error(y_cal_housing, y_poly_pred)\n",
        "r2_poly = r2_score(y_cal_housing, y_poly_pred)"
      ],
      "metadata": {
        "id": "r98xdTtyMTJY"
      },
      "execution_count": null,
      "outputs": []
    },
    {
      "cell_type": "code",
      "source": [
        "# Teste de Shapiro-Wilk para normalidade\n",
        "shapiro_test_poly = shapiro(y_poly_pred)\n",
        "print('Shapiro-Wilk Teste (Modelo Polinomial)')\n",
        "print(f'Estatística: {shapiro_test_poly[0]}, p-valor: {shapiro_test_poly[1]}')\n",
        "\n",
        "# Teste de Durbin-Watson para autocorrelação\n",
        "dw_test_poly = durbin_watson(shapiro_test_poly)\n",
        "print('Durbin-Watson Teste (Modelo Polinomial)')\n",
        "print(f'Estatística: {dw_test_poly}')\n",
        "\n",
        "# Teste de Goldfeld-Quandt para heterocedasticidade (Modelo Polinomial)\n",
        "X_poly_with_const = sm.add_constant(X_poly)\n",
        "\n",
        "gq_test_poly = het_goldfeldquandt(y_poly_pred, X_poly_with_const)\n",
        "print('Goldfeld-Quandt Teste (Modelo Polinomial)')\n",
        "print(f'Estatística: {gq_test_poly[0]}, p-valor: {gq_test_poly[1]}, Alternativa: {gq_test_poly[2]}')"
      ],
      "metadata": {
        "colab": {
          "base_uri": "https://localhost:8080/"
        },
        "id": "3yi9PLkUMV2a",
        "outputId": "6eb58b04-8614-45c7-f8c8-7ab11cc581f2"
      },
      "execution_count": null,
      "outputs": [
        {
          "output_type": "stream",
          "name": "stderr",
          "text": [
            "/usr/local/lib/python3.10/dist-packages/scipy/stats/_morestats.py:1882: UserWarning: p-value may not be accurate for N > 5000.\n",
            "  warnings.warn(\"p-value may not be accurate for N > 5000.\")\n"
          ]
        },
        {
          "output_type": "stream",
          "name": "stdout",
          "text": [
            "Shapiro-Wilk Teste (Modelo Polinomial)\n",
            "Estatística: 0.970526397228241, p-valor: 0.0\n",
            "Durbin-Watson Teste (Modelo Polinomial)\n",
            "Estatística: 1.0\n",
            "Goldfeld-Quandt Teste (Modelo Polinomial)\n",
            "Estatística: 0.0944908837834939, p-valor: 0.9999999999999999, Alternativa: increasing\n"
          ]
        }
      ]
    },
    {
      "cell_type": "markdown",
      "source": [
        "**Resposta:**\n",
        "\n",
        "**Resumo dos Pressupostos do Segundo Modelo:**\n",
        "\n",
        "- **Normalidade dos Resíduos:**\n",
        "  - Os resíduos do modelo polinomial não seguem uma distribuição normal, violando o pressuposto de normalidade. No entanto, a distribuição dos resíduos é mais próxima da normalidade comparada ao modelo linear.\n",
        "\n",
        "- **Autocorrelação dos Resíduos:**\n",
        "  - Existe alguma autocorrelação positiva nos resíduos, mas é menos acentuada do que no modelo linear.\n",
        "\n",
        "- **Heterocedasticidade dos Resíduos:**\n",
        "  - Não há evidência de heterocedasticidade, indicando que este pressuposto é atendido.\n",
        "\n",
        "**Comparação dos Resultados dos Pressupostos entre os Dois Modelos:**\n",
        "\n",
        "O modelo polinomial mostra melhorias em relação ao modelo linear, especialmente na redução da autocorrelação dos resíduos."
      ],
      "metadata": {
        "id": "guLKvwXqM2Hl"
      }
    },
    {
      "cell_type": "markdown",
      "metadata": {
        "id": "BP78Fgq905B9"
      },
      "source": [
        "## 12:  Utilize alguma das métricas de Regressão para comparar os modelos e dizer qual obteve uma performance melhor. Caso possível tente explicar o motivo."
      ]
    },
    {
      "cell_type": "code",
      "execution_count": null,
      "metadata": {
        "id": "SDHsAMn305B9"
      },
      "outputs": [],
      "source": [
        "# Resíduos dos modelos\n",
        "res_linear = y_cal_housing - y_linear_pred\n",
        "res_poly = y_cal_housing - y_poly_pred"
      ]
    },
    {
      "cell_type": "markdown",
      "source": [
        "A distribuição dos resíduos do modelo polinomial é bem centralizada, variando entre -2 e 2. Em contraste, os resíduos do modelo linear simples estão mais concentrados à esquerda, entre 0 e -2.\n",
        "\n",
        "Essa configuração sugere que o modelo polinomial se ajusta melhor aos dados em comparação ao modelo linear simples."
      ],
      "metadata": {
        "id": "NUuanf-8Nqtq"
      }
    },
    {
      "cell_type": "code",
      "source": [
        "# Plotar histogramas dos resíduos\n",
        "import matplotlib.pyplot as plt\n",
        "import seaborn as sns\n",
        "\n",
        "plt.figure(figsize=(12, 6))\n",
        "plt.subplot(1, 2, 1)\n",
        "sns.histplot(res_linear, kde=True)\n",
        "plt.title(\"Resíduos do Modelo Linear\")\n",
        "\n",
        "plt.subplot(1, 2, 2)\n",
        "sns.histplot(res_poly, kde=True)\n",
        "plt.title(\"Resíduos do Modelo Polinomial\")\n",
        "plt.show()"
      ],
      "metadata": {
        "colab": {
          "base_uri": "https://localhost:8080/",
          "height": 564
        },
        "id": "laGlBF8SNxLv",
        "outputId": "e1a4d318-9312-4b21-f145-f5999f38b464"
      },
      "execution_count": null,
      "outputs": [
        {
          "output_type": "display_data",
          "data": {
            "text/plain": [
              "<Figure size 1200x600 with 2 Axes>"
            ],
            "image/png": "[encoded data removed]"
          },
          "metadata": {}
        }
      ]
    },
    {
      "cell_type": "code",
      "source": [
        "from sklearn.metrics import mean_squared_error, mean_absolute_error, r2_score\n",
        "import statsmodels.api as sm"
      ],
      "metadata": {
        "id": "KWMmAqOcN0wm"
      },
      "execution_count": null,
      "outputs": []
    },
    {
      "cell_type": "code",
      "source": [
        "# Calcular R² Ajustado\n",
        "n = len(y_cal_housing)\n",
        "p_linear = X_cal_housing.shape[1]\n",
        "p_poly = X_poly.shape[1]\n",
        "\n",
        "r2_adj_linear = 1 - (1 - r2_linear) * (n - 1) / (n - p_linear - 1)\n",
        "r2_adj_poly = 1 - (1 - r2_poly) * (n - 1) / (n - p_poly - 1)\n",
        "\n",
        "# Calcular RMSE\n",
        "rmse_linear = np.sqrt(mse_linear)\n",
        "rmse_poly = np.sqrt(mse_poly)\n",
        "\n",
        "# Calcular MAE\n",
        "mae_linear = mean_absolute_error(y_cal_housing, y_linear_pred)\n",
        "mae_poly = mean_absolute_error(y_cal_housing, y_poly_pred)\n",
        "\n",
        "# Exibir os resultados\n",
        "print(\"Linear Model\")\n",
        "print(\"R²:\", r2_linear)\n",
        "print(\"R² Ajustado:\", r2_adj_linear)\n",
        "print(\"MSE:\", mse_linear)\n",
        "print(\"RMSE:\", rmse_linear)\n",
        "print(\"MAE:\", mae_linear)\n",
        "\n",
        "print(\"\\nPolynomial Model\")\n",
        "print(\"R²:\", r2_poly)\n",
        "print(\"R² Ajustado:\", r2_adj_poly)\n",
        "print(\"MSE:\", mse_poly)\n",
        "print(\"RMSE:\", rmse_poly)\n",
        "print(\"MAE:\", mae_poly)"
      ],
      "metadata": {
        "colab": {
          "base_uri": "https://localhost:8080/"
        },
        "id": "QLD2invRN45y",
        "outputId": "6311dfcf-b1e1-4290-b152-231ffc2f5c4a"
      },
      "execution_count": null,
      "outputs": [
        {
          "output_type": "stream",
          "name": "stdout",
          "text": [
            "Linear Model\n",
            "R²: 0.6062193051855558\n",
            "R² Ajustado: 0.6060857037478037\n",
            "MSE: 0.5243388023465959\n",
            "RMSE: 0.7241124238311313\n",
            "MAE: 0.5311838798132957\n",
            "\n",
            "Polynomial Model\n",
            "R²: 0.6747848212172742\n",
            "R² Ajustado: 0.6742323784266804\n",
            "MSE: 0.43304036889929715\n",
            "RMSE: 0.6580580285197477\n",
            "MAE: 0.4678858805300057\n"
          ]
        }
      ]
    },
    {
      "cell_type": "markdown",
      "source": [
        "**Resposta:**\n",
        "\n",
        "**Comparação das Métricas dos Modelos**\n",
        "\n",
        "- **R² e R² Ajustado:**\n",
        "  - O modelo polinomial apresenta valores mais altos de R² e R² ajustado em comparação ao modelo linear, indicando uma maior capacidade de explicar as variações nos preços das casas.\n",
        "\n",
        "- **MSE e RMSE:**\n",
        "  - O modelo polinomial possui valores menores de MSE e RMSE do que o modelo linear, sugerindo que os erros nas previsões são menores.\n",
        "\n",
        "- **MAE:**\n",
        "  - O modelo polinomial também tem um MAE mais baixo, mostrando que os erros absolutos médios são menores.\n",
        "\n",
        "**Conclusão**\n",
        "\n",
        "O modelo polinomial de grau 2 se ajusta melhor aos dados do que o modelo linear simples pelas seguintes razões:\n",
        "\n",
        "- Explica uma parte maior da variação nos preços das casas, como demonstrado pelos valores mais altos de R² e R² ajustado.\n",
        "- Apresenta menores erros nas previsões, conforme indicado pelos menores valores de MSE, RMSE e MAE.\n",
        "\n",
        "Portanto, com base nas métricas analisadas, podemos concluir que o modelo de regressão polinomial é mais apropriado para prever os preços médios das casas no conjunto de dados."
      ],
      "metadata": {
        "id": "ZHgkOh5aOeZc"
      }
    }
  ],
  "metadata": {
    "colab": {
      "provenance": []
    },
    "kernelspec": {
      "display_name": "Python 3",
      "name": "python3"
    },
    "language_info": {
      "codemirror_mode": {
        "name": "ipython",
        "version": 3
      },
      "file_extension": ".py",
      "mimetype": "text/x-python",
      "name": "python",
      "nbconvert_exporter": "python",
      "pygments_lexer": "ipython3",
      "version": "3.10.8"
    }
  },
  "nbformat": 4,
  "nbformat_minor": 0
}